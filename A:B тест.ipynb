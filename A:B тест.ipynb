{
 "cells": [
  {
   "cell_type": "markdown",
   "metadata": {},
   "source": [
    "# A/B тест\n",
    "\n",
    "# ОПИСАНИЕ ДАННЫХ\n",
    "\n",
    "# Описание hypothesis:\n",
    "\n",
    "Hypothesis — краткое описание гипотезы;\n",
    "\n",
    "Reach — охват пользователей по 10-балльной шкале;\n",
    "\n",
    "Impact — влияние на пользователей по 10-балльной шкале;\n",
    "\n",
    "Confidence — уверенность в гипотезе по 10-балльной шкале;\n",
    "\n",
    "Efforts — затраты ресурсов на проверку гипотезы по 10-балльной шкале. Чем больше значение Efforts, тем дороже проверка гипотезы.\n",
    "\n",
    "\n",
    "# ОПИСАНИЕ orders:\n",
    "\n",
    "transactionId — идентификатор заказа;\n",
    "\n",
    "visitorId — идентификатор пользователя, совершившего заказ;\n",
    "\n",
    "date — дата, когда был совершён заказ;\n",
    "\n",
    "revenue — выручка заказа;\n",
    "\n",
    "group — группа A/B-теста, в которую попал заказ.\n",
    "\n",
    "# Описание visitors:\n",
    "\n",
    "date — дата;\n",
    "\n",
    "group — группа A/B-теста;\n",
    "\n",
    "visitors — количество пользователей в указанную дату в указанной группе A/B-теста"
   ]
  },
  {
   "cell_type": "markdown",
   "metadata": {},
   "source": [
    "# Часть 1.\n",
    "\n",
    "Применим фреймворк ICE для приоритизации гипотез. Отсортируем их по убыванию приоритета.\n",
    "\n",
    "Применим фреймворк RICE для приоритизации гипотез. Отсортируем их по убыванию приоритета.\n",
    "\n",
    "# Часть 2. \n",
    "\n",
    "Проанализирем A/B-тест:\n",
    "\n",
    "Построим график кумулятивной выручки по группам.\n",
    "\n",
    "Построим график кумулятивного среднего чека по группам. \n",
    "\n",
    "Построим график относительного изменения кумулятивного среднего чека группы B к группе A. \n",
    "\n",
    "Построим график кумулятивной конверсии по группам. \n",
    "\n",
    "Построим график относительного изменения кумулятивной конверсии группы B к группе A. \n",
    "\n",
    "Построим точечный график количества заказов по пользователям.\n",
    "\n",
    "Посчитаем 95-й и 99-й перцентили количества заказов на пользователя. Выберем границу для определения аномальных пользователей.\n",
    "\n",
    "Построим точечный график стоимостей заказов. \n",
    "\n",
    "Посчитаем 95-й и 99-й перцентили стоимости заказов. Выберем границу для определения аномальных заказов.\n",
    "\n",
    "Посчитаем статистическую значимость различий в конверсии между группами по «сырым» данным. \n",
    "\n",
    "Посчитаем статистическую значимость различий в среднем чеке заказа между группами по «сырым» данным. \n",
    "\n",
    "Посчитаем статистическую значимость различий в конверсии между группами по «очищенным» данным.\n",
    "\n",
    "Посчитаем статистическую значимость различий в среднем чеке заказа между группами по «очищенным» данным. \n",
    "\n",
    "Примем решение по результатам теста."
   ]
  },
  {
   "cell_type": "code",
   "execution_count": 1,
   "metadata": {},
   "outputs": [],
   "source": [
    "import pandas as pd\n",
    "import numpy as np\n",
    "import seaborn as sns\n",
    "sns.set(rc={'figure.figsize':(10, 8)})\n",
    "import matplotlib.pyplot as plt\n",
    "import scipy.stats as stats\n",
    "from scipy import stats as st\n",
    "import math\n"
   ]
  },
  {
   "cell_type": "code",
   "execution_count": 2,
   "metadata": {},
   "outputs": [],
   "source": [
    "pd.set_option('display.max_columns', None)\n",
    "pd.options.display.float_format = '{:,.2f}'.format\n"
   ]
  },
  {
   "cell_type": "code",
   "execution_count": 3,
   "metadata": {},
   "outputs": [],
   "source": [
    "hypothesis = pd.read_csv('/datasets/hypothesis.csv')\n",
    "orders = pd.read_csv('/datasets/orders.csv')\n",
    "visitors = pd.read_csv('/datasets/visitors.csv')"
   ]
  },
  {
   "cell_type": "code",
   "execution_count": 4,
   "metadata": {},
   "outputs": [],
   "source": [
    "pd.set_option('display.max_colwidth', 0)"
   ]
  },
  {
   "cell_type": "code",
   "execution_count": 5,
   "metadata": {
    "scrolled": true
   },
   "outputs": [
    {
     "data": {
      "text/html": [
       "<div>\n",
       "<style scoped>\n",
       "    .dataframe tbody tr th:only-of-type {\n",
       "        vertical-align: middle;\n",
       "    }\n",
       "\n",
       "    .dataframe tbody tr th {\n",
       "        vertical-align: top;\n",
       "    }\n",
       "\n",
       "    .dataframe thead th {\n",
       "        text-align: right;\n",
       "    }\n",
       "</style>\n",
       "<table border=\"1\" class=\"dataframe\">\n",
       "  <thead>\n",
       "    <tr style=\"text-align: right;\">\n",
       "      <th></th>\n",
       "      <th>Hypothesis</th>\n",
       "      <th>Reach</th>\n",
       "      <th>Impact</th>\n",
       "      <th>Confidence</th>\n",
       "      <th>Efforts</th>\n",
       "    </tr>\n",
       "  </thead>\n",
       "  <tbody>\n",
       "    <tr>\n",
       "      <th>0</th>\n",
       "      <td>Добавить два новых канала привлечения трафика, что позволит привлекать на 30% больше пользователей</td>\n",
       "      <td>3</td>\n",
       "      <td>10</td>\n",
       "      <td>8</td>\n",
       "      <td>6</td>\n",
       "    </tr>\n",
       "    <tr>\n",
       "      <th>1</th>\n",
       "      <td>Запустить собственную службу доставки, что сократит срок доставки заказов</td>\n",
       "      <td>2</td>\n",
       "      <td>5</td>\n",
       "      <td>4</td>\n",
       "      <td>10</td>\n",
       "    </tr>\n",
       "    <tr>\n",
       "      <th>2</th>\n",
       "      <td>Добавить блоки рекомендаций товаров на сайт интернет магазина, чтобы повысить конверсию и средний чек заказа</td>\n",
       "      <td>8</td>\n",
       "      <td>3</td>\n",
       "      <td>7</td>\n",
       "      <td>3</td>\n",
       "    </tr>\n",
       "    <tr>\n",
       "      <th>3</th>\n",
       "      <td>Изменить структура категорий, что увеличит конверсию, т.к. пользователи быстрее найдут нужный товар</td>\n",
       "      <td>8</td>\n",
       "      <td>3</td>\n",
       "      <td>3</td>\n",
       "      <td>8</td>\n",
       "    </tr>\n",
       "    <tr>\n",
       "      <th>4</th>\n",
       "      <td>Изменить цвет фона главной страницы, чтобы увеличить вовлеченность пользователей</td>\n",
       "      <td>3</td>\n",
       "      <td>1</td>\n",
       "      <td>1</td>\n",
       "      <td>1</td>\n",
       "    </tr>\n",
       "  </tbody>\n",
       "</table>\n",
       "</div>"
      ],
      "text/plain": [
       "                                                                                                     Hypothesis  \\\n",
       "0  Добавить два новых канала привлечения трафика, что позволит привлекать на 30% больше пользователей             \n",
       "1  Запустить собственную службу доставки, что сократит срок доставки заказов                                      \n",
       "2  Добавить блоки рекомендаций товаров на сайт интернет магазина, чтобы повысить конверсию и средний чек заказа   \n",
       "3  Изменить структура категорий, что увеличит конверсию, т.к. пользователи быстрее найдут нужный товар            \n",
       "4  Изменить цвет фона главной страницы, чтобы увеличить вовлеченность пользователей                               \n",
       "\n",
       "   Reach  Impact  Confidence  Efforts  \n",
       "0  3      10      8           6        \n",
       "1  2      5       4           10       \n",
       "2  8      3       7           3        \n",
       "3  8      3       3           8        \n",
       "4  3      1       1           1        "
      ]
     },
     "execution_count": 5,
     "metadata": {},
     "output_type": "execute_result"
    }
   ],
   "source": [
    "hypothesis.head()"
   ]
  },
  {
   "cell_type": "code",
   "execution_count": 6,
   "metadata": {},
   "outputs": [
    {
     "data": {
      "text/plain": [
       "0"
      ]
     },
     "execution_count": 6,
     "metadata": {},
     "output_type": "execute_result"
    }
   ],
   "source": [
    "hypothesis.duplicated().sum()"
   ]
  },
  {
   "cell_type": "code",
   "execution_count": 7,
   "metadata": {},
   "outputs": [
    {
     "data": {
      "text/html": [
       "<div>\n",
       "<style scoped>\n",
       "    .dataframe tbody tr th:only-of-type {\n",
       "        vertical-align: middle;\n",
       "    }\n",
       "\n",
       "    .dataframe tbody tr th {\n",
       "        vertical-align: top;\n",
       "    }\n",
       "\n",
       "    .dataframe thead th {\n",
       "        text-align: right;\n",
       "    }\n",
       "</style>\n",
       "<table border=\"1\" class=\"dataframe\">\n",
       "  <thead>\n",
       "    <tr style=\"text-align: right;\">\n",
       "      <th></th>\n",
       "      <th>transactionId</th>\n",
       "      <th>visitorId</th>\n",
       "      <th>date</th>\n",
       "      <th>revenue</th>\n",
       "      <th>group</th>\n",
       "    </tr>\n",
       "  </thead>\n",
       "  <tbody>\n",
       "    <tr>\n",
       "      <th>0</th>\n",
       "      <td>3667963787</td>\n",
       "      <td>3312258926</td>\n",
       "      <td>2019-08-15</td>\n",
       "      <td>1650</td>\n",
       "      <td>B</td>\n",
       "    </tr>\n",
       "    <tr>\n",
       "      <th>1</th>\n",
       "      <td>2804400009</td>\n",
       "      <td>3642806036</td>\n",
       "      <td>2019-08-15</td>\n",
       "      <td>730</td>\n",
       "      <td>B</td>\n",
       "    </tr>\n",
       "    <tr>\n",
       "      <th>2</th>\n",
       "      <td>2961555356</td>\n",
       "      <td>4069496402</td>\n",
       "      <td>2019-08-15</td>\n",
       "      <td>400</td>\n",
       "      <td>A</td>\n",
       "    </tr>\n",
       "    <tr>\n",
       "      <th>3</th>\n",
       "      <td>3797467345</td>\n",
       "      <td>1196621759</td>\n",
       "      <td>2019-08-15</td>\n",
       "      <td>9759</td>\n",
       "      <td>B</td>\n",
       "    </tr>\n",
       "    <tr>\n",
       "      <th>4</th>\n",
       "      <td>2282983706</td>\n",
       "      <td>2322279887</td>\n",
       "      <td>2019-08-15</td>\n",
       "      <td>2308</td>\n",
       "      <td>B</td>\n",
       "    </tr>\n",
       "  </tbody>\n",
       "</table>\n",
       "</div>"
      ],
      "text/plain": [
       "   transactionId   visitorId        date  revenue group\n",
       "0  3667963787     3312258926  2019-08-15  1650     B   \n",
       "1  2804400009     3642806036  2019-08-15  730      B   \n",
       "2  2961555356     4069496402  2019-08-15  400      A   \n",
       "3  3797467345     1196621759  2019-08-15  9759     B   \n",
       "4  2282983706     2322279887  2019-08-15  2308     B   "
      ]
     },
     "execution_count": 7,
     "metadata": {},
     "output_type": "execute_result"
    }
   ],
   "source": [
    "orders.head()"
   ]
  },
  {
   "cell_type": "code",
   "execution_count": 8,
   "metadata": {},
   "outputs": [
    {
     "data": {
      "text/plain": [
       "0"
      ]
     },
     "execution_count": 8,
     "metadata": {},
     "output_type": "execute_result"
    }
   ],
   "source": [
    "orders.duplicated().sum()"
   ]
  },
  {
   "cell_type": "code",
   "execution_count": 9,
   "metadata": {},
   "outputs": [
    {
     "data": {
      "text/html": [
       "<div>\n",
       "<style scoped>\n",
       "    .dataframe tbody tr th:only-of-type {\n",
       "        vertical-align: middle;\n",
       "    }\n",
       "\n",
       "    .dataframe tbody tr th {\n",
       "        vertical-align: top;\n",
       "    }\n",
       "\n",
       "    .dataframe thead th {\n",
       "        text-align: right;\n",
       "    }\n",
       "</style>\n",
       "<table border=\"1\" class=\"dataframe\">\n",
       "  <thead>\n",
       "    <tr style=\"text-align: right;\">\n",
       "      <th></th>\n",
       "      <th>date</th>\n",
       "      <th>group</th>\n",
       "      <th>visitors</th>\n",
       "    </tr>\n",
       "  </thead>\n",
       "  <tbody>\n",
       "    <tr>\n",
       "      <th>0</th>\n",
       "      <td>2019-08-01</td>\n",
       "      <td>A</td>\n",
       "      <td>719</td>\n",
       "    </tr>\n",
       "    <tr>\n",
       "      <th>1</th>\n",
       "      <td>2019-08-02</td>\n",
       "      <td>A</td>\n",
       "      <td>619</td>\n",
       "    </tr>\n",
       "    <tr>\n",
       "      <th>2</th>\n",
       "      <td>2019-08-03</td>\n",
       "      <td>A</td>\n",
       "      <td>507</td>\n",
       "    </tr>\n",
       "    <tr>\n",
       "      <th>3</th>\n",
       "      <td>2019-08-04</td>\n",
       "      <td>A</td>\n",
       "      <td>717</td>\n",
       "    </tr>\n",
       "    <tr>\n",
       "      <th>4</th>\n",
       "      <td>2019-08-05</td>\n",
       "      <td>A</td>\n",
       "      <td>756</td>\n",
       "    </tr>\n",
       "  </tbody>\n",
       "</table>\n",
       "</div>"
      ],
      "text/plain": [
       "         date group  visitors\n",
       "0  2019-08-01  A     719     \n",
       "1  2019-08-02  A     619     \n",
       "2  2019-08-03  A     507     \n",
       "3  2019-08-04  A     717     \n",
       "4  2019-08-05  A     756     "
      ]
     },
     "execution_count": 9,
     "metadata": {},
     "output_type": "execute_result"
    }
   ],
   "source": [
    "visitors.head()"
   ]
  },
  {
   "cell_type": "code",
   "execution_count": 10,
   "metadata": {},
   "outputs": [
    {
     "data": {
      "text/plain": [
       "0"
      ]
     },
     "execution_count": 10,
     "metadata": {},
     "output_type": "execute_result"
    }
   ],
   "source": [
    "visitors.duplicated().sum()"
   ]
  },
  {
   "cell_type": "code",
   "execution_count": 11,
   "metadata": {},
   "outputs": [],
   "source": [
    "orders['date'] = pd.to_datetime(orders['date'])\n",
    "visitors['date'] = pd.to_datetime(visitors['date'])"
   ]
  },
  {
   "cell_type": "code",
   "execution_count": 12,
   "metadata": {},
   "outputs": [
    {
     "data": {
      "text/plain": [
       "0"
      ]
     },
     "execution_count": 12,
     "metadata": {},
     "output_type": "execute_result"
    }
   ],
   "source": [
    "orders['transactionId'].duplicated().sum()"
   ]
  },
  {
   "cell_type": "code",
   "execution_count": 13,
   "metadata": {},
   "outputs": [
    {
     "data": {
      "text/plain": [
       "1197"
      ]
     },
     "execution_count": 13,
     "metadata": {},
     "output_type": "execute_result"
    }
   ],
   "source": [
    "orders['transactionId'].count()"
   ]
  },
  {
   "cell_type": "code",
   "execution_count": 14,
   "metadata": {},
   "outputs": [
    {
     "data": {
      "text/plain": [
       "557"
      ]
     },
     "execution_count": 14,
     "metadata": {},
     "output_type": "execute_result"
    }
   ],
   "source": [
    "orders[orders['group'] == 'A']['transactionId'].count()"
   ]
  },
  {
   "cell_type": "code",
   "execution_count": 15,
   "metadata": {},
   "outputs": [
    {
     "data": {
      "text/plain": [
       "640"
      ]
     },
     "execution_count": 15,
     "metadata": {},
     "output_type": "execute_result"
    }
   ],
   "source": [
    "orders[orders['group'] == 'B']['transactionId'].count()"
   ]
  },
  {
   "cell_type": "code",
   "execution_count": 16,
   "metadata": {},
   "outputs": [
    {
     "data": {
      "text/plain": [
       "166"
      ]
     },
     "execution_count": 16,
     "metadata": {},
     "output_type": "execute_result"
    }
   ],
   "source": [
    "orders['visitorId'].duplicated().sum()"
   ]
  },
  {
   "cell_type": "code",
   "execution_count": 17,
   "metadata": {},
   "outputs": [
    {
     "data": {
      "text/plain": [
       "503"
      ]
     },
     "execution_count": 17,
     "metadata": {},
     "output_type": "execute_result"
    }
   ],
   "source": [
    "orders[orders['group'] == 'A']['visitorId'].nunique()"
   ]
  },
  {
   "cell_type": "code",
   "execution_count": 18,
   "metadata": {},
   "outputs": [
    {
     "data": {
      "text/plain": [
       "54"
      ]
     },
     "execution_count": 18,
     "metadata": {},
     "output_type": "execute_result"
    }
   ],
   "source": [
    "orders[orders['group'] == 'A']['visitorId'].duplicated().sum()"
   ]
  },
  {
   "cell_type": "code",
   "execution_count": 19,
   "metadata": {},
   "outputs": [
    {
     "data": {
      "text/plain": [
       "0"
      ]
     },
     "execution_count": 19,
     "metadata": {},
     "output_type": "execute_result"
    }
   ],
   "source": [
    "orders[(orders['group'] == 'A') & (orders['group'] == 'B')]['visitorId'].duplicated().sum()"
   ]
  },
  {
   "cell_type": "code",
   "execution_count": 20,
   "metadata": {},
   "outputs": [
    {
     "data": {
      "text/plain": [
       "586"
      ]
     },
     "execution_count": 20,
     "metadata": {},
     "output_type": "execute_result"
    }
   ],
   "source": [
    "orders[orders['group'] == 'B']['visitorId'].nunique()"
   ]
  },
  {
   "cell_type": "code",
   "execution_count": 21,
   "metadata": {},
   "outputs": [
    {
     "data": {
      "text/plain": [
       "54"
      ]
     },
     "execution_count": 21,
     "metadata": {},
     "output_type": "execute_result"
    }
   ],
   "source": [
    "orders[orders['group'] == 'B']['visitorId'].duplicated().sum()"
   ]
  },
  {
   "cell_type": "markdown",
   "metadata": {},
   "source": [
    "В группе B, заказов больше чем в группе А, разница в 83 заказа, не малая!Дубликаатов по заказам, пользователей так же больше в группе B на 83, есть 166 дубликатов среди пользователей,и по 54 в каждой группе, но это не меняет факт того,что в группе B все также остается на 83 пользователя больше!"
   ]
  },
  {
   "cell_type": "markdown",
   "metadata": {},
   "source": [
    "# Применим фреймворк ICE для приоритизации гипотез. Отсортируем их по убыванию приоритета."
   ]
  },
  {
   "cell_type": "code",
   "execution_count": 22,
   "metadata": {},
   "outputs": [],
   "source": [
    "hypothesis['ICE'] = hypothesis['Impact'] * hypothesis['Confidence'] / hypothesis['Efforts']"
   ]
  },
  {
   "cell_type": "code",
   "execution_count": 23,
   "metadata": {},
   "outputs": [
    {
     "data": {
      "text/html": [
       "<div>\n",
       "<style scoped>\n",
       "    .dataframe tbody tr th:only-of-type {\n",
       "        vertical-align: middle;\n",
       "    }\n",
       "\n",
       "    .dataframe tbody tr th {\n",
       "        vertical-align: top;\n",
       "    }\n",
       "\n",
       "    .dataframe thead th {\n",
       "        text-align: right;\n",
       "    }\n",
       "</style>\n",
       "<table border=\"1\" class=\"dataframe\">\n",
       "  <thead>\n",
       "    <tr style=\"text-align: right;\">\n",
       "      <th></th>\n",
       "      <th>Hypothesis</th>\n",
       "      <th>Reach</th>\n",
       "      <th>Impact</th>\n",
       "      <th>Confidence</th>\n",
       "      <th>Efforts</th>\n",
       "      <th>ICE</th>\n",
       "    </tr>\n",
       "  </thead>\n",
       "  <tbody>\n",
       "    <tr>\n",
       "      <th>8</th>\n",
       "      <td>Запустить акцию, дающую скидку на товар в день рождения</td>\n",
       "      <td>1</td>\n",
       "      <td>9</td>\n",
       "      <td>9</td>\n",
       "      <td>5</td>\n",
       "      <td>16.20</td>\n",
       "    </tr>\n",
       "    <tr>\n",
       "      <th>0</th>\n",
       "      <td>Добавить два новых канала привлечения трафика, что позволит привлекать на 30% больше пользователей</td>\n",
       "      <td>3</td>\n",
       "      <td>10</td>\n",
       "      <td>8</td>\n",
       "      <td>6</td>\n",
       "      <td>13.33</td>\n",
       "    </tr>\n",
       "    <tr>\n",
       "      <th>7</th>\n",
       "      <td>Добавить форму подписки на все основные страницы, чтобы собрать базу клиентов для email-рассылок</td>\n",
       "      <td>10</td>\n",
       "      <td>7</td>\n",
       "      <td>8</td>\n",
       "      <td>5</td>\n",
       "      <td>11.20</td>\n",
       "    </tr>\n",
       "    <tr>\n",
       "      <th>6</th>\n",
       "      <td>Показать на главной странице баннеры с актуальными акциями и распродажами, чтобы увеличить конверсию</td>\n",
       "      <td>5</td>\n",
       "      <td>3</td>\n",
       "      <td>8</td>\n",
       "      <td>3</td>\n",
       "      <td>8.00</td>\n",
       "    </tr>\n",
       "    <tr>\n",
       "      <th>2</th>\n",
       "      <td>Добавить блоки рекомендаций товаров на сайт интернет магазина, чтобы повысить конверсию и средний чек заказа</td>\n",
       "      <td>8</td>\n",
       "      <td>3</td>\n",
       "      <td>7</td>\n",
       "      <td>3</td>\n",
       "      <td>7.00</td>\n",
       "    </tr>\n",
       "  </tbody>\n",
       "</table>\n",
       "</div>"
      ],
      "text/plain": [
       "                                                                                                     Hypothesis  \\\n",
       "8  Запустить акцию, дающую скидку на товар в день рождения                                                        \n",
       "0  Добавить два новых канала привлечения трафика, что позволит привлекать на 30% больше пользователей             \n",
       "7  Добавить форму подписки на все основные страницы, чтобы собрать базу клиентов для email-рассылок               \n",
       "6  Показать на главной странице баннеры с актуальными акциями и распродажами, чтобы увеличить конверсию           \n",
       "2  Добавить блоки рекомендаций товаров на сайт интернет магазина, чтобы повысить конверсию и средний чек заказа   \n",
       "\n",
       "   Reach  Impact  Confidence  Efforts   ICE  \n",
       "8  1      9       9           5       16.20  \n",
       "0  3      10      8           6       13.33  \n",
       "7  10     7       8           5       11.20  \n",
       "6  5      3       8           3       8.00   \n",
       "2  8      3       7           3       7.00   "
      ]
     },
     "execution_count": 23,
     "metadata": {},
     "output_type": "execute_result"
    }
   ],
   "source": [
    "hypothesis.sort_values('ICE', ascending=False).head()"
   ]
  },
  {
   "cell_type": "code",
   "execution_count": 24,
   "metadata": {},
   "outputs": [
    {
     "data": {
      "image/png": "[encoded data removed]",
      "text/plain": [
       "<Figure size 720x576 with 1 Axes>"
      ]
     },
     "metadata": {},
     "output_type": "display_data"
    }
   ],
   "source": [
    "ax = hypothesis[['Hypothesis', 'ICE']].set_index('Hypothesis').sort_values('ICE', ascending=False).plot(kind='barh')\n",
    "ax.set_xlabel('Приоритет')\n",
    "ax.set_ylabel('Гипотеза')\n",
    "ax.set_title('ICE')\n",
    "plt.show()"
   ]
  },
  {
   "cell_type": "markdown",
   "metadata": {},
   "source": [
    "# Применим фреймворк RICE для приоритизации гипотез. Отсортируйте их по убыванию приоритета"
   ]
  },
  {
   "cell_type": "code",
   "execution_count": 25,
   "metadata": {},
   "outputs": [],
   "source": [
    "hypothesis['RICE'] = hypothesis['Reach'] * hypothesis['Impact'] * hypothesis['Confidence']/ hypothesis['Efforts']"
   ]
  },
  {
   "cell_type": "code",
   "execution_count": 26,
   "metadata": {},
   "outputs": [
    {
     "data": {
      "text/html": [
       "<div>\n",
       "<style scoped>\n",
       "    .dataframe tbody tr th:only-of-type {\n",
       "        vertical-align: middle;\n",
       "    }\n",
       "\n",
       "    .dataframe tbody tr th {\n",
       "        vertical-align: top;\n",
       "    }\n",
       "\n",
       "    .dataframe thead th {\n",
       "        text-align: right;\n",
       "    }\n",
       "</style>\n",
       "<table border=\"1\" class=\"dataframe\">\n",
       "  <thead>\n",
       "    <tr style=\"text-align: right;\">\n",
       "      <th></th>\n",
       "      <th>Hypothesis</th>\n",
       "      <th>Reach</th>\n",
       "      <th>Impact</th>\n",
       "      <th>Confidence</th>\n",
       "      <th>Efforts</th>\n",
       "      <th>ICE</th>\n",
       "      <th>RICE</th>\n",
       "    </tr>\n",
       "  </thead>\n",
       "  <tbody>\n",
       "    <tr>\n",
       "      <th>7</th>\n",
       "      <td>Добавить форму подписки на все основные страницы, чтобы собрать базу клиентов для email-рассылок</td>\n",
       "      <td>10</td>\n",
       "      <td>7</td>\n",
       "      <td>8</td>\n",
       "      <td>5</td>\n",
       "      <td>11.20</td>\n",
       "      <td>112.00</td>\n",
       "    </tr>\n",
       "    <tr>\n",
       "      <th>2</th>\n",
       "      <td>Добавить блоки рекомендаций товаров на сайт интернет магазина, чтобы повысить конверсию и средний чек заказа</td>\n",
       "      <td>8</td>\n",
       "      <td>3</td>\n",
       "      <td>7</td>\n",
       "      <td>3</td>\n",
       "      <td>7.00</td>\n",
       "      <td>56.00</td>\n",
       "    </tr>\n",
       "    <tr>\n",
       "      <th>0</th>\n",
       "      <td>Добавить два новых канала привлечения трафика, что позволит привлекать на 30% больше пользователей</td>\n",
       "      <td>3</td>\n",
       "      <td>10</td>\n",
       "      <td>8</td>\n",
       "      <td>6</td>\n",
       "      <td>13.33</td>\n",
       "      <td>40.00</td>\n",
       "    </tr>\n",
       "    <tr>\n",
       "      <th>6</th>\n",
       "      <td>Показать на главной странице баннеры с актуальными акциями и распродажами, чтобы увеличить конверсию</td>\n",
       "      <td>5</td>\n",
       "      <td>3</td>\n",
       "      <td>8</td>\n",
       "      <td>3</td>\n",
       "      <td>8.00</td>\n",
       "      <td>40.00</td>\n",
       "    </tr>\n",
       "    <tr>\n",
       "      <th>8</th>\n",
       "      <td>Запустить акцию, дающую скидку на товар в день рождения</td>\n",
       "      <td>1</td>\n",
       "      <td>9</td>\n",
       "      <td>9</td>\n",
       "      <td>5</td>\n",
       "      <td>16.20</td>\n",
       "      <td>16.20</td>\n",
       "    </tr>\n",
       "  </tbody>\n",
       "</table>\n",
       "</div>"
      ],
      "text/plain": [
       "                                                                                                     Hypothesis  \\\n",
       "7  Добавить форму подписки на все основные страницы, чтобы собрать базу клиентов для email-рассылок               \n",
       "2  Добавить блоки рекомендаций товаров на сайт интернет магазина, чтобы повысить конверсию и средний чек заказа   \n",
       "0  Добавить два новых канала привлечения трафика, что позволит привлекать на 30% больше пользователей             \n",
       "6  Показать на главной странице баннеры с актуальными акциями и распродажами, чтобы увеличить конверсию           \n",
       "8  Запустить акцию, дающую скидку на товар в день рождения                                                        \n",
       "\n",
       "   Reach  Impact  Confidence  Efforts   ICE   RICE  \n",
       "7  10     7       8           5       11.20 112.00  \n",
       "2  8      3       7           3       7.00  56.00   \n",
       "0  3      10      8           6       13.33 40.00   \n",
       "6  5      3       8           3       8.00  40.00   \n",
       "8  1      9       9           5       16.20 16.20   "
      ]
     },
     "execution_count": 26,
     "metadata": {},
     "output_type": "execute_result"
    }
   ],
   "source": [
    "hypothesis.sort_values('RICE', ascending=False).head()"
   ]
  },
  {
   "cell_type": "code",
   "execution_count": 27,
   "metadata": {},
   "outputs": [
    {
     "data": {
      "image/png": "[encoded data removed]",
      "text/plain": [
       "<Figure size 720x576 with 1 Axes>"
      ]
     },
     "metadata": {},
     "output_type": "display_data"
    }
   ],
   "source": [
    "ax = hypothesis[['Hypothesis', 'RICE']].set_index('Hypothesis').sort_values('RICE', ascending=False).plot(kind='barh')\n",
    "ax.set_xlabel('Приоритет')\n",
    "ax.set_ylabel('Гипотеза')\n",
    "ax.set_title('ICE')\n",
    "plt.show()"
   ]
  },
  {
   "cell_type": "markdown",
   "metadata": {},
   "source": [
    "# Укажем, как изменилась приоритизация гипотез при применении RICE вместо ICE."
   ]
  },
  {
   "cell_type": "code",
   "execution_count": 28,
   "metadata": {},
   "outputs": [
    {
     "data": {
      "text/html": [
       "<div>\n",
       "<style scoped>\n",
       "    .dataframe tbody tr th:only-of-type {\n",
       "        vertical-align: middle;\n",
       "    }\n",
       "\n",
       "    .dataframe tbody tr th {\n",
       "        vertical-align: top;\n",
       "    }\n",
       "\n",
       "    .dataframe thead th {\n",
       "        text-align: right;\n",
       "    }\n",
       "</style>\n",
       "<table border=\"1\" class=\"dataframe\">\n",
       "  <thead>\n",
       "    <tr style=\"text-align: right;\">\n",
       "      <th></th>\n",
       "      <th>Hypothesis</th>\n",
       "      <th>Reach</th>\n",
       "      <th>Impact</th>\n",
       "      <th>Confidence</th>\n",
       "      <th>Efforts</th>\n",
       "      <th>ICE</th>\n",
       "      <th>RICE</th>\n",
       "    </tr>\n",
       "  </thead>\n",
       "  <tbody>\n",
       "    <tr>\n",
       "      <th>8</th>\n",
       "      <td>Запустить акцию, дающую скидку на товар в день рождения</td>\n",
       "      <td>1</td>\n",
       "      <td>9</td>\n",
       "      <td>9</td>\n",
       "      <td>5</td>\n",
       "      <td>16.20</td>\n",
       "      <td>16.20</td>\n",
       "    </tr>\n",
       "    <tr>\n",
       "      <th>0</th>\n",
       "      <td>Добавить два новых канала привлечения трафика, что позволит привлекать на 30% больше пользователей</td>\n",
       "      <td>3</td>\n",
       "      <td>10</td>\n",
       "      <td>8</td>\n",
       "      <td>6</td>\n",
       "      <td>13.33</td>\n",
       "      <td>40.00</td>\n",
       "    </tr>\n",
       "    <tr>\n",
       "      <th>7</th>\n",
       "      <td>Добавить форму подписки на все основные страницы, чтобы собрать базу клиентов для email-рассылок</td>\n",
       "      <td>10</td>\n",
       "      <td>7</td>\n",
       "      <td>8</td>\n",
       "      <td>5</td>\n",
       "      <td>11.20</td>\n",
       "      <td>112.00</td>\n",
       "    </tr>\n",
       "    <tr>\n",
       "      <th>6</th>\n",
       "      <td>Показать на главной странице баннеры с актуальными акциями и распродажами, чтобы увеличить конверсию</td>\n",
       "      <td>5</td>\n",
       "      <td>3</td>\n",
       "      <td>8</td>\n",
       "      <td>3</td>\n",
       "      <td>8.00</td>\n",
       "      <td>40.00</td>\n",
       "    </tr>\n",
       "    <tr>\n",
       "      <th>2</th>\n",
       "      <td>Добавить блоки рекомендаций товаров на сайт интернет магазина, чтобы повысить конверсию и средний чек заказа</td>\n",
       "      <td>8</td>\n",
       "      <td>3</td>\n",
       "      <td>7</td>\n",
       "      <td>3</td>\n",
       "      <td>7.00</td>\n",
       "      <td>56.00</td>\n",
       "    </tr>\n",
       "  </tbody>\n",
       "</table>\n",
       "</div>"
      ],
      "text/plain": [
       "                                                                                                     Hypothesis  \\\n",
       "8  Запустить акцию, дающую скидку на товар в день рождения                                                        \n",
       "0  Добавить два новых канала привлечения трафика, что позволит привлекать на 30% больше пользователей             \n",
       "7  Добавить форму подписки на все основные страницы, чтобы собрать базу клиентов для email-рассылок               \n",
       "6  Показать на главной странице баннеры с актуальными акциями и распродажами, чтобы увеличить конверсию           \n",
       "2  Добавить блоки рекомендаций товаров на сайт интернет магазина, чтобы повысить конверсию и средний чек заказа   \n",
       "\n",
       "   Reach  Impact  Confidence  Efforts   ICE   RICE  \n",
       "8  1      9       9           5       16.20 16.20   \n",
       "0  3      10      8           6       13.33 40.00   \n",
       "7  10     7       8           5       11.20 112.00  \n",
       "6  5      3       8           3       8.00  40.00   \n",
       "2  8      3       7           3       7.00  56.00   "
      ]
     },
     "execution_count": 28,
     "metadata": {},
     "output_type": "execute_result"
    }
   ],
   "source": [
    "hypothesis.sort_values('ICE', ascending=False).head()\n"
   ]
  },
  {
   "cell_type": "code",
   "execution_count": 29,
   "metadata": {},
   "outputs": [
    {
     "data": {
      "text/html": [
       "<div>\n",
       "<style scoped>\n",
       "    .dataframe tbody tr th:only-of-type {\n",
       "        vertical-align: middle;\n",
       "    }\n",
       "\n",
       "    .dataframe tbody tr th {\n",
       "        vertical-align: top;\n",
       "    }\n",
       "\n",
       "    .dataframe thead th {\n",
       "        text-align: right;\n",
       "    }\n",
       "</style>\n",
       "<table border=\"1\" class=\"dataframe\">\n",
       "  <thead>\n",
       "    <tr style=\"text-align: right;\">\n",
       "      <th></th>\n",
       "      <th>Hypothesis</th>\n",
       "      <th>Reach</th>\n",
       "      <th>Impact</th>\n",
       "      <th>Confidence</th>\n",
       "      <th>Efforts</th>\n",
       "      <th>ICE</th>\n",
       "      <th>RICE</th>\n",
       "    </tr>\n",
       "  </thead>\n",
       "  <tbody>\n",
       "    <tr>\n",
       "      <th>7</th>\n",
       "      <td>Добавить форму подписки на все основные страницы, чтобы собрать базу клиентов для email-рассылок</td>\n",
       "      <td>10</td>\n",
       "      <td>7</td>\n",
       "      <td>8</td>\n",
       "      <td>5</td>\n",
       "      <td>11.20</td>\n",
       "      <td>112.00</td>\n",
       "    </tr>\n",
       "    <tr>\n",
       "      <th>2</th>\n",
       "      <td>Добавить блоки рекомендаций товаров на сайт интернет магазина, чтобы повысить конверсию и средний чек заказа</td>\n",
       "      <td>8</td>\n",
       "      <td>3</td>\n",
       "      <td>7</td>\n",
       "      <td>3</td>\n",
       "      <td>7.00</td>\n",
       "      <td>56.00</td>\n",
       "    </tr>\n",
       "    <tr>\n",
       "      <th>0</th>\n",
       "      <td>Добавить два новых канала привлечения трафика, что позволит привлекать на 30% больше пользователей</td>\n",
       "      <td>3</td>\n",
       "      <td>10</td>\n",
       "      <td>8</td>\n",
       "      <td>6</td>\n",
       "      <td>13.33</td>\n",
       "      <td>40.00</td>\n",
       "    </tr>\n",
       "    <tr>\n",
       "      <th>6</th>\n",
       "      <td>Показать на главной странице баннеры с актуальными акциями и распродажами, чтобы увеличить конверсию</td>\n",
       "      <td>5</td>\n",
       "      <td>3</td>\n",
       "      <td>8</td>\n",
       "      <td>3</td>\n",
       "      <td>8.00</td>\n",
       "      <td>40.00</td>\n",
       "    </tr>\n",
       "    <tr>\n",
       "      <th>8</th>\n",
       "      <td>Запустить акцию, дающую скидку на товар в день рождения</td>\n",
       "      <td>1</td>\n",
       "      <td>9</td>\n",
       "      <td>9</td>\n",
       "      <td>5</td>\n",
       "      <td>16.20</td>\n",
       "      <td>16.20</td>\n",
       "    </tr>\n",
       "  </tbody>\n",
       "</table>\n",
       "</div>"
      ],
      "text/plain": [
       "                                                                                                     Hypothesis  \\\n",
       "7  Добавить форму подписки на все основные страницы, чтобы собрать базу клиентов для email-рассылок               \n",
       "2  Добавить блоки рекомендаций товаров на сайт интернет магазина, чтобы повысить конверсию и средний чек заказа   \n",
       "0  Добавить два новых канала привлечения трафика, что позволит привлекать на 30% больше пользователей             \n",
       "6  Показать на главной странице баннеры с актуальными акциями и распродажами, чтобы увеличить конверсию           \n",
       "8  Запустить акцию, дающую скидку на товар в день рождения                                                        \n",
       "\n",
       "   Reach  Impact  Confidence  Efforts   ICE   RICE  \n",
       "7  10     7       8           5       11.20 112.00  \n",
       "2  8      3       7           3       7.00  56.00   \n",
       "0  3      10      8           6       13.33 40.00   \n",
       "6  5      3       8           3       8.00  40.00   \n",
       "8  1      9       9           5       16.20 16.20   "
      ]
     },
     "execution_count": 29,
     "metadata": {},
     "output_type": "execute_result"
    }
   ],
   "source": [
    "hypothesis.sort_values('RICE', ascending=False).head()"
   ]
  },
  {
   "cell_type": "markdown",
   "metadata": {},
   "source": [
    "Такой результат у нас получился, так как формулы разные, одна учитывает охват, а другая нет"
   ]
  },
  {
   "cell_type": "code",
   "execution_count": 30,
   "metadata": {},
   "outputs": [
    {
     "data": {
      "text/html": [
       "<div>\n",
       "<style scoped>\n",
       "    .dataframe tbody tr th:only-of-type {\n",
       "        vertical-align: middle;\n",
       "    }\n",
       "\n",
       "    .dataframe tbody tr th {\n",
       "        vertical-align: top;\n",
       "    }\n",
       "\n",
       "    .dataframe thead th {\n",
       "        text-align: right;\n",
       "    }\n",
       "</style>\n",
       "<table border=\"1\" class=\"dataframe\">\n",
       "  <thead>\n",
       "    <tr style=\"text-align: right;\">\n",
       "      <th></th>\n",
       "      <th>transactionId</th>\n",
       "      <th>visitorId</th>\n",
       "      <th>date</th>\n",
       "      <th>revenue</th>\n",
       "      <th>group</th>\n",
       "    </tr>\n",
       "  </thead>\n",
       "  <tbody>\n",
       "    <tr>\n",
       "      <th>0</th>\n",
       "      <td>3667963787</td>\n",
       "      <td>3312258926</td>\n",
       "      <td>2019-08-15</td>\n",
       "      <td>1650</td>\n",
       "      <td>B</td>\n",
       "    </tr>\n",
       "    <tr>\n",
       "      <th>1</th>\n",
       "      <td>2804400009</td>\n",
       "      <td>3642806036</td>\n",
       "      <td>2019-08-15</td>\n",
       "      <td>730</td>\n",
       "      <td>B</td>\n",
       "    </tr>\n",
       "    <tr>\n",
       "      <th>2</th>\n",
       "      <td>2961555356</td>\n",
       "      <td>4069496402</td>\n",
       "      <td>2019-08-15</td>\n",
       "      <td>400</td>\n",
       "      <td>A</td>\n",
       "    </tr>\n",
       "    <tr>\n",
       "      <th>3</th>\n",
       "      <td>3797467345</td>\n",
       "      <td>1196621759</td>\n",
       "      <td>2019-08-15</td>\n",
       "      <td>9759</td>\n",
       "      <td>B</td>\n",
       "    </tr>\n",
       "    <tr>\n",
       "      <th>4</th>\n",
       "      <td>2282983706</td>\n",
       "      <td>2322279887</td>\n",
       "      <td>2019-08-15</td>\n",
       "      <td>2308</td>\n",
       "      <td>B</td>\n",
       "    </tr>\n",
       "  </tbody>\n",
       "</table>\n",
       "</div>"
      ],
      "text/plain": [
       "   transactionId   visitorId       date  revenue group\n",
       "0  3667963787     3312258926 2019-08-15  1650     B   \n",
       "1  2804400009     3642806036 2019-08-15  730      B   \n",
       "2  2961555356     4069496402 2019-08-15  400      A   \n",
       "3  3797467345     1196621759 2019-08-15  9759     B   \n",
       "4  2282983706     2322279887 2019-08-15  2308     B   "
      ]
     },
     "execution_count": 30,
     "metadata": {},
     "output_type": "execute_result"
    }
   ],
   "source": [
    "orders.head()"
   ]
  },
  {
   "cell_type": "code",
   "execution_count": 31,
   "metadata": {},
   "outputs": [
    {
     "data": {
      "text/html": [
       "<div>\n",
       "<style scoped>\n",
       "    .dataframe tbody tr th:only-of-type {\n",
       "        vertical-align: middle;\n",
       "    }\n",
       "\n",
       "    .dataframe tbody tr th {\n",
       "        vertical-align: top;\n",
       "    }\n",
       "\n",
       "    .dataframe thead th {\n",
       "        text-align: right;\n",
       "    }\n",
       "</style>\n",
       "<table border=\"1\" class=\"dataframe\">\n",
       "  <thead>\n",
       "    <tr style=\"text-align: right;\">\n",
       "      <th></th>\n",
       "      <th>date</th>\n",
       "      <th>group</th>\n",
       "      <th>visitors</th>\n",
       "    </tr>\n",
       "  </thead>\n",
       "  <tbody>\n",
       "    <tr>\n",
       "      <th>0</th>\n",
       "      <td>2019-08-01</td>\n",
       "      <td>A</td>\n",
       "      <td>719</td>\n",
       "    </tr>\n",
       "    <tr>\n",
       "      <th>1</th>\n",
       "      <td>2019-08-02</td>\n",
       "      <td>A</td>\n",
       "      <td>619</td>\n",
       "    </tr>\n",
       "    <tr>\n",
       "      <th>2</th>\n",
       "      <td>2019-08-03</td>\n",
       "      <td>A</td>\n",
       "      <td>507</td>\n",
       "    </tr>\n",
       "    <tr>\n",
       "      <th>3</th>\n",
       "      <td>2019-08-04</td>\n",
       "      <td>A</td>\n",
       "      <td>717</td>\n",
       "    </tr>\n",
       "    <tr>\n",
       "      <th>4</th>\n",
       "      <td>2019-08-05</td>\n",
       "      <td>A</td>\n",
       "      <td>756</td>\n",
       "    </tr>\n",
       "  </tbody>\n",
       "</table>\n",
       "</div>"
      ],
      "text/plain": [
       "        date group  visitors\n",
       "0 2019-08-01  A     719     \n",
       "1 2019-08-02  A     619     \n",
       "2 2019-08-03  A     507     \n",
       "3 2019-08-04  A     717     \n",
       "4 2019-08-05  A     756     "
      ]
     },
     "execution_count": 31,
     "metadata": {},
     "output_type": "execute_result"
    }
   ],
   "source": [
    "visitors.head()"
   ]
  },
  {
   "cell_type": "code",
   "execution_count": 32,
   "metadata": {},
   "outputs": [],
   "source": [
    "orders.rename(columns={'transactionId':'transactionid','visitorId':'visitirid'}, inplace=True)"
   ]
  },
  {
   "cell_type": "code",
   "execution_count": 33,
   "metadata": {},
   "outputs": [],
   "source": [
    "orders_grouped = (orders.groupby(['date', 'group'], as_index=False)\n",
    "                 .agg({'transactionid':'nunique','visitirid':'nunique','revenue':'sum'}))\\\n",
    "                 .rename(columns={'transactionid':'orders','visitirid':'buyers'})\n"
   ]
  },
  {
   "cell_type": "code",
   "execution_count": 34,
   "metadata": {},
   "outputs": [],
   "source": [
    "orders_grouped['group_copy'] = orders_grouped['group']  \n",
    "orders_grouped = orders_grouped.set_index(['date', 'group'])\n",
    "orders_cumsum = orders_grouped.sort_values(['date','group']).groupby('group_copy').cumsum().reset_index()"
   ]
  },
  {
   "cell_type": "code",
   "execution_count": 35,
   "metadata": {},
   "outputs": [],
   "source": [
    "#посчитаем сумму визитов по дням в каждой группе\n",
    "visitors_cumsum = visitors.groupby(['date', 'group'], as_index=False).agg({'visitors':'sum'}).sort_values(['date', 'group'])\n",
    "#скопируем group что бы провести по ней кумулятивную сумму \n",
    "visitors_cumsum['group_copy'] = visitors_cumsum['group']\n",
    "visitors_cumsum = visitors_cumsum.set_index(['date','group']).groupby('group_copy').cumsum().reset_index()\n",
    "                                                                                                          "
   ]
  },
  {
   "cell_type": "code",
   "execution_count": 36,
   "metadata": {},
   "outputs": [],
   "source": [
    "cummulative = orders_cumsum.join(visitors_cumsum[['visitors']])"
   ]
  },
  {
   "cell_type": "code",
   "execution_count": 37,
   "metadata": {},
   "outputs": [],
   "source": [
    "cummulative['average_check'] = cummulative['revenue'] / cummulative['orders']\n",
    "cummulative['conversion'] = cummulative['orders'] / cummulative['visitors']"
   ]
  },
  {
   "cell_type": "code",
   "execution_count": 38,
   "metadata": {},
   "outputs": [
    {
     "data": {
      "text/html": [
       "<div>\n",
       "<style scoped>\n",
       "    .dataframe tbody tr th:only-of-type {\n",
       "        vertical-align: middle;\n",
       "    }\n",
       "\n",
       "    .dataframe tbody tr th {\n",
       "        vertical-align: top;\n",
       "    }\n",
       "\n",
       "    .dataframe thead th {\n",
       "        text-align: right;\n",
       "    }\n",
       "</style>\n",
       "<table border=\"1\" class=\"dataframe\">\n",
       "  <thead>\n",
       "    <tr style=\"text-align: right;\">\n",
       "      <th></th>\n",
       "      <th>date</th>\n",
       "      <th>group</th>\n",
       "      <th>orders</th>\n",
       "      <th>buyers</th>\n",
       "      <th>revenue</th>\n",
       "      <th>visitors</th>\n",
       "      <th>average_check</th>\n",
       "      <th>conversion</th>\n",
       "    </tr>\n",
       "  </thead>\n",
       "  <tbody>\n",
       "    <tr>\n",
       "      <th>0</th>\n",
       "      <td>2019-08-01</td>\n",
       "      <td>A</td>\n",
       "      <td>24</td>\n",
       "      <td>20</td>\n",
       "      <td>148579</td>\n",
       "      <td>719</td>\n",
       "      <td>6,190.79</td>\n",
       "      <td>0.03</td>\n",
       "    </tr>\n",
       "    <tr>\n",
       "      <th>1</th>\n",
       "      <td>2019-08-01</td>\n",
       "      <td>B</td>\n",
       "      <td>21</td>\n",
       "      <td>20</td>\n",
       "      <td>101217</td>\n",
       "      <td>713</td>\n",
       "      <td>4,819.86</td>\n",
       "      <td>0.03</td>\n",
       "    </tr>\n",
       "    <tr>\n",
       "      <th>2</th>\n",
       "      <td>2019-08-02</td>\n",
       "      <td>A</td>\n",
       "      <td>44</td>\n",
       "      <td>39</td>\n",
       "      <td>242401</td>\n",
       "      <td>1338</td>\n",
       "      <td>5,509.11</td>\n",
       "      <td>0.03</td>\n",
       "    </tr>\n",
       "    <tr>\n",
       "      <th>3</th>\n",
       "      <td>2019-08-02</td>\n",
       "      <td>B</td>\n",
       "      <td>45</td>\n",
       "      <td>43</td>\n",
       "      <td>266748</td>\n",
       "      <td>1294</td>\n",
       "      <td>5,927.73</td>\n",
       "      <td>0.03</td>\n",
       "    </tr>\n",
       "    <tr>\n",
       "      <th>4</th>\n",
       "      <td>2019-08-03</td>\n",
       "      <td>A</td>\n",
       "      <td>68</td>\n",
       "      <td>63</td>\n",
       "      <td>354874</td>\n",
       "      <td>1845</td>\n",
       "      <td>5,218.74</td>\n",
       "      <td>0.04</td>\n",
       "    </tr>\n",
       "  </tbody>\n",
       "</table>\n",
       "</div>"
      ],
      "text/plain": [
       "        date group  orders  buyers  revenue  visitors  average_check  \\\n",
       "0 2019-08-01  A     24      20      148579   719      6,190.79         \n",
       "1 2019-08-01  B     21      20      101217   713      4,819.86         \n",
       "2 2019-08-02  A     44      39      242401   1338     5,509.11         \n",
       "3 2019-08-02  B     45      43      266748   1294     5,927.73         \n",
       "4 2019-08-03  A     68      63      354874   1845     5,218.74         \n",
       "\n",
       "   conversion  \n",
       "0 0.03         \n",
       "1 0.03         \n",
       "2 0.03         \n",
       "3 0.03         \n",
       "4 0.04         "
      ]
     },
     "execution_count": 38,
     "metadata": {},
     "output_type": "execute_result"
    }
   ],
   "source": [
    "cummulative.head()"
   ]
  },
  {
   "cell_type": "markdown",
   "metadata": {},
   "source": [
    "# Построим график кумулятивной выручки по группам. "
   ]
  },
  {
   "cell_type": "code",
   "execution_count": 39,
   "metadata": {},
   "outputs": [
    {
     "data": {
      "image/png": "[encoded data removed]",
      "text/plain": [
       "<Figure size 720x576 with 1 Axes>"
      ]
     },
     "metadata": {},
     "output_type": "display_data"
    }
   ],
   "source": [
    "cummulativeA = cummulative[cummulative['group'] == 'A'][['date', 'revenue']]\n",
    "cummulativeB = cummulative[cummulative['group'] == 'B'][['date', 'revenue']]\n",
    "plt.plot(cummulativeA.iloc[:,0].to_frame(), cummulativeA.iloc[:,1].to_frame(), label='A')\n",
    "plt.plot(cummulativeB.iloc[:,0].to_frame(), cummulativeB.iloc[:,1].to_frame(), label='B')\n",
    "plt.title('График кумулятивной выручки по группам')\n",
    "plt.ylabel('Выручка')\n",
    "plt.xticks(rotation=45)\n",
    "plt.legend()\n",
    "\n",
    "plt.show()"
   ]
  },
  {
   "cell_type": "markdown",
   "metadata": {},
   "source": [
    "В середине теста сегмент В вырвался вперед и прожолжает лидировать весь остаток теста, аномально большие заказы видимо влияют на результаты"
   ]
  },
  {
   "cell_type": "markdown",
   "metadata": {},
   "source": [
    "# Построим график кумулятивного среднего чека по группам. "
   ]
  },
  {
   "cell_type": "code",
   "execution_count": 40,
   "metadata": {
    "scrolled": false
   },
   "outputs": [
    {
     "data": {
      "image/png": "[encoded data removed]",
      "text/plain": [
       "<Figure size 720x576 with 1 Axes>"
      ]
     },
     "metadata": {},
     "output_type": "display_data"
    }
   ],
   "source": [
    "cummulativeA = cummulative[cummulative['group'] == 'A'][['date', 'average_check']]\n",
    "cummulativeB = cummulative[cummulative['group'] == 'B'][['date', 'average_check']]\n",
    "plt.plot(cummulativeA.iloc[:,0].to_frame(), cummulativeA.iloc[:,1].to_frame(), label='A')\n",
    "plt.plot(cummulativeB.iloc[:,0].to_frame(), cummulativeB.iloc[:,1].to_frame(), label='B')\n",
    "plt.title('График кумулятивного среднего чека по группам')\n",
    "plt.ylabel('Выручка')\n",
    "plt.xticks(rotation=45)\n",
    "plt.legend()\n",
    "\n",
    "plt.show()"
   ]
  },
  {
   "cell_type": "markdown",
   "metadata": {},
   "source": [
    "Кумулятивные значения среднего чека по сегментам так же продолжают колебаться, скорее всего нам нужен дополнительный анализ выбросов"
   ]
  },
  {
   "cell_type": "markdown",
   "metadata": {},
   "source": [
    "# Построим график относительного изменения кумулятивного среднего чека группы B к группе A."
   ]
  },
  {
   "cell_type": "code",
   "execution_count": 41,
   "metadata": {},
   "outputs": [
    {
     "data": {
      "image/png": "[encoded data removed]",
      "text/plain": [
       "<Figure size 720x576 with 1 Axes>"
      ]
     },
     "metadata": {},
     "output_type": "display_data"
    }
   ],
   "source": [
    "temp = (cummulativeA[['date', 'average_check']].merge(cummulativeB[['date', 'average_check']],\n",
    "                                                     left_on='date',right_on= 'date', how='left', suffixes=['_A','_B']))\n",
    "plt.plot(temp['date'],temp['average_check_B'] / temp['average_check_A'] - 1)\n",
    "plt.title('График относительного изменения кумулятивного среднего чека группы B к группе А')\n",
    "plt.axhline(y=0, color = 'red', linestyle = '-')\n",
    "plt.xticks(rotation=45)\n",
    "plt.show()\n",
    "\n"
   ]
  },
  {
   "cell_type": "markdown",
   "metadata": {},
   "source": [
    "Результаты теста значительно и резко менялись в некоторые даты, видимо тогда были совершены аномальные заказы"
   ]
  },
  {
   "cell_type": "markdown",
   "metadata": {},
   "source": [
    "# Построим график кумулятивной конверсии по группам."
   ]
  },
  {
   "cell_type": "code",
   "execution_count": 42,
   "metadata": {},
   "outputs": [
    {
     "data": {
      "image/png": "[encoded data removed]",
      "text/plain": [
       "<Figure size 720x576 with 1 Axes>"
      ]
     },
     "metadata": {},
     "output_type": "display_data"
    }
   ],
   "source": [
    "cummulativeA = cummulative[cummulative['group'] == 'A'][['date', 'conversion']]\n",
    "cummulativeB = cummulative[cummulative['group'] == 'B'][['date', 'conversion']]\n",
    "plt.plot(cummulativeA.iloc[:,0].to_frame(), cummulativeA.iloc[:,1].to_frame(), label='A')\n",
    "plt.plot(cummulativeB.iloc[:,0].to_frame(), cummulativeB.iloc[:,1].to_frame(), label='B')\n",
    "plt.title('График кумулятивной конверсии по группам')\n",
    "plt.ylabel('Выручка')\n",
    "plt.xticks(rotation=45)\n",
    "plt.legend()\n",
    "\n",
    "plt.show()"
   ]
  },
  {
   "cell_type": "markdown",
   "metadata": {},
   "source": [
    "На данном этапе конверсия B выглядит намного лучше"
   ]
  },
  {
   "cell_type": "markdown",
   "metadata": {},
   "source": [
    "# Построим график относительного изменения кумулятивной конверсии группы B к группе A."
   ]
  },
  {
   "cell_type": "code",
   "execution_count": 43,
   "metadata": {},
   "outputs": [
    {
     "data": {
      "image/png": "[encoded data removed]",
      "text/plain": [
       "<Figure size 720x576 with 1 Axes>"
      ]
     },
     "metadata": {},
     "output_type": "display_data"
    }
   ],
   "source": [
    "temp = (cummulativeA[['date', 'conversion']].merge(cummulativeB[['date', 'conversion']],\n",
    "                                                     left_on='date',right_on= 'date', how='left', suffixes=['_A','_B']))\n",
    "plt.plot(temp['date'],temp['conversion_B'] / temp['conversion_A'] - 1)\n",
    "plt.title('График относительного изменения кумулятивной конверсии группы B к группе А')\n",
    "plt.axhline(y=0, color = 'red', linestyle = '-')\n",
    "plt.xticks(rotation=45)\n",
    "plt.show()"
   ]
  },
  {
   "cell_type": "markdown",
   "metadata": {},
   "source": [
    "Почти с самого начала теста конверсия группы B лидирует по конверсии"
   ]
  },
  {
   "cell_type": "markdown",
   "metadata": {},
   "source": [
    "# Построим точечный график количества заказов по пользователям."
   ]
  },
  {
   "cell_type": "code",
   "execution_count": 44,
   "metadata": {},
   "outputs": [],
   "source": [
    "orders_per_user = orders.groupby('visitirid', as_index=False).agg({'transactionid':'nunique'})\\\n",
    "                        .rename(columns={'transactionid':'orders'})"
   ]
  },
  {
   "cell_type": "code",
   "execution_count": 45,
   "metadata": {},
   "outputs": [
    {
     "data": {
      "text/html": [
       "<div>\n",
       "<style scoped>\n",
       "    .dataframe tbody tr th:only-of-type {\n",
       "        vertical-align: middle;\n",
       "    }\n",
       "\n",
       "    .dataframe tbody tr th {\n",
       "        vertical-align: top;\n",
       "    }\n",
       "\n",
       "    .dataframe thead th {\n",
       "        text-align: right;\n",
       "    }\n",
       "</style>\n",
       "<table border=\"1\" class=\"dataframe\">\n",
       "  <thead>\n",
       "    <tr style=\"text-align: right;\">\n",
       "      <th></th>\n",
       "      <th>visitirid</th>\n",
       "      <th>orders</th>\n",
       "    </tr>\n",
       "  </thead>\n",
       "  <tbody>\n",
       "    <tr>\n",
       "      <th>0</th>\n",
       "      <td>5114589</td>\n",
       "      <td>1</td>\n",
       "    </tr>\n",
       "    <tr>\n",
       "      <th>1</th>\n",
       "      <td>6958315</td>\n",
       "      <td>1</td>\n",
       "    </tr>\n",
       "    <tr>\n",
       "      <th>2</th>\n",
       "      <td>8300375</td>\n",
       "      <td>2</td>\n",
       "    </tr>\n",
       "    <tr>\n",
       "      <th>3</th>\n",
       "      <td>11685486</td>\n",
       "      <td>1</td>\n",
       "    </tr>\n",
       "    <tr>\n",
       "      <th>4</th>\n",
       "      <td>39475350</td>\n",
       "      <td>1</td>\n",
       "    </tr>\n",
       "  </tbody>\n",
       "</table>\n",
       "</div>"
      ],
      "text/plain": [
       "   visitirid  orders\n",
       "0  5114589    1     \n",
       "1  6958315    1     \n",
       "2  8300375    2     \n",
       "3  11685486   1     \n",
       "4  39475350   1     "
      ]
     },
     "execution_count": 45,
     "metadata": {},
     "output_type": "execute_result"
    }
   ],
   "source": [
    "orders_per_user.head()"
   ]
  },
  {
   "cell_type": "code",
   "execution_count": 46,
   "metadata": {},
   "outputs": [
    {
     "data": {
      "image/png": "[encoded data removed]",
      "text/plain": [
       "<Figure size 720x576 with 1 Axes>"
      ]
     },
     "metadata": {},
     "output_type": "display_data"
    }
   ],
   "source": [
    "x_values = pd.Series(range(0,len(orders_per_user['orders'])))\n",
    "plt.scatter(x_values, orders_per_user['orders'],color='red')\n",
    "plt.show()"
   ]
  },
  {
   "cell_type": "markdown",
   "metadata": {},
   "source": [
    "В основном покупают один раз, не малое количество тех, кто заказывает 2 раза, так же есть пользователи которые заказыват 11 раз"
   ]
  },
  {
   "cell_type": "markdown",
   "metadata": {},
   "source": [
    "# Посчитаем 95-й и 99-й перцентили количества заказов на пользователя. Выберем границу для определения аномальных пользователей."
   ]
  },
  {
   "cell_type": "code",
   "execution_count": 47,
   "metadata": {},
   "outputs": [
    {
     "name": "stdout",
     "output_type": "stream",
     "text": [
      "90 перцентиль: 1.00\n",
      "95 перцентиль: 2.00\n",
      "99 перцентиль: 4.00\n"
     ]
    }
   ],
   "source": [
    "print('90 перцентиль: %.2f' % (np.percentile(orders_per_user['orders'],[90])))\n",
    "print('95 перцентиль: %.2f' % (np.percentile(orders_per_user['orders'],[95])))\n",
    "print('99 перцентиль: %.2f' % (np.percentile(orders_per_user['orders'],[99])))"
   ]
  },
  {
   "cell_type": "code",
   "execution_count": 48,
   "metadata": {},
   "outputs": [
    {
     "data": {
      "text/plain": [
       "11"
      ]
     },
     "execution_count": 48,
     "metadata": {},
     "output_type": "execute_result"
    }
   ],
   "source": [
    "orders_per_user['orders'].max()"
   ]
  },
  {
   "cell_type": "code",
   "execution_count": 49,
   "metadata": {
    "scrolled": true
   },
   "outputs": [],
   "source": [
    "outlaws_1p = orders_per_user[orders_per_user['orders'] >= 4]['visitirid'].to_list()"
   ]
  },
  {
   "cell_type": "markdown",
   "metadata": {},
   "source": [
    "Все, что за 99 перцентилем - аномально.\n"
   ]
  },
  {
   "cell_type": "markdown",
   "metadata": {},
   "source": [
    "# Построим точечный график стоимостей заказов."
   ]
  },
  {
   "cell_type": "code",
   "execution_count": 50,
   "metadata": {},
   "outputs": [
    {
     "data": {
      "image/png": "[encoded data removed]",
      "text/plain": [
       "<Figure size 720x576 with 1 Axes>"
      ]
     },
     "metadata": {},
     "output_type": "display_data"
    }
   ],
   "source": [
    "x_values = pd.Series(range(0,len(orders['revenue'])))\n",
    "plt.scatter(x_values, orders['revenue'],color='red')\n",
    "plt.show()"
   ]
  },
  {
   "cell_type": "code",
   "execution_count": 51,
   "metadata": {},
   "outputs": [
    {
     "data": {
      "image/png": "[encoded data removed]",
      "text/plain": [
       "<Figure size 720x576 with 1 Axes>"
      ]
     },
     "metadata": {},
     "output_type": "display_data"
    }
   ],
   "source": [
    "orders['rev'] = orders[orders['revenue'] <= 58233]['revenue']\n",
    "x_values = pd.Series(range(0,len(orders['revenue'])))\n",
    "plt.scatter(x_values, orders['rev'],color='red')\n",
    "plt.show()"
   ]
  },
  {
   "cell_type": "markdown",
   "metadata": {},
   "source": [
    "Есть 2 выброса.Если посмотреть на график без выбросов, то он плавно после скопления у 3-4 тыс., начинает рассеиваться, после 20000 заказов совсем не много"
   ]
  },
  {
   "cell_type": "markdown",
   "metadata": {},
   "source": [
    "# Посчитаем 95-й и 99-й перцентили стоимости заказов.Выберем границу для определения аномальных заказов."
   ]
  },
  {
   "cell_type": "code",
   "execution_count": 52,
   "metadata": {},
   "outputs": [
    {
     "name": "stdout",
     "output_type": "stream",
     "text": [
      "90 перцентиль: 18168.00\n",
      "95 перцентиль: 28000.00\n",
      "99 перцентиль: 58233.20\n"
     ]
    }
   ],
   "source": [
    "print('90 перцентиль: %.2f' % (np.percentile(orders['revenue'],[90])))\n",
    "print('95 перцентиль: %.2f' % (np.percentile(orders['revenue'],[95])))\n",
    "print('99 перцентиль: %.2f' % (np.percentile(orders['revenue'],[99])))"
   ]
  },
  {
   "cell_type": "code",
   "execution_count": 53,
   "metadata": {},
   "outputs": [
    {
     "data": {
      "text/plain": [
       "1294500"
      ]
     },
     "execution_count": 53,
     "metadata": {},
     "output_type": "execute_result"
    }
   ],
   "source": [
    "orders['revenue'].max()"
   ]
  },
  {
   "cell_type": "code",
   "execution_count": 54,
   "metadata": {},
   "outputs": [
    {
     "data": {
      "text/plain": [
       "1294450"
      ]
     },
     "execution_count": 54,
     "metadata": {},
     "output_type": "execute_result"
    }
   ],
   "source": [
    "np.ptp(orders['revenue'],axis = 0)"
   ]
  },
  {
   "cell_type": "markdown",
   "metadata": {},
   "source": [
    "Все, что за 99 перцентилем - аномально"
   ]
  },
  {
   "cell_type": "code",
   "execution_count": 55,
   "metadata": {},
   "outputs": [],
   "source": [
    "conversion = (orders.groupby('group').agg({'transactionid':'count'}).rename(columns={'transactionid': 'orders'}))\\\n",
    "                                     .join((visitors.groupby('group').agg({'visitors':'sum'}))).reset_index()\n",
    "conversion['conversion'] = conversion['orders'] / conversion['visitors']"
   ]
  },
  {
   "cell_type": "code",
   "execution_count": 56,
   "metadata": {},
   "outputs": [
    {
     "data": {
      "text/html": [
       "<div>\n",
       "<style scoped>\n",
       "    .dataframe tbody tr th:only-of-type {\n",
       "        vertical-align: middle;\n",
       "    }\n",
       "\n",
       "    .dataframe tbody tr th {\n",
       "        vertical-align: top;\n",
       "    }\n",
       "\n",
       "    .dataframe thead th {\n",
       "        text-align: right;\n",
       "    }\n",
       "</style>\n",
       "<table border=\"1\" class=\"dataframe\">\n",
       "  <thead>\n",
       "    <tr style=\"text-align: right;\">\n",
       "      <th></th>\n",
       "      <th>group</th>\n",
       "      <th>orders</th>\n",
       "      <th>visitors</th>\n",
       "      <th>conversion</th>\n",
       "    </tr>\n",
       "  </thead>\n",
       "  <tbody>\n",
       "    <tr>\n",
       "      <th>0</th>\n",
       "      <td>A</td>\n",
       "      <td>557</td>\n",
       "      <td>18736</td>\n",
       "      <td>0.03</td>\n",
       "    </tr>\n",
       "    <tr>\n",
       "      <th>1</th>\n",
       "      <td>B</td>\n",
       "      <td>640</td>\n",
       "      <td>18916</td>\n",
       "      <td>0.03</td>\n",
       "    </tr>\n",
       "  </tbody>\n",
       "</table>\n",
       "</div>"
      ],
      "text/plain": [
       "  group  orders  visitors  conversion\n",
       "0  A     557     18736    0.03       \n",
       "1  B     640     18916    0.03       "
      ]
     },
     "execution_count": 56,
     "metadata": {},
     "output_type": "execute_result"
    }
   ],
   "source": [
    "conversion"
   ]
  },
  {
   "cell_type": "code",
   "execution_count": 57,
   "metadata": {},
   "outputs": [
    {
     "data": {
      "text/html": [
       "<div>\n",
       "<style scoped>\n",
       "    .dataframe tbody tr th:only-of-type {\n",
       "        vertical-align: middle;\n",
       "    }\n",
       "\n",
       "    .dataframe tbody tr th {\n",
       "        vertical-align: top;\n",
       "    }\n",
       "\n",
       "    .dataframe thead th {\n",
       "        text-align: right;\n",
       "    }\n",
       "</style>\n",
       "<table border=\"1\" class=\"dataframe\">\n",
       "  <thead>\n",
       "    <tr style=\"text-align: right;\">\n",
       "      <th></th>\n",
       "      <th>group</th>\n",
       "      <th>orders</th>\n",
       "      <th>visitors</th>\n",
       "      <th>conversion</th>\n",
       "      <th>for_fun</th>\n",
       "    </tr>\n",
       "  </thead>\n",
       "  <tbody>\n",
       "    <tr>\n",
       "      <th>0</th>\n",
       "      <td>A</td>\n",
       "      <td>557</td>\n",
       "      <td>18736</td>\n",
       "      <td>0.03</td>\n",
       "      <td>2.97</td>\n",
       "    </tr>\n",
       "    <tr>\n",
       "      <th>1</th>\n",
       "      <td>B</td>\n",
       "      <td>640</td>\n",
       "      <td>18916</td>\n",
       "      <td>0.03</td>\n",
       "      <td>3.38</td>\n",
       "    </tr>\n",
       "  </tbody>\n",
       "</table>\n",
       "</div>"
      ],
      "text/plain": [
       "  group  orders  visitors  conversion  for_fun\n",
       "0  A     557     18736    0.03        2.97    \n",
       "1  B     640     18916    0.03        3.38    "
      ]
     },
     "execution_count": 57,
     "metadata": {},
     "output_type": "execute_result"
    }
   ],
   "source": [
    "conversion['for_fun'] = conversion['conversion'] * 100\n",
    "conversion"
   ]
  },
  {
   "cell_type": "code",
   "execution_count": 58,
   "metadata": {},
   "outputs": [
    {
     "data": {
      "text/plain": [
       "<matplotlib.lines.Line2D at 0x7fb42acb2850>"
      ]
     },
     "execution_count": 58,
     "metadata": {},
     "output_type": "execute_result"
    },
    {
     "data": {
      "image/png": "[encoded data removed]",
      "text/plain": [
       "<Figure size 720x576 with 1 Axes>"
      ]
     },
     "metadata": {},
     "output_type": "display_data"
    }
   ],
   "source": [
    "datesGroups = orders[['date', 'group']].drop_duplicates()\n",
    "\n",
    "ordersAggregated = datesGroups.apply(\n",
    "    lambda x: orders[\n",
    "        np.logical_and(\n",
    "            orders['date'] <= x['date'], orders['group'] == x['group']\n",
    "        )\n",
    "    ].agg(\n",
    "        {\n",
    "            'date': 'max',\n",
    "            'group': 'max',\n",
    "            'transactionid': 'nunique',\n",
    "            'visitirid': 'nunique',\n",
    "            'revenue': 'sum',\n",
    "        }\n",
    "    ),\n",
    "    axis=1,\n",
    ").sort_values(by=['date', 'group'])\n",
    "\n",
    "visitorsAggregated = datesGroups.apply(\n",
    "    lambda x: visitors[\n",
    "        np.logical_and(\n",
    "            visitors['date'] <= x['date'], visitors['group'] == x['group']\n",
    "        )\n",
    "    ].agg({'date': 'max', 'group': 'max', 'visitors': 'sum'}),\n",
    "    axis=1,\n",
    ").sort_values(by=['date', 'group'])\n",
    "\n",
    "cumulativeData = ordersAggregated.merge(\n",
    "    visitorsAggregated, left_on=['date', 'group'], right_on=['date', 'group']\n",
    ")\n",
    "cumulativeData.columns = [\n",
    "    'date',\n",
    "    'group',\n",
    "    'orders',\n",
    "    'buyers',\n",
    "    'revenue',\n",
    "    'visitors',\n",
    "]\n",
    "\n",
    "cumulativeData['conversion'] = (\n",
    "    cumulativeData['orders'] / cumulativeData['visitors']\n",
    ")\n",
    "\n",
    "cumulativeDataA = cumulativeData[cumulativeData['group'] == 'A']\n",
    "cumulativeDataB = cumulativeData[cumulativeData['group'] == 'B']\n",
    "mergedCumulativeConversions = cumulativeDataA[['date','conversion']].merge(cumulativeDataB[['date','conversion']], left_on='date', right_on='date', how='left', suffixes=['A', 'B'])\n",
    "\n",
    "plt.plot(mergedCumulativeConversions['date'], mergedCumulativeConversions['conversionB']/mergedCumulativeConversions['conversionA']-1, label=\"Относительный прирост конверсии группы B относительно группы A\")\n",
    "plt.legend()\n",
    "\n",
    "plt.axhline(y=0, color='black', linestyle='--')\n",
    "plt.axhline(y=0.2, color='grey', linestyle='--')"
   ]
  },
  {
   "cell_type": "code",
   "execution_count": 59,
   "metadata": {},
   "outputs": [
    {
     "name": "stdout",
     "output_type": "stream",
     "text": [
      "p-значение:  1.0\n",
      "Не получилось отвергнуть H0: вывод о различии сделать нельзя\n"
     ]
    }
   ],
   "source": [
    "# Воспользуемся критерием Манна-Уитни\n",
    "# H0: Pазличия в конверсии между группами есть\n",
    "# H1: Pазличий в конверсии между группами нет\n",
    "alpha = 0.05\n",
    "results = st.mannwhitneyu(conversion[conversion['group']=='A']['conversion'], conversion[conversion['group']=='B']['conversion'])\n",
    "pvalue = results.pvalue\n",
    "print('p-значение: ', pvalue)\n",
    "if (pvalue < alpha):\n",
    "    print(\"Отвергаем H0: разница статистически значима\")\n",
    "else:\n",
    "    print(\"Не получилось отвергнуть H0: вывод о различии сделать нельзя\")"
   ]
  },
  {
   "cell_type": "markdown",
   "metadata": {},
   "source": [
    "Посчитаем статистическую значимость различий в среднем числе заказов на пользователя и среднем чеке между группами по «сырым» данным — без удаления аномальных пользователей.\n",
    "Сформулируем гипотезы. Нулевая: различий в среднем количестве заказов между группами нет. Альтернативная: различия в среднем между группами есть."
   ]
  },
  {
   "cell_type": "code",
   "execution_count": 60,
   "metadata": {},
   "outputs": [],
   "source": [
    "visitorsADaily = visitors[visitors['group'] == 'A'][['date', 'visitors']]\n",
    "visitorsADaily.columns = ['date', 'visitorsPerDateA']\n",
    "\n"
   ]
  },
  {
   "cell_type": "code",
   "execution_count": 61,
   "metadata": {},
   "outputs": [],
   "source": [
    "visitorsACummulative = visitorsADaily.apply(\n",
    "    lambda x: visitorsADaily[visitorsADaily['date'] <= x['date']].agg(\n",
    "        {'date': 'max', 'visitorsPerDateA': 'sum'}\n",
    "    ),\n",
    "    axis=1,\n",
    ")\n",
    "visitorsACummulative.columns = ['date', 'visitorsCummulativeA']\n",
    "\n",
    "visitorsBDaily = visitors[visitors['group'] == 'B'][['date', 'visitors']]\n",
    "visitorsBDaily.columns = ['date', 'visitorsPerDateB']"
   ]
  },
  {
   "cell_type": "code",
   "execution_count": 62,
   "metadata": {},
   "outputs": [],
   "source": [
    "visitorsBCummulative = visitorsBDaily.apply(\n",
    "    lambda x: visitorsBDaily[visitorsBDaily['date'] <= x['date']].agg(\n",
    "        {'date': 'max', 'visitorsPerDateB': 'sum'}\n",
    "    ),\n",
    "    axis=1,\n",
    ")\n",
    "visitorsBCummulative.columns = ['date', 'visitorsCummulativeB']\n",
    "\n",
    "ordersADaily = (\n",
    "    orders[orders['group'] == 'A'][['date', 'transactionid', 'visitirid', 'revenue']]\n",
    "    .groupby('date', as_index=False)\n",
    "    .agg({'transactionid': pd.Series.nunique, 'revenue': 'sum'})\n",
    ")\n",
    "ordersADaily.columns = ['date', 'ordersPerDateA', 'revenuePerDateA']"
   ]
  },
  {
   "cell_type": "code",
   "execution_count": 63,
   "metadata": {},
   "outputs": [],
   "source": [
    "ordersACummulative = ordersADaily.apply(\n",
    "    lambda x: ordersADaily[ordersADaily['date'] <= x['date']].agg(\n",
    "        {'date': 'max', 'ordersPerDateA': 'sum', 'revenuePerDateA': 'sum'}\n",
    "    ),\n",
    "    axis=1,\n",
    ").sort_values(by=['date'])\n",
    "ordersACummulative.columns = [\n",
    "    'date',\n",
    "    'ordersCummulativeA',\n",
    "    'revenueCummulativeA',\n",
    "]\n",
    "\n",
    "ordersBDaily = (\n",
    "    orders[orders['group'] == 'B'][['date', 'transactionid', 'visitirid', 'revenue']]\n",
    "    .groupby('date', as_index=False)\n",
    "    .agg({'transactionid': pd.Series.nunique, 'revenue': 'sum'})\n",
    ")\n",
    "ordersBDaily.columns = ['date', 'ordersPerDateB', 'revenuePerDateB']"
   ]
  },
  {
   "cell_type": "code",
   "execution_count": 64,
   "metadata": {},
   "outputs": [
    {
     "name": "stdout",
     "output_type": "stream",
     "text": [
      "        date  ordersPerDateA  revenuePerDateA  ordersPerDateB  \\\n",
      "0 2019-08-01  24              148579           21               \n",
      "1 2019-08-02  20              93822            24               \n",
      "2 2019-08-03  24              112473           16               \n",
      "3 2019-08-04  16              70825            17               \n",
      "4 2019-08-05  25              124218           23               \n",
      "\n",
      "   revenuePerDateB  ordersCummulativeA  revenueCummulativeA  \\\n",
      "0  101217           24                  148579                \n",
      "1  165531           44                  242401                \n",
      "2  114248           68                  354874                \n",
      "3  108571           84                  425699                \n",
      "4  92428            109                 549917                \n",
      "\n",
      "   ordersCummulativeB  revenueCummulativeB  visitorsPerDateA  \\\n",
      "0  21                  101217               719                \n",
      "1  45                  266748               619                \n",
      "2  61                  380996               507                \n",
      "3  78                  489567               717                \n",
      "4  101                 581995               756                \n",
      "\n",
      "   visitorsPerDateB  visitorsCummulativeA  visitorsCummulativeB  \n",
      "0  713               719                   713                   \n",
      "1  581               1338                  1294                  \n",
      "2  509               1845                  1803                  \n",
      "3  770               2562                  2573                  \n",
      "4  707               3318                  3280                  \n"
     ]
    }
   ],
   "source": [
    "ordersBCummulative = ordersBDaily.apply(\n",
    "    lambda x: ordersBDaily[ordersBDaily['date'] <= x['date']].agg(\n",
    "        {'date': 'max', 'ordersPerDateB': 'sum', 'revenuePerDateB': 'sum'}\n",
    "    ),\n",
    "    axis=1,\n",
    ").sort_values(by=['date'])\n",
    "ordersBCummulative.columns = [\n",
    "    'date',\n",
    "    'ordersCummulativeB',\n",
    "    'revenueCummulativeB',\n",
    "]\n",
    "\n",
    "data = (\n",
    "    ordersADaily.merge(\n",
    "        ordersBDaily, left_on='date', right_on='date', how='left'\n",
    "    )\n",
    "    .merge(ordersACummulative, left_on='date', right_on='date', how='left')\n",
    "    .merge(ordersBCummulative, left_on='date', right_on='date', how='left')\n",
    "    .merge(visitorsADaily, left_on='date', right_on='date', how='left')\n",
    "    .merge(visitorsBDaily, left_on='date', right_on='date', how='left')\n",
    "    .merge(visitorsACummulative, left_on='date', right_on='date', how='left')\n",
    "    .merge(visitorsBCummulative, left_on='date', right_on='date', how='left')\n",
    ")\n",
    "\n",
    "print(data.head(5)) "
   ]
  },
  {
   "cell_type": "markdown",
   "metadata": {},
   "source": [
    "названия столбцов данных:\n",
    "\n",
    "date — дата;\n",
    "\n",
    "ordersPerDateA — количество заказов в выбранную дату в группе A;\n",
    "\n",
    "revenuePerDateA — суммарная выручка в выбранную дату в группе A;\n",
    "\n",
    "ordersPerDateB — количество заказов в выбранную дату в группе B;\n",
    "\n",
    "revenuePerDateB — суммарная выручка в выбранную дату в группе B;\n",
    "\n",
    "ordersCummulativeA — суммарное число заказов до выбранной даты включительно в группе A;\n",
    "\n",
    "revenueCummulativeA — суммарная выручка до выбранной даты включительно в группе A;\n",
    "\n",
    "ordersCummulativeB — суммарное количество заказов до выбранной даты включительно в группе B;\n",
    "\n",
    "revenueCummulativeB — суммарная выручка до выбранной даты включительно в группе B;\n",
    "\n",
    "visitorsPerDateA — количество пользователей в выбранную дату в группе A;\n",
    "\n",
    "visitorsPerDateB — количество пользователей в выбранную дату в группе B;\n",
    "\n",
    "visitorsCummulativeA — количество пользователей до выбранной даты включительно в группе A;\n",
    "\n",
    "visitorsCummulativeB — количество пользователей до выбранной даты включительно в группе B.\n"
   ]
  },
  {
   "cell_type": "code",
   "execution_count": 65,
   "metadata": {},
   "outputs": [],
   "source": [
    "ordersByUsersA = (\n",
    "    orders[orders['group'] == 'A']\n",
    "    .groupby('visitirid', as_index=False)\n",
    "    .agg({'transactionid': pd.Series.nunique})\n",
    ")\n",
    "ordersByUsersA.columns = ['userId', 'orders']\n",
    "\n",
    "ordersByUsersB = (\n",
    "    orders[orders['group'] == 'B']\n",
    "    .groupby('visitirid', as_index=False)\n",
    "    .agg({'transactionid': pd.Series.nunique})\n",
    ")\n",
    "ordersByUsersB.columns = ['userId', 'orders'] "
   ]
  },
  {
   "cell_type": "code",
   "execution_count": 66,
   "metadata": {},
   "outputs": [
    {
     "data": {
      "text/plain": [
       "0        0\n",
       "1        0\n",
       "2        0\n",
       "3        0\n",
       "4        0\n",
       "        ..\n",
       "18228    0\n",
       "18229    0\n",
       "18230    0\n",
       "18231    0\n",
       "18232    0\n",
       "Name: orders, Length: 18233, dtype: int64"
      ]
     },
     "execution_count": 66,
     "metadata": {},
     "output_type": "execute_result"
    }
   ],
   "source": [
    "pd.Series(0, index=np.arange(data['visitorsPerDateA'].sum() - len(ordersByUsersA['orders'])), name='orders')"
   ]
  },
  {
   "cell_type": "code",
   "execution_count": 67,
   "metadata": {},
   "outputs": [],
   "source": [
    "sampleA = pd.concat([ordersByUsersA['orders'],pd.Series(0, index=np.arange(data['visitorsPerDateA'].sum() - len(ordersByUsersA['orders'])), name='orders')],axis=0)\n",
    "\n",
    "sampleB = pd.concat([ordersByUsersB['orders'],pd.Series(0, index=np.arange(data['visitorsPerDateB'].sum() - len(ordersByUsersB['orders'])), name='orders')],axis=0)"
   ]
  },
  {
   "cell_type": "code",
   "execution_count": 68,
   "metadata": {},
   "outputs": [
    {
     "name": "stdout",
     "output_type": "stream",
     "text": [
      "0.017\n",
      "0.138\n"
     ]
    }
   ],
   "source": [
    "ordersByUsersA = (\n",
    "    orders[orders['group'] == 'A']\n",
    "    .groupby('visitirid', as_index=False)\n",
    "    .agg({'transactionid': pd.Series.nunique})\n",
    ")\n",
    "ordersByUsersA.columns = ['userId', 'orders']\n",
    "\n",
    "ordersByUsersB = (\n",
    "    orders[orders['group'] == 'B']\n",
    "    .groupby('visitirid', as_index=False)\n",
    "    .agg({'transactionid': pd.Series.nunique})\n",
    ")\n",
    "ordersByUsersB.columns = ['userId', 'orders']\n",
    "\n",
    "sampleA = pd.concat(\n",
    "    [\n",
    "        ordersByUsersA['orders'],\n",
    "        pd.Series(\n",
    "            0,\n",
    "            index=np.arange(\n",
    "                data['visitorsPerDateA'].sum() - len(ordersByUsersA['orders'])\n",
    "            ),\n",
    "            name='orders',\n",
    "        ),\n",
    "    ],\n",
    "    axis=0,\n",
    ")\n",
    "\n",
    "sampleB = pd.concat(\n",
    "    [\n",
    "        ordersByUsersB['orders'],\n",
    "        pd.Series(\n",
    "            0,\n",
    "            index=np.arange(\n",
    "                data['visitorsPerDateB'].sum() - len(ordersByUsersB['orders'])\n",
    "            ),\n",
    "            name='orders',\n",
    "        ),\n",
    "    ],\n",
    "    axis=0,\n",
    ")\n",
    "\n",
    "print(\"{0:.3f}\".format(stats.mannwhitneyu(sampleA, sampleB)[1]))\n",
    "\n",
    "print(\"{0:.3f}\".format(sampleB.mean() / sampleA.mean() - 1))"
   ]
  },
  {
   "cell_type": "markdown",
   "metadata": {},
   "source": [
    "Вывод: По «сырым» данным различия в среднем числе заказов группы A и B есть.\n",
    "Первое число — p-value = 0.017 меньше 0.05. Значит, нулевую гипотезу о том, что статистически значимых различий в среднем числе заказов между группами нет, отвергаем. Выигрыш группы B равен 0.138 — второе число в выводе.\n",
    "Теперь проверим статистическую значимость различий в среднем чеке между сегментами. Нулевая гипотеза: различий в среднем чеке между группами нет. Альтернативная гипотеза: различия в среднем чеке между группами есть.\n",
    "Чтобы рассчитать статистическую значимость различий в среднем чеке, передадим критерию mannwhitneyu() данные о выручке с заказов.\n",
    "А ещё найдём относительные различия в среднем чеке между группами:"
   ]
  },
  {
   "cell_type": "code",
   "execution_count": 69,
   "metadata": {},
   "outputs": [
    {
     "name": "stdout",
     "output_type": "stream",
     "text": [
      "0.729\n",
      "0.259\n"
     ]
    }
   ],
   "source": [
    "print('{0:.3f}'.format(stats.mannwhitneyu(orders[orders['group']=='A']['revenue'], orders[orders['group']=='B']['revenue'])[1]))\n",
    "print('{0:.3f}'.format(orders[orders['group']=='B']['revenue'].mean()/orders[orders['group']=='A']['revenue'].mean()-1)) "
   ]
  },
  {
   "cell_type": "markdown",
   "metadata": {},
   "source": [
    "P-value значительно больше 0.05. Значит, причин отвергать нулевую гипотезу и считать, что в среднем чеке есть различия, нет. Впрочем, средний чек группы B значительно ниже среднего чека группы A."
   ]
  },
  {
   "cell_type": "markdown",
   "metadata": {},
   "source": [
    "Примем за аномальных пользователей тех, кто совершил от 5 заказов или совершил заказ дороже 20 000 рублей. Так мы уберём 5% пользователей с наибольшим числом заказов и от 1% до 5% пользователей с дорогими заказами. Сделаем срезы пользователей с числом заказов больше 4 — usersWithManyOrders и пользователей, совершивших заказы дороже 58233 — usersWithExpensiveOrders. Объединим их в таблице abnormalUsers."
   ]
  },
  {
   "cell_type": "code",
   "execution_count": 70,
   "metadata": {},
   "outputs": [
    {
     "name": "stdout",
     "output_type": "stream",
     "text": [
      "1099    148427295 \n",
      "949     887908475 \n",
      "744     888512513 \n",
      "1103    1164614297\n",
      "1136    1307669133\n",
      "dtype: int64\n",
      "15\n"
     ]
    }
   ],
   "source": [
    "usersWithManyOrders = pd.concat(\n",
    "    [\n",
    "        ordersByUsersA[ordersByUsersA['orders'] > 4]['userId'],\n",
    "        ordersByUsersB[ordersByUsersB['orders'] > 4]['userId'],\n",
    "    ],\n",
    "    axis=0,\n",
    ")\n",
    "usersWithExpensiveOrders = orders[orders['revenue'] > 58233]['visitirid']\n",
    "abnormalUsers = (\n",
    "    pd.concat([usersWithManyOrders, usersWithExpensiveOrders], axis=0)\n",
    "    .drop_duplicates()\n",
    "    .sort_values()\n",
    ")\n",
    "print(abnormalUsers.head(5))\n",
    "print(abnormalUsers.shape[0])"
   ]
  },
  {
   "cell_type": "markdown",
   "metadata": {},
   "source": [
    "Всего 15 аномальных пользователей.\n",
    "Узнаем, как их действия повлияли на результаты теста. Посчитаем статистическую значимость различий в среднем количестве заказов между группами теста по очищенным данным. Сначала подготовим выборки количества заказов по пользователям по группам теста:"
   ]
  },
  {
   "cell_type": "code",
   "execution_count": 71,
   "metadata": {},
   "outputs": [],
   "source": [
    "sampleAFiltered = pd.concat(\n",
    "    [\n",
    "        ordersByUsersA[\n",
    "            np.logical_not(ordersByUsersA['userId'].isin(abnormalUsers))\n",
    "        ]['orders'],\n",
    "        pd.Series(\n",
    "            0,\n",
    "            index=np.arange(\n",
    "                data['visitorsPerDateA'].sum() - len(ordersByUsersA['orders'])\n",
    "            ),\n",
    "            name='orders',\n",
    "        ),\n",
    "    ],\n",
    "    axis=0,\n",
    ")\n",
    "\n",
    "sampleBFiltered = pd.concat(\n",
    "    [\n",
    "        ordersByUsersB[\n",
    "            np.logical_not(ordersByUsersB['userId'].isin(abnormalUsers))\n",
    "        ]['orders'],\n",
    "        pd.Series(\n",
    "            0,\n",
    "            index=np.arange(\n",
    "                data['visitorsPerDateB'].sum() - len(ordersByUsersB['orders'])\n",
    "            ),\n",
    "            name='orders',\n",
    "        ),\n",
    "    ],\n",
    "    axis=0,\n",
    ") "
   ]
  },
  {
   "cell_type": "code",
   "execution_count": 72,
   "metadata": {},
   "outputs": [
    {
     "name": "stdout",
     "output_type": "stream",
     "text": [
      "0.014\n",
      "0.153\n"
     ]
    }
   ],
   "source": [
    "print('{0:.3f}'.format(stats.mannwhitneyu(sampleAFiltered, sampleBFiltered)[1]))\n",
    "print('{0:.3f}'.format(sampleBFiltered.mean()/sampleAFiltered.mean()-1))"
   ]
  },
  {
   "cell_type": "markdown",
   "metadata": {},
   "source": [
    "Результаты по среднему количеству заказов по очищенным данным практически не изменились.\n",
    "Вывод: По очищенным данным различия в среднем числе заказов группы A и B есть.\n",
    "Первое число — p-value = 0.014 меньше 0.05. Значит, нулевую гипотезу о том, что статистически значимых различий в среднем числе заказов между группами нет, отвергаем. Выигрыш группы B равен 0.153 — второе число в выводе."
   ]
  },
  {
   "cell_type": "code",
   "execution_count": 73,
   "metadata": {},
   "outputs": [
    {
     "name": "stdout",
     "output_type": "stream",
     "text": [
      "0.851\n",
      "-0.006\n"
     ]
    }
   ],
   "source": [
    "print(\n",
    "    '{0:.3f}'.format(\n",
    "        stats.mannwhitneyu(\n",
    "            orders[\n",
    "                np.logical_and(\n",
    "                    orders['group'] == 'A',\n",
    "                    np.logical_not(orders['visitirid'].isin(abnormalUsers)),\n",
    "                )\n",
    "            ]['revenue'],\n",
    "            orders[\n",
    "                np.logical_and(\n",
    "                    orders['group'] == 'B',\n",
    "                    np.logical_not(orders['visitirid'].isin(abnormalUsers)),\n",
    "                )\n",
    "            ]['revenue'],\n",
    "        )[1]\n",
    "    )\n",
    ")\n",
    "\n",
    "print(\n",
    "    \"{0:.3f}\".format(\n",
    "        orders[\n",
    "            np.logical_and(\n",
    "                orders['group'] == 'B',\n",
    "                np.logical_not(orders['visitirid'].isin(abnormalUsers)),\n",
    "            )\n",
    "        ]['revenue'].mean()\n",
    "        / orders[\n",
    "            np.logical_and(\n",
    "                orders['group'] == 'A',\n",
    "                np.logical_not(orders['visitirid'].isin(abnormalUsers)),\n",
    "            )\n",
    "        ]['revenue'].mean()\n",
    "        - 1\n",
    "    )\n",
    ") "
   ]
  },
  {
   "cell_type": "markdown",
   "metadata": {},
   "source": [
    "P-value увеличился и разница между сегментами тоже.\n",
    "P-value значительно больше 0.05. Значит, причин отвергать нулевую гипотезу и считать, что в среднем чеке есть различия, нет. Впрочем, средний чек группы B значительно ниже среднего чека группы A."
   ]
  },
  {
   "cell_type": "markdown",
   "metadata": {},
   "source": [
    "# Pешение по результатам теста\n",
    "\n",
    "Имеющиеся факты:\n",
    "\n",
    "Есть статистически значимые различия по среднему количеству заказов между группами по «сырым» и по данным после фильтрации аномалий, группа Б лидирует;\n",
    "\n",
    "Нет статистически значимого различия по среднему чеку между группами ни по «сырым», ни по данным после фильтрации аномалий;\n",
    "\n",
    "График различия конверсии между группами сообщает, что результаты группы B лучше группы A;\n",
    "\n",
    "График различия среднего чека говорит о том, что результаты группы B лучше группы А;\n",
    "\n",
    "Количество пользователей в группе B значительно превышает группу А;\n",
    "\n",
    "Исходя из обнаруженных фактов, тест следует остановить и признать победителем сегмент B. Продолжать смысла нет, так как в среднем чеке нет различия,но из-за того,что на 83 заказа и на 83 пользователя в группе B больше\n",
    ", конверсия у нее лучше, среднее количество заказов по этому у них больше, либо для достоверности стоит собрать одинаковое количество человек по группам и тогда провести еще тест!"
   ]
  }
 ],
 "metadata": {
  "ExecuteTimeLog": [
   {
    "duration": 1464,
    "start_time": "2022-07-25T20:08:01.808Z"
   },
   {
    "duration": 4,
    "start_time": "2022-07-25T20:08:24.580Z"
   },
   {
    "duration": 174,
    "start_time": "2022-07-25T20:13:36.065Z"
   },
   {
    "duration": 13,
    "start_time": "2022-07-25T20:14:22.511Z"
   },
   {
    "duration": 8,
    "start_time": "2022-07-25T20:14:50.320Z"
   },
   {
    "duration": 8,
    "start_time": "2022-07-25T20:15:19.201Z"
   },
   {
    "duration": 77,
    "start_time": "2022-07-25T20:16:04.968Z"
   },
   {
    "duration": 7,
    "start_time": "2022-07-25T20:16:11.877Z"
   },
   {
    "duration": 6,
    "start_time": "2022-07-25T20:16:36.593Z"
   },
   {
    "duration": 104,
    "start_time": "2022-07-25T20:16:59.069Z"
   },
   {
    "duration": 5,
    "start_time": "2022-07-25T20:17:06.596Z"
   },
   {
    "duration": 6,
    "start_time": "2022-07-25T20:19:17.170Z"
   },
   {
    "duration": 7,
    "start_time": "2022-07-25T20:20:00.711Z"
   },
   {
    "duration": 11,
    "start_time": "2022-07-25T20:20:01.888Z"
   },
   {
    "duration": 6,
    "start_time": "2022-07-25T20:29:12.332Z"
   },
   {
    "duration": 10,
    "start_time": "2022-07-25T20:30:00.306Z"
   },
   {
    "duration": 430,
    "start_time": "2022-07-25T20:35:59.367Z"
   },
   {
    "duration": 4,
    "start_time": "2022-07-25T20:39:07.494Z"
   },
   {
    "duration": 10,
    "start_time": "2022-07-25T20:39:25.492Z"
   },
   {
    "duration": 16,
    "start_time": "2022-07-25T20:39:51.101Z"
   },
   {
    "duration": 366,
    "start_time": "2022-07-25T20:39:57.827Z"
   },
   {
    "duration": 15,
    "start_time": "2022-07-25T20:44:06.783Z"
   },
   {
    "duration": 12,
    "start_time": "2022-07-25T20:44:17.898Z"
   },
   {
    "duration": 13,
    "start_time": "2022-07-25T20:45:21.625Z"
   },
   {
    "duration": 5,
    "start_time": "2022-07-25T20:45:40.245Z"
   },
   {
    "duration": 11,
    "start_time": "2022-07-25T20:49:27.785Z"
   },
   {
    "duration": 11,
    "start_time": "2022-07-25T20:49:41.607Z"
   },
   {
    "duration": 10,
    "start_time": "2022-07-25T20:50:03.785Z"
   },
   {
    "duration": 7,
    "start_time": "2022-07-25T20:52:31.298Z"
   },
   {
    "duration": 5,
    "start_time": "2022-07-25T20:52:38.371Z"
   },
   {
    "duration": 9,
    "start_time": "2022-07-25T20:52:47.612Z"
   },
   {
    "duration": 7,
    "start_time": "2022-07-25T20:54:21.044Z"
   },
   {
    "duration": 10,
    "start_time": "2022-07-25T20:56:33.711Z"
   },
   {
    "duration": 11,
    "start_time": "2022-07-25T20:57:01.046Z"
   },
   {
    "duration": 11,
    "start_time": "2022-07-25T21:09:24.251Z"
   },
   {
    "duration": 9,
    "start_time": "2022-07-25T21:09:50.916Z"
   },
   {
    "duration": 8,
    "start_time": "2022-07-25T21:10:12.566Z"
   },
   {
    "duration": 3,
    "start_time": "2022-07-25T21:12:08.054Z"
   },
   {
    "duration": 96,
    "start_time": "2022-07-25T21:19:28.219Z"
   },
   {
    "duration": 81,
    "start_time": "2022-07-25T21:19:44.022Z"
   },
   {
    "duration": 16,
    "start_time": "2022-07-25T21:19:54.057Z"
   },
   {
    "duration": 8,
    "start_time": "2022-07-25T21:22:23.642Z"
   },
   {
    "duration": 4,
    "start_time": "2022-07-25T21:22:24.850Z"
   },
   {
    "duration": 15,
    "start_time": "2022-07-25T21:22:26.141Z"
   },
   {
    "duration": 4,
    "start_time": "2022-07-25T21:22:48.914Z"
   },
   {
    "duration": 15,
    "start_time": "2022-07-25T21:22:50.281Z"
   },
   {
    "duration": 15,
    "start_time": "2022-07-25T21:23:12.158Z"
   },
   {
    "duration": 8,
    "start_time": "2022-07-25T21:23:14.355Z"
   },
   {
    "duration": 3,
    "start_time": "2022-07-25T21:23:14.651Z"
   },
   {
    "duration": 18,
    "start_time": "2022-07-25T21:23:15.241Z"
   },
   {
    "duration": 1287,
    "start_time": "2022-07-25T21:23:20.314Z"
   },
   {
    "duration": 2,
    "start_time": "2022-07-25T21:23:21.604Z"
   },
   {
    "duration": 70,
    "start_time": "2022-07-25T21:23:21.610Z"
   },
   {
    "duration": 13,
    "start_time": "2022-07-25T21:23:21.682Z"
   },
   {
    "duration": 7,
    "start_time": "2022-07-25T21:23:21.697Z"
   },
   {
    "duration": 17,
    "start_time": "2022-07-25T21:23:21.706Z"
   },
   {
    "duration": 13,
    "start_time": "2022-07-25T21:23:21.724Z"
   },
   {
    "duration": 11,
    "start_time": "2022-07-25T21:23:21.739Z"
   },
   {
    "duration": 8,
    "start_time": "2022-07-25T21:23:21.752Z"
   },
   {
    "duration": 10,
    "start_time": "2022-07-25T21:23:21.762Z"
   },
   {
    "duration": 12,
    "start_time": "2022-07-25T21:23:21.774Z"
   },
   {
    "duration": 31,
    "start_time": "2022-07-25T21:23:21.788Z"
   },
   {
    "duration": 460,
    "start_time": "2022-07-25T21:23:21.822Z"
   },
   {
    "duration": 5,
    "start_time": "2022-07-25T21:23:22.284Z"
   },
   {
    "duration": 16,
    "start_time": "2022-07-25T21:23:22.291Z"
   },
   {
    "duration": 351,
    "start_time": "2022-07-25T21:23:22.308Z"
   },
   {
    "duration": 11,
    "start_time": "2022-07-25T21:23:22.660Z"
   },
   {
    "duration": 12,
    "start_time": "2022-07-25T21:23:22.673Z"
   },
   {
    "duration": 29,
    "start_time": "2022-07-25T21:23:22.687Z"
   },
   {
    "duration": 9,
    "start_time": "2022-07-25T21:23:22.717Z"
   },
   {
    "duration": 6,
    "start_time": "2022-07-25T21:23:22.727Z"
   },
   {
    "duration": 127,
    "start_time": "2022-07-25T21:23:22.734Z"
   },
   {
    "duration": 0,
    "start_time": "2022-07-25T21:23:22.863Z"
   },
   {
    "duration": 15,
    "start_time": "2022-07-25T21:24:23.214Z"
   },
   {
    "duration": 4,
    "start_time": "2022-07-25T21:24:30.289Z"
   },
   {
    "duration": 14,
    "start_time": "2022-07-25T21:24:31.017Z"
   },
   {
    "duration": 3,
    "start_time": "2022-07-25T21:24:56.519Z"
   },
   {
    "duration": 14,
    "start_time": "2022-07-25T21:24:57.115Z"
   },
   {
    "duration": 74,
    "start_time": "2022-07-25T21:24:57.678Z"
   },
   {
    "duration": 10,
    "start_time": "2022-07-25T21:25:09.617Z"
   },
   {
    "duration": 3,
    "start_time": "2022-07-25T21:25:42.484Z"
   },
   {
    "duration": 13,
    "start_time": "2022-07-25T21:25:43.463Z"
   },
   {
    "duration": 21,
    "start_time": "2022-07-25T21:25:45.319Z"
   },
   {
    "duration": 8,
    "start_time": "2022-07-25T21:27:14.919Z"
   },
   {
    "duration": 4,
    "start_time": "2022-07-25T21:27:15.337Z"
   },
   {
    "duration": 15,
    "start_time": "2022-07-25T21:27:16.240Z"
   },
   {
    "duration": 21,
    "start_time": "2022-07-25T21:27:57.819Z"
   },
   {
    "duration": 4,
    "start_time": "2022-07-25T21:27:59.510Z"
   },
   {
    "duration": 14,
    "start_time": "2022-07-25T21:28:00.217Z"
   },
   {
    "duration": 8,
    "start_time": "2022-07-25T21:28:42.167Z"
   },
   {
    "duration": 3,
    "start_time": "2022-07-25T21:28:42.911Z"
   },
   {
    "duration": 14,
    "start_time": "2022-07-25T21:28:43.842Z"
   },
   {
    "duration": 9,
    "start_time": "2022-07-25T21:29:02.868Z"
   },
   {
    "duration": 3,
    "start_time": "2022-07-25T21:29:03.279Z"
   },
   {
    "duration": 14,
    "start_time": "2022-07-25T21:29:03.881Z"
   },
   {
    "duration": 4,
    "start_time": "2022-07-25T21:29:19.986Z"
   },
   {
    "duration": 13,
    "start_time": "2022-07-25T21:29:45.696Z"
   },
   {
    "duration": 3,
    "start_time": "2022-07-25T21:29:48.548Z"
   },
   {
    "duration": 12,
    "start_time": "2022-07-25T21:29:49.013Z"
   },
   {
    "duration": 11,
    "start_time": "2022-07-25T21:29:50.109Z"
   },
   {
    "duration": 17,
    "start_time": "2022-07-25T21:35:20.562Z"
   },
   {
    "duration": 5,
    "start_time": "2022-07-25T21:36:39.562Z"
   },
   {
    "duration": 6,
    "start_time": "2022-07-25T21:38:44.020Z"
   },
   {
    "duration": 10,
    "start_time": "2022-07-25T21:39:03.372Z"
   },
   {
    "duration": 410,
    "start_time": "2022-07-25T21:39:13.531Z"
   },
   {
    "duration": 335,
    "start_time": "2022-07-25T21:40:54.555Z"
   },
   {
    "duration": 309,
    "start_time": "2022-07-25T21:46:10.767Z"
   },
   {
    "duration": 18,
    "start_time": "2022-07-25T21:56:48.882Z"
   },
   {
    "duration": 416,
    "start_time": "2022-07-25T21:57:00.924Z"
   },
   {
    "duration": 331,
    "start_time": "2022-07-25T22:00:00.316Z"
   },
   {
    "duration": 414,
    "start_time": "2022-07-25T22:02:42.674Z"
   },
   {
    "duration": 7,
    "start_time": "2022-07-25T22:06:41.737Z"
   },
   {
    "duration": 7,
    "start_time": "2022-07-25T22:07:02.441Z"
   },
   {
    "duration": 11,
    "start_time": "2022-07-25T22:09:13.363Z"
   },
   {
    "duration": 296,
    "start_time": "2022-07-25T22:09:31.695Z"
   },
   {
    "duration": 6,
    "start_time": "2022-07-25T22:14:29.534Z"
   },
   {
    "duration": 4,
    "start_time": "2022-07-25T22:14:46.514Z"
   },
   {
    "duration": 9,
    "start_time": "2022-07-25T22:17:09.594Z"
   },
   {
    "duration": 1200,
    "start_time": "2022-07-25T22:17:17.895Z"
   },
   {
    "duration": 5,
    "start_time": "2022-07-25T22:17:26.587Z"
   },
   {
    "duration": 1254,
    "start_time": "2022-07-25T22:19:41.364Z"
   },
   {
    "duration": 180,
    "start_time": "2022-07-25T22:20:12.038Z"
   },
   {
    "duration": 6,
    "start_time": "2022-07-25T22:23:27.416Z"
   },
   {
    "duration": 5,
    "start_time": "2022-07-25T22:24:55.228Z"
   },
   {
    "duration": 6,
    "start_time": "2022-07-25T22:25:30.381Z"
   },
   {
    "duration": 13,
    "start_time": "2022-07-25T22:31:23.495Z"
   },
   {
    "duration": 14,
    "start_time": "2022-07-25T22:31:30.451Z"
   },
   {
    "duration": 11,
    "start_time": "2022-07-25T22:31:48.945Z"
   },
   {
    "duration": 7,
    "start_time": "2022-07-25T22:31:57.876Z"
   },
   {
    "duration": 8,
    "start_time": "2022-07-25T22:34:52.241Z"
   },
   {
    "duration": 7,
    "start_time": "2022-07-25T22:35:12.522Z"
   },
   {
    "duration": 9,
    "start_time": "2022-07-25T22:35:23.926Z"
   },
   {
    "duration": 11,
    "start_time": "2022-07-25T22:37:29.296Z"
   },
   {
    "duration": 6,
    "start_time": "2022-07-25T22:37:50.877Z"
   },
   {
    "duration": 6,
    "start_time": "2022-07-25T22:38:05.262Z"
   },
   {
    "duration": 1215,
    "start_time": "2022-07-25T22:39:09.337Z"
   },
   {
    "duration": 11,
    "start_time": "2022-07-25T22:39:23.837Z"
   },
   {
    "duration": 8,
    "start_time": "2022-07-25T22:39:35.416Z"
   },
   {
    "duration": 6,
    "start_time": "2022-07-25T22:41:30.666Z"
   },
   {
    "duration": 10,
    "start_time": "2022-07-25T22:42:18.854Z"
   },
   {
    "duration": 6,
    "start_time": "2022-07-25T22:42:30.033Z"
   },
   {
    "duration": 79,
    "start_time": "2022-07-25T22:42:40.227Z"
   },
   {
    "duration": 6,
    "start_time": "2022-07-25T22:42:46.799Z"
   },
   {
    "duration": 1250,
    "start_time": "2022-07-25T22:45:46.667Z"
   },
   {
    "duration": 3,
    "start_time": "2022-07-25T22:45:47.919Z"
   },
   {
    "duration": 80,
    "start_time": "2022-07-25T22:45:47.924Z"
   },
   {
    "duration": 13,
    "start_time": "2022-07-25T22:45:48.007Z"
   },
   {
    "duration": 6,
    "start_time": "2022-07-25T22:45:48.022Z"
   },
   {
    "duration": 11,
    "start_time": "2022-07-25T22:45:48.029Z"
   },
   {
    "duration": 10,
    "start_time": "2022-07-25T22:45:48.042Z"
   },
   {
    "duration": 12,
    "start_time": "2022-07-25T22:45:48.054Z"
   },
   {
    "duration": 9,
    "start_time": "2022-07-25T22:45:48.068Z"
   },
   {
    "duration": 7,
    "start_time": "2022-07-25T22:45:48.110Z"
   },
   {
    "duration": 9,
    "start_time": "2022-07-25T22:45:48.119Z"
   },
   {
    "duration": 15,
    "start_time": "2022-07-25T22:45:48.130Z"
   },
   {
    "duration": 443,
    "start_time": "2022-07-25T22:45:48.147Z"
   },
   {
    "duration": 5,
    "start_time": "2022-07-25T22:45:48.592Z"
   },
   {
    "duration": 29,
    "start_time": "2022-07-25T22:45:48.598Z"
   },
   {
    "duration": 354,
    "start_time": "2022-07-25T22:45:48.629Z"
   },
   {
    "duration": 11,
    "start_time": "2022-07-25T22:45:48.985Z"
   },
   {
    "duration": 22,
    "start_time": "2022-07-25T22:45:48.998Z"
   },
   {
    "duration": 17,
    "start_time": "2022-07-25T22:45:49.022Z"
   },
   {
    "duration": 39,
    "start_time": "2022-07-25T22:45:49.041Z"
   },
   {
    "duration": 25,
    "start_time": "2022-07-25T22:45:49.082Z"
   },
   {
    "duration": 27,
    "start_time": "2022-07-25T22:45:49.109Z"
   },
   {
    "duration": 12,
    "start_time": "2022-07-25T22:45:49.138Z"
   },
   {
    "duration": 24,
    "start_time": "2022-07-25T22:45:49.152Z"
   },
   {
    "duration": 12,
    "start_time": "2022-07-25T22:45:49.178Z"
   },
   {
    "duration": 27,
    "start_time": "2022-07-25T22:45:49.192Z"
   },
   {
    "duration": 23,
    "start_time": "2022-07-25T22:45:49.221Z"
   },
   {
    "duration": 400,
    "start_time": "2022-07-25T22:45:49.248Z"
   },
   {
    "duration": 329,
    "start_time": "2022-07-25T22:45:49.650Z"
   },
   {
    "duration": 440,
    "start_time": "2022-07-25T22:45:49.981Z"
   },
   {
    "duration": 346,
    "start_time": "2022-07-25T22:45:50.422Z"
   },
   {
    "duration": 427,
    "start_time": "2022-07-25T22:45:50.770Z"
   },
   {
    "duration": 13,
    "start_time": "2022-07-25T22:45:51.199Z"
   },
   {
    "duration": 8,
    "start_time": "2022-07-25T22:45:51.214Z"
   },
   {
    "duration": 188,
    "start_time": "2022-07-25T22:45:51.224Z"
   },
   {
    "duration": 7,
    "start_time": "2022-07-25T22:45:51.413Z"
   },
   {
    "duration": 7,
    "start_time": "2022-07-25T22:45:51.421Z"
   },
   {
    "duration": 6,
    "start_time": "2022-07-25T22:45:51.430Z"
   },
   {
    "duration": 295,
    "start_time": "2022-07-25T22:45:51.437Z"
   },
   {
    "duration": 6,
    "start_time": "2022-07-25T22:45:51.733Z"
   },
   {
    "duration": 8,
    "start_time": "2022-07-25T22:45:51.741Z"
   },
   {
    "duration": 7,
    "start_time": "2022-07-25T22:45:51.751Z"
   },
   {
    "duration": 13,
    "start_time": "2022-07-25T22:45:51.760Z"
   },
   {
    "duration": 36,
    "start_time": "2022-07-25T22:45:51.775Z"
   },
   {
    "duration": 21,
    "start_time": "2022-07-25T22:45:51.813Z"
   },
   {
    "duration": 23,
    "start_time": "2022-07-25T22:45:51.836Z"
   },
   {
    "duration": 18,
    "start_time": "2022-07-25T22:45:51.861Z"
   },
   {
    "duration": 19,
    "start_time": "2022-07-25T22:45:51.881Z"
   },
   {
    "duration": 20,
    "start_time": "2022-07-25T22:45:51.902Z"
   },
   {
    "duration": 24,
    "start_time": "2022-07-25T22:45:51.924Z"
   },
   {
    "duration": 12,
    "start_time": "2022-07-25T22:45:51.950Z"
   },
   {
    "duration": 19,
    "start_time": "2022-07-25T22:45:51.965Z"
   },
   {
    "duration": 15,
    "start_time": "2022-07-25T22:45:51.986Z"
   },
   {
    "duration": 11,
    "start_time": "2022-07-25T22:45:52.003Z"
   },
   {
    "duration": 15,
    "start_time": "2022-07-25T22:45:52.015Z"
   },
   {
    "duration": 1263,
    "start_time": "2022-07-27T09:27:15.113Z"
   },
   {
    "duration": 3,
    "start_time": "2022-07-27T09:27:16.378Z"
   },
   {
    "duration": 229,
    "start_time": "2022-07-27T09:27:16.382Z"
   },
   {
    "duration": 3,
    "start_time": "2022-07-27T09:27:16.613Z"
   },
   {
    "duration": 10,
    "start_time": "2022-07-27T09:27:19.265Z"
   },
   {
    "duration": 6,
    "start_time": "2022-07-27T09:27:31.564Z"
   },
   {
    "duration": 8,
    "start_time": "2022-07-27T09:27:31.972Z"
   },
   {
    "duration": 6,
    "start_time": "2022-07-27T09:27:32.814Z"
   },
   {
    "duration": 88,
    "start_time": "2022-07-27T09:28:59.775Z"
   },
   {
    "duration": 7,
    "start_time": "2022-07-27T09:39:26.051Z"
   },
   {
    "duration": 7,
    "start_time": "2022-07-27T09:39:26.684Z"
   },
   {
    "duration": 5,
    "start_time": "2022-07-27T09:39:28.528Z"
   },
   {
    "duration": 6,
    "start_time": "2022-07-27T09:39:29.326Z"
   },
   {
    "duration": 5,
    "start_time": "2022-07-27T09:43:52.831Z"
   },
   {
    "duration": 5,
    "start_time": "2022-07-27T09:44:32.823Z"
   },
   {
    "duration": 4,
    "start_time": "2022-07-27T09:45:07.053Z"
   },
   {
    "duration": 6,
    "start_time": "2022-07-27T09:48:14.285Z"
   },
   {
    "duration": 6,
    "start_time": "2022-07-27T09:48:33.131Z"
   },
   {
    "duration": 12,
    "start_time": "2022-07-27T09:54:19.391Z"
   },
   {
    "duration": 15,
    "start_time": "2022-07-27T09:54:34.614Z"
   },
   {
    "duration": 1154,
    "start_time": "2022-07-27T09:58:34.643Z"
   },
   {
    "duration": 10,
    "start_time": "2022-07-27T10:04:53.996Z"
   },
   {
    "duration": 10,
    "start_time": "2022-07-27T10:05:34.922Z"
   },
   {
    "duration": 9,
    "start_time": "2022-07-27T10:05:43.906Z"
   },
   {
    "duration": 8,
    "start_time": "2022-07-27T10:05:47.141Z"
   },
   {
    "duration": 6,
    "start_time": "2022-07-27T10:06:27.940Z"
   },
   {
    "duration": 6,
    "start_time": "2022-07-27T10:06:44.635Z"
   },
   {
    "duration": 4,
    "start_time": "2022-07-27T10:06:51.097Z"
   },
   {
    "duration": 5,
    "start_time": "2022-07-27T10:07:16.679Z"
   },
   {
    "duration": 4,
    "start_time": "2022-07-27T10:07:28.618Z"
   },
   {
    "duration": 9,
    "start_time": "2022-07-27T10:09:07.017Z"
   },
   {
    "duration": 8,
    "start_time": "2022-07-27T10:09:25.787Z"
   },
   {
    "duration": 9,
    "start_time": "2022-07-27T10:09:52.617Z"
   },
   {
    "duration": 5,
    "start_time": "2022-07-27T10:10:22.482Z"
   },
   {
    "duration": 6,
    "start_time": "2022-07-27T10:10:44.429Z"
   },
   {
    "duration": 5,
    "start_time": "2022-07-27T10:10:54.784Z"
   },
   {
    "duration": 5,
    "start_time": "2022-07-27T10:12:13.247Z"
   },
   {
    "duration": 6,
    "start_time": "2022-07-27T10:15:06.266Z"
   },
   {
    "duration": 5,
    "start_time": "2022-07-27T10:15:23.674Z"
   },
   {
    "duration": 4,
    "start_time": "2022-07-27T10:15:43.737Z"
   },
   {
    "duration": 6,
    "start_time": "2022-07-27T10:15:44.332Z"
   },
   {
    "duration": 6,
    "start_time": "2022-07-27T10:15:44.611Z"
   },
   {
    "duration": 5,
    "start_time": "2022-07-27T10:15:45.069Z"
   },
   {
    "duration": 6,
    "start_time": "2022-07-27T10:15:45.572Z"
   },
   {
    "duration": 229,
    "start_time": "2022-07-27T10:16:12.147Z"
   },
   {
    "duration": 9,
    "start_time": "2022-07-27T10:16:45.761Z"
   },
   {
    "duration": 7,
    "start_time": "2022-07-27T10:16:53.939Z"
   },
   {
    "duration": 11,
    "start_time": "2022-07-27T10:17:06.470Z"
   },
   {
    "duration": 7,
    "start_time": "2022-07-27T10:17:33.013Z"
   },
   {
    "duration": 7,
    "start_time": "2022-07-27T10:18:00.535Z"
   },
   {
    "duration": 6,
    "start_time": "2022-07-27T10:18:29.461Z"
   },
   {
    "duration": 5,
    "start_time": "2022-07-27T10:18:39.568Z"
   },
   {
    "duration": 5,
    "start_time": "2022-07-27T10:19:11.441Z"
   },
   {
    "duration": 8,
    "start_time": "2022-07-27T10:28:50.893Z"
   },
   {
    "duration": 10,
    "start_time": "2022-07-27T10:28:56.234Z"
   },
   {
    "duration": 8,
    "start_time": "2022-07-27T10:29:11.266Z"
   },
   {
    "duration": 5,
    "start_time": "2022-07-27T10:29:30.898Z"
   },
   {
    "duration": 5,
    "start_time": "2022-07-27T10:29:43.658Z"
   },
   {
    "duration": 4,
    "start_time": "2022-07-27T10:29:46.967Z"
   },
   {
    "duration": 5,
    "start_time": "2022-07-27T10:29:47.812Z"
   },
   {
    "duration": 6,
    "start_time": "2022-07-27T10:29:52.262Z"
   },
   {
    "duration": 8,
    "start_time": "2022-07-27T10:29:52.774Z"
   },
   {
    "duration": 6,
    "start_time": "2022-07-27T10:29:53.497Z"
   },
   {
    "duration": 6,
    "start_time": "2022-07-27T10:29:53.973Z"
   },
   {
    "duration": 10,
    "start_time": "2022-07-27T10:30:06.101Z"
   },
   {
    "duration": 5,
    "start_time": "2022-07-27T10:30:09.659Z"
   },
   {
    "duration": 4,
    "start_time": "2022-07-27T10:31:21.113Z"
   },
   {
    "duration": 6,
    "start_time": "2022-07-27T10:31:26.945Z"
   },
   {
    "duration": 7,
    "start_time": "2022-07-27T10:31:27.519Z"
   },
   {
    "duration": 5,
    "start_time": "2022-07-27T10:31:28.280Z"
   },
   {
    "duration": 5,
    "start_time": "2022-07-27T10:31:29.220Z"
   },
   {
    "duration": 3,
    "start_time": "2022-07-27T10:31:29.791Z"
   },
   {
    "duration": 6,
    "start_time": "2022-07-27T10:31:30.592Z"
   },
   {
    "duration": 6,
    "start_time": "2022-07-27T10:31:31.139Z"
   },
   {
    "duration": 5,
    "start_time": "2022-07-27T10:31:31.748Z"
   },
   {
    "duration": 5,
    "start_time": "2022-07-27T10:31:32.267Z"
   },
   {
    "duration": 1076,
    "start_time": "2022-07-27T10:31:42.650Z"
   },
   {
    "duration": 3,
    "start_time": "2022-07-27T10:31:43.728Z"
   },
   {
    "duration": 72,
    "start_time": "2022-07-27T10:31:43.733Z"
   },
   {
    "duration": 3,
    "start_time": "2022-07-27T10:31:43.807Z"
   },
   {
    "duration": 11,
    "start_time": "2022-07-27T10:31:43.812Z"
   },
   {
    "duration": 5,
    "start_time": "2022-07-27T10:31:43.825Z"
   },
   {
    "duration": 8,
    "start_time": "2022-07-27T10:31:43.832Z"
   },
   {
    "duration": 7,
    "start_time": "2022-07-27T10:31:43.841Z"
   },
   {
    "duration": 6,
    "start_time": "2022-07-27T10:31:43.850Z"
   },
   {
    "duration": 6,
    "start_time": "2022-07-27T10:31:43.858Z"
   },
   {
    "duration": 7,
    "start_time": "2022-07-27T10:31:43.865Z"
   },
   {
    "duration": 6,
    "start_time": "2022-07-27T10:31:43.874Z"
   },
   {
    "duration": 17,
    "start_time": "2022-07-27T10:31:43.882Z"
   },
   {
    "duration": 9,
    "start_time": "2022-07-27T10:31:43.902Z"
   },
   {
    "duration": 8,
    "start_time": "2022-07-27T10:31:43.912Z"
   },
   {
    "duration": 8,
    "start_time": "2022-07-27T10:31:43.922Z"
   },
   {
    "duration": 8,
    "start_time": "2022-07-27T10:31:43.931Z"
   },
   {
    "duration": 12,
    "start_time": "2022-07-27T10:31:43.941Z"
   },
   {
    "duration": 9,
    "start_time": "2022-07-27T10:31:43.955Z"
   },
   {
    "duration": 340,
    "start_time": "2022-07-27T10:31:43.966Z"
   },
   {
    "duration": 4,
    "start_time": "2022-07-27T10:31:44.308Z"
   },
   {
    "duration": 11,
    "start_time": "2022-07-27T10:31:44.313Z"
   },
   {
    "duration": 285,
    "start_time": "2022-07-27T10:31:44.325Z"
   },
   {
    "duration": 11,
    "start_time": "2022-07-27T10:31:44.612Z"
   },
   {
    "duration": 13,
    "start_time": "2022-07-27T10:31:44.625Z"
   },
   {
    "duration": 9,
    "start_time": "2022-07-27T10:31:44.652Z"
   },
   {
    "duration": 15,
    "start_time": "2022-07-27T10:31:44.663Z"
   },
   {
    "duration": 12,
    "start_time": "2022-07-27T10:31:44.679Z"
   },
   {
    "duration": 13,
    "start_time": "2022-07-27T10:31:44.693Z"
   },
   {
    "duration": 12,
    "start_time": "2022-07-27T10:31:44.708Z"
   },
   {
    "duration": 13,
    "start_time": "2022-07-27T10:31:44.722Z"
   },
   {
    "duration": 4,
    "start_time": "2022-07-27T10:31:44.751Z"
   },
   {
    "duration": 6,
    "start_time": "2022-07-27T10:31:44.757Z"
   },
   {
    "duration": 12,
    "start_time": "2022-07-27T10:31:44.764Z"
   },
   {
    "duration": 338,
    "start_time": "2022-07-27T10:31:44.777Z"
   },
   {
    "duration": 264,
    "start_time": "2022-07-27T10:31:45.116Z"
   },
   {
    "duration": 354,
    "start_time": "2022-07-27T10:31:45.381Z"
   },
   {
    "duration": 286,
    "start_time": "2022-07-27T10:31:45.736Z"
   },
   {
    "duration": 401,
    "start_time": "2022-07-27T10:31:46.024Z"
   },
   {
    "duration": 7,
    "start_time": "2022-07-27T10:31:46.427Z"
   },
   {
    "duration": 7,
    "start_time": "2022-07-27T10:31:46.453Z"
   },
   {
    "duration": 156,
    "start_time": "2022-07-27T10:31:46.461Z"
   },
   {
    "duration": 7,
    "start_time": "2022-07-27T10:31:46.619Z"
   },
   {
    "duration": 19,
    "start_time": "2022-07-27T10:31:46.627Z"
   },
   {
    "duration": 8,
    "start_time": "2022-07-27T10:31:46.647Z"
   },
   {
    "duration": 231,
    "start_time": "2022-07-27T10:31:46.656Z"
   },
   {
    "duration": 6,
    "start_time": "2022-07-27T10:31:46.888Z"
   },
   {
    "duration": 5,
    "start_time": "2022-07-27T10:31:46.895Z"
   },
   {
    "duration": 5,
    "start_time": "2022-07-27T10:31:46.902Z"
   },
   {
    "duration": 10,
    "start_time": "2022-07-27T10:31:46.908Z"
   },
   {
    "duration": 8,
    "start_time": "2022-07-27T10:31:46.919Z"
   },
   {
    "duration": 6,
    "start_time": "2022-07-27T10:31:46.953Z"
   },
   {
    "duration": 12,
    "start_time": "2022-07-27T10:31:46.961Z"
   },
   {
    "duration": 9,
    "start_time": "2022-07-27T10:31:46.975Z"
   },
   {
    "duration": 13,
    "start_time": "2022-07-27T10:31:46.986Z"
   },
   {
    "duration": 10,
    "start_time": "2022-07-27T10:31:47.000Z"
   },
   {
    "duration": 13,
    "start_time": "2022-07-27T10:31:47.011Z"
   },
   {
    "duration": 9,
    "start_time": "2022-07-27T10:31:47.026Z"
   },
   {
    "duration": 16,
    "start_time": "2022-07-27T10:31:47.036Z"
   },
   {
    "duration": 11,
    "start_time": "2022-07-27T10:31:47.054Z"
   },
   {
    "duration": 5,
    "start_time": "2022-07-27T10:31:47.067Z"
   },
   {
    "duration": 9,
    "start_time": "2022-07-27T10:31:47.073Z"
   },
   {
    "duration": 5,
    "start_time": "2022-07-27T10:33:01.384Z"
   },
   {
    "duration": 6,
    "start_time": "2022-07-27T10:33:19.307Z"
   },
   {
    "duration": 5,
    "start_time": "2022-07-27T10:33:23.603Z"
   },
   {
    "duration": 4,
    "start_time": "2022-07-27T10:33:24.085Z"
   },
   {
    "duration": 5,
    "start_time": "2022-07-27T10:33:25.170Z"
   },
   {
    "duration": 6,
    "start_time": "2022-07-27T10:33:26.549Z"
   },
   {
    "duration": 6,
    "start_time": "2022-07-27T11:05:47.443Z"
   },
   {
    "duration": 6,
    "start_time": "2022-07-27T11:05:48.052Z"
   },
   {
    "duration": 5,
    "start_time": "2022-07-27T11:05:48.620Z"
   },
   {
    "duration": 5,
    "start_time": "2022-07-27T11:05:49.184Z"
   },
   {
    "duration": 5,
    "start_time": "2022-07-27T11:05:50.241Z"
   },
   {
    "duration": 97,
    "start_time": "2022-07-27T12:01:12.477Z"
   },
   {
    "duration": 13,
    "start_time": "2022-07-27T12:01:57.944Z"
   },
   {
    "duration": 1115,
    "start_time": "2022-07-27T12:26:49.865Z"
   },
   {
    "duration": 3,
    "start_time": "2022-07-27T12:26:50.982Z"
   },
   {
    "duration": 75,
    "start_time": "2022-07-27T12:26:50.987Z"
   },
   {
    "duration": 3,
    "start_time": "2022-07-27T12:26:51.064Z"
   },
   {
    "duration": 15,
    "start_time": "2022-07-27T12:26:51.069Z"
   },
   {
    "duration": 6,
    "start_time": "2022-07-27T12:26:51.086Z"
   },
   {
    "duration": 10,
    "start_time": "2022-07-27T12:26:51.093Z"
   },
   {
    "duration": 8,
    "start_time": "2022-07-27T12:26:51.105Z"
   },
   {
    "duration": 7,
    "start_time": "2022-07-27T12:26:51.115Z"
   },
   {
    "duration": 29,
    "start_time": "2022-07-27T12:26:51.124Z"
   },
   {
    "duration": 5,
    "start_time": "2022-07-27T12:26:51.155Z"
   },
   {
    "duration": 9,
    "start_time": "2022-07-27T12:26:51.162Z"
   },
   {
    "duration": 8,
    "start_time": "2022-07-27T12:26:51.173Z"
   },
   {
    "duration": 7,
    "start_time": "2022-07-27T12:26:51.185Z"
   },
   {
    "duration": 7,
    "start_time": "2022-07-27T12:26:51.194Z"
   },
   {
    "duration": 9,
    "start_time": "2022-07-27T12:26:51.203Z"
   },
   {
    "duration": 7,
    "start_time": "2022-07-27T12:26:51.213Z"
   },
   {
    "duration": 7,
    "start_time": "2022-07-27T12:26:51.222Z"
   },
   {
    "duration": 27,
    "start_time": "2022-07-27T12:26:51.231Z"
   },
   {
    "duration": 375,
    "start_time": "2022-07-27T12:26:51.259Z"
   },
   {
    "duration": 4,
    "start_time": "2022-07-27T12:26:51.637Z"
   },
   {
    "duration": 13,
    "start_time": "2022-07-27T12:26:51.642Z"
   },
   {
    "duration": 306,
    "start_time": "2022-07-27T12:26:51.656Z"
   },
   {
    "duration": 10,
    "start_time": "2022-07-27T12:26:51.964Z"
   },
   {
    "duration": 12,
    "start_time": "2022-07-27T12:26:51.975Z"
   },
   {
    "duration": 11,
    "start_time": "2022-07-27T12:26:51.988Z"
   },
   {
    "duration": 15,
    "start_time": "2022-07-27T12:26:52.000Z"
   },
   {
    "duration": 7,
    "start_time": "2022-07-27T12:26:52.016Z"
   },
   {
    "duration": 33,
    "start_time": "2022-07-27T12:26:52.024Z"
   },
   {
    "duration": 11,
    "start_time": "2022-07-27T12:26:52.059Z"
   },
   {
    "duration": 18,
    "start_time": "2022-07-27T12:26:52.072Z"
   },
   {
    "duration": 9,
    "start_time": "2022-07-27T12:26:52.092Z"
   },
   {
    "duration": 7,
    "start_time": "2022-07-27T12:26:52.104Z"
   },
   {
    "duration": 39,
    "start_time": "2022-07-27T12:26:52.113Z"
   },
   {
    "duration": 388,
    "start_time": "2022-07-27T12:26:52.154Z"
   },
   {
    "duration": 316,
    "start_time": "2022-07-27T12:26:52.544Z"
   },
   {
    "duration": 402,
    "start_time": "2022-07-27T12:26:52.862Z"
   },
   {
    "duration": 340,
    "start_time": "2022-07-27T12:26:53.266Z"
   },
   {
    "duration": 388,
    "start_time": "2022-07-27T12:26:53.608Z"
   },
   {
    "duration": 6,
    "start_time": "2022-07-27T12:26:53.998Z"
   },
   {
    "duration": 6,
    "start_time": "2022-07-27T12:26:54.008Z"
   },
   {
    "duration": 185,
    "start_time": "2022-07-27T12:26:54.016Z"
   },
   {
    "duration": 6,
    "start_time": "2022-07-27T12:26:54.203Z"
   },
   {
    "duration": 8,
    "start_time": "2022-07-27T12:26:54.210Z"
   },
   {
    "duration": 5,
    "start_time": "2022-07-27T12:26:54.219Z"
   },
   {
    "duration": 258,
    "start_time": "2022-07-27T12:26:54.226Z"
   },
   {
    "duration": 96,
    "start_time": "2022-07-27T12:26:54.486Z"
   },
   {
    "duration": 0,
    "start_time": "2022-07-27T12:26:54.584Z"
   },
   {
    "duration": 0,
    "start_time": "2022-07-27T12:26:54.585Z"
   },
   {
    "duration": 0,
    "start_time": "2022-07-27T12:26:54.587Z"
   },
   {
    "duration": 0,
    "start_time": "2022-07-27T12:26:54.588Z"
   },
   {
    "duration": 0,
    "start_time": "2022-07-27T12:26:54.589Z"
   },
   {
    "duration": 0,
    "start_time": "2022-07-27T12:26:54.590Z"
   },
   {
    "duration": 0,
    "start_time": "2022-07-27T12:26:54.591Z"
   },
   {
    "duration": 0,
    "start_time": "2022-07-27T12:26:54.593Z"
   },
   {
    "duration": 0,
    "start_time": "2022-07-27T12:26:54.594Z"
   },
   {
    "duration": 0,
    "start_time": "2022-07-27T12:26:54.595Z"
   },
   {
    "duration": 0,
    "start_time": "2022-07-27T12:26:54.596Z"
   },
   {
    "duration": 0,
    "start_time": "2022-07-27T12:26:54.597Z"
   },
   {
    "duration": 0,
    "start_time": "2022-07-27T12:26:54.598Z"
   },
   {
    "duration": 0,
    "start_time": "2022-07-27T12:26:54.600Z"
   },
   {
    "duration": 0,
    "start_time": "2022-07-27T12:26:54.601Z"
   },
   {
    "duration": 0,
    "start_time": "2022-07-27T12:26:54.605Z"
   },
   {
    "duration": 11,
    "start_time": "2022-07-27T12:28:31.706Z"
   },
   {
    "duration": 6,
    "start_time": "2022-07-27T12:28:33.507Z"
   },
   {
    "duration": 5,
    "start_time": "2022-07-27T12:28:34.181Z"
   },
   {
    "duration": 5,
    "start_time": "2022-07-27T12:28:34.827Z"
   },
   {
    "duration": 1169,
    "start_time": "2022-07-27T12:29:33.797Z"
   },
   {
    "duration": 5,
    "start_time": "2022-07-27T12:30:19.810Z"
   },
   {
    "duration": 4,
    "start_time": "2022-07-27T12:30:20.353Z"
   },
   {
    "duration": 4,
    "start_time": "2022-07-27T12:30:21.643Z"
   },
   {
    "duration": 9,
    "start_time": "2022-07-27T12:30:37.588Z"
   },
   {
    "duration": 149,
    "start_time": "2022-07-27T12:30:43.113Z"
   },
   {
    "duration": 3,
    "start_time": "2022-07-27T12:31:31.028Z"
   },
   {
    "duration": 155,
    "start_time": "2022-07-27T12:31:44.891Z"
   },
   {
    "duration": 208,
    "start_time": "2022-07-27T12:32:24.946Z"
   },
   {
    "duration": 170,
    "start_time": "2022-07-27T12:32:44.084Z"
   },
   {
    "duration": 153,
    "start_time": "2022-07-27T12:33:07.440Z"
   },
   {
    "duration": 202,
    "start_time": "2022-07-27T12:33:25.939Z"
   },
   {
    "duration": 173,
    "start_time": "2022-07-27T12:33:31.242Z"
   },
   {
    "duration": 13,
    "start_time": "2022-07-27T12:33:49.200Z"
   },
   {
    "duration": 143,
    "start_time": "2022-07-27T12:34:13.830Z"
   },
   {
    "duration": 5,
    "start_time": "2022-07-27T12:35:47.501Z"
   },
   {
    "duration": 3,
    "start_time": "2022-07-27T12:35:57.631Z"
   },
   {
    "duration": 159,
    "start_time": "2022-07-27T12:36:27.579Z"
   },
   {
    "duration": 153,
    "start_time": "2022-07-27T12:37:20.303Z"
   },
   {
    "duration": 165,
    "start_time": "2022-07-27T12:37:32.583Z"
   },
   {
    "duration": 9,
    "start_time": "2022-07-27T13:07:17.733Z"
   },
   {
    "duration": 5,
    "start_time": "2022-07-27T13:07:18.352Z"
   },
   {
    "duration": 7,
    "start_time": "2022-07-27T13:07:28.930Z"
   },
   {
    "duration": 6,
    "start_time": "2022-07-27T13:07:37.031Z"
   },
   {
    "duration": 7,
    "start_time": "2022-07-27T13:09:10.480Z"
   },
   {
    "duration": 10,
    "start_time": "2022-07-27T13:09:14.564Z"
   },
   {
    "duration": 6,
    "start_time": "2022-07-27T13:09:15.070Z"
   },
   {
    "duration": 19,
    "start_time": "2022-07-27T13:11:47.222Z"
   },
   {
    "duration": 9,
    "start_time": "2022-07-27T13:14:33.090Z"
   },
   {
    "duration": 10,
    "start_time": "2022-07-27T13:14:59.209Z"
   },
   {
    "duration": 12,
    "start_time": "2022-07-27T13:14:59.650Z"
   },
   {
    "duration": 9,
    "start_time": "2022-07-27T13:16:25.417Z"
   },
   {
    "duration": 7,
    "start_time": "2022-07-27T13:16:44.374Z"
   },
   {
    "duration": 5,
    "start_time": "2022-07-27T13:16:45.188Z"
   },
   {
    "duration": 5,
    "start_time": "2022-07-27T13:16:45.931Z"
   },
   {
    "duration": 8,
    "start_time": "2022-07-27T13:17:16.364Z"
   },
   {
    "duration": 6,
    "start_time": "2022-07-27T13:17:18.528Z"
   },
   {
    "duration": 10,
    "start_time": "2022-07-27T13:17:19.426Z"
   },
   {
    "duration": 7,
    "start_time": "2022-07-27T13:17:27.294Z"
   },
   {
    "duration": 10,
    "start_time": "2022-07-27T13:17:28.143Z"
   },
   {
    "duration": 7,
    "start_time": "2022-07-27T13:17:31.188Z"
   },
   {
    "duration": 6,
    "start_time": "2022-07-27T13:17:32.140Z"
   },
   {
    "duration": 6,
    "start_time": "2022-07-27T13:17:33.040Z"
   },
   {
    "duration": 161,
    "start_time": "2022-07-27T13:17:53.548Z"
   },
   {
    "duration": 232,
    "start_time": "2022-07-27T13:17:58.022Z"
   },
   {
    "duration": 1122,
    "start_time": "2022-07-27T13:18:03.143Z"
   },
   {
    "duration": 3,
    "start_time": "2022-07-27T13:18:04.267Z"
   },
   {
    "duration": 86,
    "start_time": "2022-07-27T13:18:04.271Z"
   },
   {
    "duration": 2,
    "start_time": "2022-07-27T13:18:04.359Z"
   },
   {
    "duration": 15,
    "start_time": "2022-07-27T13:18:04.363Z"
   },
   {
    "duration": 6,
    "start_time": "2022-07-27T13:18:04.380Z"
   },
   {
    "duration": 11,
    "start_time": "2022-07-27T13:18:04.388Z"
   },
   {
    "duration": 7,
    "start_time": "2022-07-27T13:18:04.401Z"
   },
   {
    "duration": 7,
    "start_time": "2022-07-27T13:18:04.409Z"
   },
   {
    "duration": 5,
    "start_time": "2022-07-27T13:18:04.418Z"
   },
   {
    "duration": 30,
    "start_time": "2022-07-27T13:18:04.425Z"
   },
   {
    "duration": 7,
    "start_time": "2022-07-27T13:18:04.457Z"
   },
   {
    "duration": 11,
    "start_time": "2022-07-27T13:18:04.465Z"
   },
   {
    "duration": 6,
    "start_time": "2022-07-27T13:18:04.478Z"
   },
   {
    "duration": 6,
    "start_time": "2022-07-27T13:18:04.485Z"
   },
   {
    "duration": 7,
    "start_time": "2022-07-27T13:18:04.493Z"
   },
   {
    "duration": 6,
    "start_time": "2022-07-27T13:18:04.502Z"
   },
   {
    "duration": 6,
    "start_time": "2022-07-27T13:18:04.509Z"
   },
   {
    "duration": 9,
    "start_time": "2022-07-27T13:18:04.516Z"
   },
   {
    "duration": 356,
    "start_time": "2022-07-27T13:18:04.526Z"
   },
   {
    "duration": 5,
    "start_time": "2022-07-27T13:18:04.884Z"
   },
   {
    "duration": 14,
    "start_time": "2022-07-27T13:18:04.890Z"
   },
   {
    "duration": 287,
    "start_time": "2022-07-27T13:18:04.906Z"
   },
   {
    "duration": 9,
    "start_time": "2022-07-27T13:18:05.195Z"
   },
   {
    "duration": 11,
    "start_time": "2022-07-27T13:18:05.205Z"
   },
   {
    "duration": 9,
    "start_time": "2022-07-27T13:18:05.217Z"
   },
   {
    "duration": 24,
    "start_time": "2022-07-27T13:18:05.228Z"
   },
   {
    "duration": 3,
    "start_time": "2022-07-27T13:18:05.255Z"
   },
   {
    "duration": 12,
    "start_time": "2022-07-27T13:18:05.260Z"
   },
   {
    "duration": 11,
    "start_time": "2022-07-27T13:18:05.273Z"
   },
   {
    "duration": 15,
    "start_time": "2022-07-27T13:18:05.285Z"
   },
   {
    "duration": 3,
    "start_time": "2022-07-27T13:18:05.302Z"
   },
   {
    "duration": 8,
    "start_time": "2022-07-27T13:18:05.307Z"
   },
   {
    "duration": 36,
    "start_time": "2022-07-27T13:18:05.316Z"
   },
   {
    "duration": 358,
    "start_time": "2022-07-27T13:18:05.354Z"
   },
   {
    "duration": 263,
    "start_time": "2022-07-27T13:18:05.714Z"
   },
   {
    "duration": 401,
    "start_time": "2022-07-27T13:18:05.979Z"
   },
   {
    "duration": 282,
    "start_time": "2022-07-27T13:18:06.382Z"
   },
   {
    "duration": 368,
    "start_time": "2022-07-27T13:18:06.666Z"
   },
   {
    "duration": 16,
    "start_time": "2022-07-27T13:18:07.036Z"
   },
   {
    "duration": 6,
    "start_time": "2022-07-27T13:18:07.054Z"
   },
   {
    "duration": 149,
    "start_time": "2022-07-27T13:18:07.062Z"
   },
   {
    "duration": 6,
    "start_time": "2022-07-27T13:18:07.212Z"
   },
   {
    "duration": 5,
    "start_time": "2022-07-27T13:18:07.219Z"
   },
   {
    "duration": 5,
    "start_time": "2022-07-27T13:18:07.225Z"
   },
   {
    "duration": 233,
    "start_time": "2022-07-27T13:18:07.252Z"
   },
   {
    "duration": 6,
    "start_time": "2022-07-27T13:18:07.486Z"
   },
   {
    "duration": 4,
    "start_time": "2022-07-27T13:18:07.493Z"
   },
   {
    "duration": 5,
    "start_time": "2022-07-27T13:18:07.499Z"
   },
   {
    "duration": 12,
    "start_time": "2022-07-27T13:18:07.505Z"
   },
   {
    "duration": 9,
    "start_time": "2022-07-27T13:18:07.518Z"
   },
   {
    "duration": 26,
    "start_time": "2022-07-27T13:18:07.529Z"
   },
   {
    "duration": 15,
    "start_time": "2022-07-27T13:18:07.557Z"
   },
   {
    "duration": 10,
    "start_time": "2022-07-27T13:18:07.574Z"
   },
   {
    "duration": 7,
    "start_time": "2022-07-27T13:18:07.586Z"
   },
   {
    "duration": 8,
    "start_time": "2022-07-27T13:18:07.595Z"
   },
   {
    "duration": 12,
    "start_time": "2022-07-27T13:18:07.604Z"
   },
   {
    "duration": 8,
    "start_time": "2022-07-27T13:18:07.617Z"
   },
   {
    "duration": 9,
    "start_time": "2022-07-27T13:18:07.626Z"
   },
   {
    "duration": 8,
    "start_time": "2022-07-27T13:18:07.652Z"
   },
   {
    "duration": 4,
    "start_time": "2022-07-27T13:18:07.662Z"
   },
   {
    "duration": 6,
    "start_time": "2022-07-27T13:18:07.667Z"
   },
   {
    "duration": 156,
    "start_time": "2022-07-27T13:20:18.445Z"
   },
   {
    "duration": 152,
    "start_time": "2022-07-27T13:20:19.771Z"
   },
   {
    "duration": 231,
    "start_time": "2022-07-27T13:20:47.482Z"
   },
   {
    "duration": 18,
    "start_time": "2022-07-27T13:21:02.996Z"
   },
   {
    "duration": 151,
    "start_time": "2022-07-27T13:21:56.686Z"
   },
   {
    "duration": 158,
    "start_time": "2022-07-27T13:22:19.626Z"
   },
   {
    "duration": 197,
    "start_time": "2022-07-27T13:22:48.182Z"
   },
   {
    "duration": 185,
    "start_time": "2022-07-27T13:22:59.843Z"
   },
   {
    "duration": 160,
    "start_time": "2022-07-27T13:23:02.084Z"
   },
   {
    "duration": 1077,
    "start_time": "2022-07-27T13:24:44.971Z"
   },
   {
    "duration": 3,
    "start_time": "2022-07-27T13:24:46.050Z"
   },
   {
    "duration": 82,
    "start_time": "2022-07-27T13:24:46.055Z"
   },
   {
    "duration": 3,
    "start_time": "2022-07-27T13:24:46.140Z"
   },
   {
    "duration": 21,
    "start_time": "2022-07-27T13:24:46.145Z"
   },
   {
    "duration": 12,
    "start_time": "2022-07-27T13:24:46.168Z"
   },
   {
    "duration": 18,
    "start_time": "2022-07-27T13:24:46.183Z"
   },
   {
    "duration": 12,
    "start_time": "2022-07-27T13:24:46.203Z"
   },
   {
    "duration": 8,
    "start_time": "2022-07-27T13:24:46.216Z"
   },
   {
    "duration": 8,
    "start_time": "2022-07-27T13:24:46.227Z"
   },
   {
    "duration": 18,
    "start_time": "2022-07-27T13:24:46.237Z"
   },
   {
    "duration": 5,
    "start_time": "2022-07-27T13:24:46.257Z"
   },
   {
    "duration": 12,
    "start_time": "2022-07-27T13:24:46.263Z"
   },
   {
    "duration": 9,
    "start_time": "2022-07-27T13:24:46.277Z"
   },
   {
    "duration": 8,
    "start_time": "2022-07-27T13:24:46.287Z"
   },
   {
    "duration": 8,
    "start_time": "2022-07-27T13:24:46.296Z"
   },
   {
    "duration": 7,
    "start_time": "2022-07-27T13:24:46.305Z"
   },
   {
    "duration": 5,
    "start_time": "2022-07-27T13:24:46.313Z"
   },
   {
    "duration": 11,
    "start_time": "2022-07-27T13:24:46.319Z"
   },
   {
    "duration": 330,
    "start_time": "2022-07-27T13:24:46.352Z"
   },
   {
    "duration": 5,
    "start_time": "2022-07-27T13:24:46.684Z"
   },
   {
    "duration": 13,
    "start_time": "2022-07-27T13:24:46.690Z"
   },
   {
    "duration": 279,
    "start_time": "2022-07-27T13:24:46.704Z"
   },
   {
    "duration": 9,
    "start_time": "2022-07-27T13:24:46.985Z"
   },
   {
    "duration": 11,
    "start_time": "2022-07-27T13:24:46.995Z"
   },
   {
    "duration": 10,
    "start_time": "2022-07-27T13:24:47.007Z"
   },
   {
    "duration": 8,
    "start_time": "2022-07-27T13:24:47.018Z"
   },
   {
    "duration": 23,
    "start_time": "2022-07-27T13:24:47.029Z"
   },
   {
    "duration": 11,
    "start_time": "2022-07-27T13:24:47.053Z"
   },
   {
    "duration": 10,
    "start_time": "2022-07-27T13:24:47.065Z"
   },
   {
    "duration": 13,
    "start_time": "2022-07-27T13:24:47.076Z"
   },
   {
    "duration": 4,
    "start_time": "2022-07-27T13:24:47.090Z"
   },
   {
    "duration": 7,
    "start_time": "2022-07-27T13:24:47.095Z"
   },
   {
    "duration": 10,
    "start_time": "2022-07-27T13:24:47.103Z"
   },
   {
    "duration": 356,
    "start_time": "2022-07-27T13:24:47.114Z"
   },
   {
    "duration": 274,
    "start_time": "2022-07-27T13:24:47.472Z"
   },
   {
    "duration": 372,
    "start_time": "2022-07-27T13:24:47.748Z"
   },
   {
    "duration": 315,
    "start_time": "2022-07-27T13:24:48.122Z"
   },
   {
    "duration": 417,
    "start_time": "2022-07-27T13:24:48.439Z"
   },
   {
    "duration": 6,
    "start_time": "2022-07-27T13:24:48.857Z"
   },
   {
    "duration": 6,
    "start_time": "2022-07-27T13:24:48.865Z"
   },
   {
    "duration": 176,
    "start_time": "2022-07-27T13:24:48.872Z"
   },
   {
    "duration": 5,
    "start_time": "2022-07-27T13:24:49.052Z"
   },
   {
    "duration": 6,
    "start_time": "2022-07-27T13:24:49.058Z"
   },
   {
    "duration": 5,
    "start_time": "2022-07-27T13:24:49.065Z"
   },
   {
    "duration": 259,
    "start_time": "2022-07-27T13:24:49.072Z"
   },
   {
    "duration": 172,
    "start_time": "2022-07-27T13:24:49.333Z"
   },
   {
    "duration": 5,
    "start_time": "2022-07-27T13:24:49.506Z"
   },
   {
    "duration": 7,
    "start_time": "2022-07-27T13:24:49.513Z"
   },
   {
    "duration": 6,
    "start_time": "2022-07-27T13:24:49.521Z"
   },
   {
    "duration": 26,
    "start_time": "2022-07-27T13:24:49.529Z"
   },
   {
    "duration": 12,
    "start_time": "2022-07-27T13:24:49.557Z"
   },
   {
    "duration": 8,
    "start_time": "2022-07-27T13:24:49.570Z"
   },
   {
    "duration": 10,
    "start_time": "2022-07-27T13:24:49.579Z"
   },
   {
    "duration": 9,
    "start_time": "2022-07-27T13:24:49.590Z"
   },
   {
    "duration": 5,
    "start_time": "2022-07-27T13:24:49.601Z"
   },
   {
    "duration": 7,
    "start_time": "2022-07-27T13:24:49.608Z"
   },
   {
    "duration": 45,
    "start_time": "2022-07-27T13:24:49.616Z"
   },
   {
    "duration": 7,
    "start_time": "2022-07-27T13:24:49.663Z"
   },
   {
    "duration": 6,
    "start_time": "2022-07-27T13:24:49.672Z"
   },
   {
    "duration": 9,
    "start_time": "2022-07-27T13:24:49.680Z"
   },
   {
    "duration": 14,
    "start_time": "2022-07-27T13:24:49.690Z"
   },
   {
    "duration": 9,
    "start_time": "2022-07-27T13:24:49.705Z"
   },
   {
    "duration": 224,
    "start_time": "2022-07-27T13:26:01.803Z"
   },
   {
    "duration": 150,
    "start_time": "2022-07-27T13:26:15.040Z"
   },
   {
    "duration": 153,
    "start_time": "2022-07-27T13:27:02.590Z"
   },
   {
    "duration": 142,
    "start_time": "2022-07-27T13:27:05.786Z"
   },
   {
    "duration": 1214,
    "start_time": "2022-07-27T13:30:43.493Z"
   },
   {
    "duration": 8,
    "start_time": "2022-07-27T13:31:39.340Z"
   },
   {
    "duration": 10,
    "start_time": "2022-07-27T13:32:24.211Z"
   },
   {
    "duration": 7,
    "start_time": "2022-07-27T13:32:24.721Z"
   },
   {
    "duration": 8,
    "start_time": "2022-07-27T13:32:28.603Z"
   },
   {
    "duration": 11,
    "start_time": "2022-07-27T13:33:12.788Z"
   },
   {
    "duration": 9,
    "start_time": "2022-07-27T13:33:32.115Z"
   },
   {
    "duration": 10,
    "start_time": "2022-07-27T13:33:39.149Z"
   },
   {
    "duration": 10,
    "start_time": "2022-07-27T13:33:39.831Z"
   },
   {
    "duration": 8,
    "start_time": "2022-07-27T13:38:05.352Z"
   },
   {
    "duration": 9,
    "start_time": "2022-07-27T13:38:06.001Z"
   },
   {
    "duration": 1066,
    "start_time": "2022-07-27T13:41:31.391Z"
   },
   {
    "duration": 3,
    "start_time": "2022-07-27T13:41:32.459Z"
   },
   {
    "duration": 80,
    "start_time": "2022-07-27T13:41:32.463Z"
   },
   {
    "duration": 3,
    "start_time": "2022-07-27T13:41:32.544Z"
   },
   {
    "duration": 13,
    "start_time": "2022-07-27T13:41:32.549Z"
   },
   {
    "duration": 5,
    "start_time": "2022-07-27T13:41:32.563Z"
   },
   {
    "duration": 10,
    "start_time": "2022-07-27T13:41:32.569Z"
   },
   {
    "duration": 9,
    "start_time": "2022-07-27T13:41:32.581Z"
   },
   {
    "duration": 6,
    "start_time": "2022-07-27T13:41:32.592Z"
   },
   {
    "duration": 19,
    "start_time": "2022-07-27T13:41:32.600Z"
   },
   {
    "duration": 10,
    "start_time": "2022-07-27T13:41:32.621Z"
   },
   {
    "duration": 11,
    "start_time": "2022-07-27T13:41:32.632Z"
   },
   {
    "duration": 12,
    "start_time": "2022-07-27T13:41:32.644Z"
   },
   {
    "duration": 7,
    "start_time": "2022-07-27T13:41:32.658Z"
   },
   {
    "duration": 6,
    "start_time": "2022-07-27T13:41:32.666Z"
   },
   {
    "duration": 10,
    "start_time": "2022-07-27T13:41:32.674Z"
   },
   {
    "duration": 7,
    "start_time": "2022-07-27T13:41:32.685Z"
   },
   {
    "duration": 13,
    "start_time": "2022-07-27T13:41:32.693Z"
   },
   {
    "duration": 9,
    "start_time": "2022-07-27T13:41:32.707Z"
   },
   {
    "duration": 373,
    "start_time": "2022-07-27T13:41:32.717Z"
   },
   {
    "duration": 4,
    "start_time": "2022-07-27T13:41:33.092Z"
   },
   {
    "duration": 12,
    "start_time": "2022-07-27T13:41:33.098Z"
   },
   {
    "duration": 281,
    "start_time": "2022-07-27T13:41:33.112Z"
   },
   {
    "duration": 10,
    "start_time": "2022-07-27T13:41:33.395Z"
   },
   {
    "duration": 9,
    "start_time": "2022-07-27T13:41:33.407Z"
   },
   {
    "duration": 9,
    "start_time": "2022-07-27T13:41:33.418Z"
   },
   {
    "duration": 30,
    "start_time": "2022-07-27T13:41:33.428Z"
   },
   {
    "duration": 4,
    "start_time": "2022-07-27T13:41:33.460Z"
   },
   {
    "duration": 11,
    "start_time": "2022-07-27T13:41:33.466Z"
   },
   {
    "duration": 12,
    "start_time": "2022-07-27T13:41:33.478Z"
   },
   {
    "duration": 16,
    "start_time": "2022-07-27T13:41:33.492Z"
   },
   {
    "duration": 7,
    "start_time": "2022-07-27T13:41:33.509Z"
   },
   {
    "duration": 8,
    "start_time": "2022-07-27T13:41:33.518Z"
   },
   {
    "duration": 31,
    "start_time": "2022-07-27T13:41:33.527Z"
   },
   {
    "duration": 368,
    "start_time": "2022-07-27T13:41:33.560Z"
   },
   {
    "duration": 291,
    "start_time": "2022-07-27T13:41:33.931Z"
   },
   {
    "duration": 425,
    "start_time": "2022-07-27T13:41:34.223Z"
   },
   {
    "duration": 274,
    "start_time": "2022-07-27T13:41:34.651Z"
   },
   {
    "duration": 388,
    "start_time": "2022-07-27T13:41:34.927Z"
   },
   {
    "duration": 6,
    "start_time": "2022-07-27T13:41:35.317Z"
   },
   {
    "duration": 6,
    "start_time": "2022-07-27T13:41:35.326Z"
   },
   {
    "duration": 160,
    "start_time": "2022-07-27T13:41:35.333Z"
   },
   {
    "duration": 5,
    "start_time": "2022-07-27T13:41:35.495Z"
   },
   {
    "duration": 10,
    "start_time": "2022-07-27T13:41:35.502Z"
   },
   {
    "duration": 8,
    "start_time": "2022-07-27T13:41:35.514Z"
   },
   {
    "duration": 251,
    "start_time": "2022-07-27T13:41:35.523Z"
   },
   {
    "duration": 253,
    "start_time": "2022-07-27T13:41:35.775Z"
   },
   {
    "duration": 0,
    "start_time": "2022-07-27T13:41:36.030Z"
   },
   {
    "duration": 0,
    "start_time": "2022-07-27T13:41:36.031Z"
   },
   {
    "duration": 0,
    "start_time": "2022-07-27T13:41:36.033Z"
   },
   {
    "duration": 0,
    "start_time": "2022-07-27T13:41:36.035Z"
   },
   {
    "duration": 0,
    "start_time": "2022-07-27T13:41:36.053Z"
   },
   {
    "duration": 0,
    "start_time": "2022-07-27T13:41:36.054Z"
   },
   {
    "duration": 0,
    "start_time": "2022-07-27T13:41:36.056Z"
   },
   {
    "duration": 0,
    "start_time": "2022-07-27T13:41:36.057Z"
   },
   {
    "duration": 0,
    "start_time": "2022-07-27T13:41:36.059Z"
   },
   {
    "duration": 0,
    "start_time": "2022-07-27T13:41:36.060Z"
   },
   {
    "duration": 0,
    "start_time": "2022-07-27T13:41:36.061Z"
   },
   {
    "duration": 0,
    "start_time": "2022-07-27T13:41:36.062Z"
   },
   {
    "duration": 0,
    "start_time": "2022-07-27T13:41:36.064Z"
   },
   {
    "duration": 0,
    "start_time": "2022-07-27T13:41:36.065Z"
   },
   {
    "duration": 0,
    "start_time": "2022-07-27T13:41:36.066Z"
   },
   {
    "duration": 0,
    "start_time": "2022-07-27T13:41:36.068Z"
   },
   {
    "duration": 0,
    "start_time": "2022-07-27T13:41:36.069Z"
   },
   {
    "duration": 134,
    "start_time": "2022-07-27T13:41:48.991Z"
   },
   {
    "duration": 5,
    "start_time": "2022-07-27T13:41:50.282Z"
   },
   {
    "duration": 4,
    "start_time": "2022-07-27T13:41:52.914Z"
   },
   {
    "duration": 4,
    "start_time": "2022-07-27T13:41:53.290Z"
   },
   {
    "duration": 9,
    "start_time": "2022-07-27T13:41:54.978Z"
   },
   {
    "duration": 7,
    "start_time": "2022-07-27T13:41:55.597Z"
   },
   {
    "duration": 8,
    "start_time": "2022-07-27T13:41:56.348Z"
   },
   {
    "duration": 7,
    "start_time": "2022-07-27T13:42:02.638Z"
   },
   {
    "duration": 8,
    "start_time": "2022-07-27T13:43:54.957Z"
   },
   {
    "duration": 5,
    "start_time": "2022-07-27T13:43:55.934Z"
   },
   {
    "duration": 5,
    "start_time": "2022-07-27T13:43:57.113Z"
   },
   {
    "duration": 10,
    "start_time": "2022-07-27T13:48:06.853Z"
   },
   {
    "duration": 7,
    "start_time": "2022-07-27T13:48:08.334Z"
   },
   {
    "duration": 5,
    "start_time": "2022-07-27T13:48:22.323Z"
   },
   {
    "duration": 8,
    "start_time": "2022-07-27T13:48:23.049Z"
   },
   {
    "duration": 5,
    "start_time": "2022-07-27T13:48:27.833Z"
   },
   {
    "duration": 5,
    "start_time": "2022-07-27T13:48:28.680Z"
   },
   {
    "duration": 10,
    "start_time": "2022-07-27T13:52:40.878Z"
   },
   {
    "duration": 9,
    "start_time": "2022-07-27T13:54:59.443Z"
   },
   {
    "duration": 441,
    "start_time": "2022-07-27T13:56:51.852Z"
   },
   {
    "duration": 419,
    "start_time": "2022-07-27T13:57:03.532Z"
   },
   {
    "duration": 1017,
    "start_time": "2022-07-27T13:57:22.816Z"
   },
   {
    "duration": 3,
    "start_time": "2022-07-27T13:57:23.834Z"
   },
   {
    "duration": 79,
    "start_time": "2022-07-27T13:57:23.838Z"
   },
   {
    "duration": 2,
    "start_time": "2022-07-27T13:57:23.919Z"
   },
   {
    "duration": 13,
    "start_time": "2022-07-27T13:57:23.923Z"
   },
   {
    "duration": 5,
    "start_time": "2022-07-27T13:57:23.938Z"
   },
   {
    "duration": 12,
    "start_time": "2022-07-27T13:57:23.944Z"
   },
   {
    "duration": 9,
    "start_time": "2022-07-27T13:57:23.958Z"
   },
   {
    "duration": 7,
    "start_time": "2022-07-27T13:57:23.969Z"
   },
   {
    "duration": 6,
    "start_time": "2022-07-27T13:57:23.977Z"
   },
   {
    "duration": 8,
    "start_time": "2022-07-27T13:57:23.984Z"
   },
   {
    "duration": 7,
    "start_time": "2022-07-27T13:57:23.994Z"
   },
   {
    "duration": 10,
    "start_time": "2022-07-27T13:57:24.003Z"
   },
   {
    "duration": 8,
    "start_time": "2022-07-27T13:57:24.017Z"
   },
   {
    "duration": 29,
    "start_time": "2022-07-27T13:57:24.027Z"
   },
   {
    "duration": 7,
    "start_time": "2022-07-27T13:57:24.057Z"
   },
   {
    "duration": 7,
    "start_time": "2022-07-27T13:57:24.065Z"
   },
   {
    "duration": 8,
    "start_time": "2022-07-27T13:57:24.073Z"
   },
   {
    "duration": 11,
    "start_time": "2022-07-27T13:57:24.082Z"
   },
   {
    "duration": 340,
    "start_time": "2022-07-27T13:57:24.095Z"
   },
   {
    "duration": 4,
    "start_time": "2022-07-27T13:57:24.436Z"
   },
   {
    "duration": 15,
    "start_time": "2022-07-27T13:57:24.442Z"
   },
   {
    "duration": 303,
    "start_time": "2022-07-27T13:57:24.458Z"
   },
   {
    "duration": 9,
    "start_time": "2022-07-27T13:57:24.763Z"
   },
   {
    "duration": 12,
    "start_time": "2022-07-27T13:57:24.774Z"
   },
   {
    "duration": 9,
    "start_time": "2022-07-27T13:57:24.788Z"
   },
   {
    "duration": 9,
    "start_time": "2022-07-27T13:57:24.799Z"
   },
   {
    "duration": 4,
    "start_time": "2022-07-27T13:57:24.810Z"
   },
   {
    "duration": 36,
    "start_time": "2022-07-27T13:57:24.816Z"
   },
   {
    "duration": 11,
    "start_time": "2022-07-27T13:57:24.854Z"
   },
   {
    "duration": 15,
    "start_time": "2022-07-27T13:57:24.867Z"
   },
   {
    "duration": 6,
    "start_time": "2022-07-27T13:57:24.884Z"
   },
   {
    "duration": 8,
    "start_time": "2022-07-27T13:57:24.891Z"
   },
   {
    "duration": 11,
    "start_time": "2022-07-27T13:57:24.901Z"
   },
   {
    "duration": 410,
    "start_time": "2022-07-27T13:57:24.913Z"
   },
   {
    "duration": 290,
    "start_time": "2022-07-27T13:57:25.324Z"
   },
   {
    "duration": 413,
    "start_time": "2022-07-27T13:57:25.616Z"
   },
   {
    "duration": 337,
    "start_time": "2022-07-27T13:57:26.031Z"
   },
   {
    "duration": 353,
    "start_time": "2022-07-27T13:57:26.370Z"
   },
   {
    "duration": 6,
    "start_time": "2022-07-27T13:57:26.725Z"
   },
   {
    "duration": 19,
    "start_time": "2022-07-27T13:57:26.734Z"
   },
   {
    "duration": 156,
    "start_time": "2022-07-27T13:57:26.754Z"
   },
   {
    "duration": 5,
    "start_time": "2022-07-27T13:57:26.912Z"
   },
   {
    "duration": 6,
    "start_time": "2022-07-27T13:57:26.918Z"
   },
   {
    "duration": 6,
    "start_time": "2022-07-27T13:57:26.925Z"
   },
   {
    "duration": 235,
    "start_time": "2022-07-27T13:57:26.932Z"
   },
   {
    "duration": 224,
    "start_time": "2022-07-27T13:57:27.168Z"
   },
   {
    "duration": 0,
    "start_time": "2022-07-27T13:57:27.393Z"
   },
   {
    "duration": 0,
    "start_time": "2022-07-27T13:57:27.394Z"
   },
   {
    "duration": 0,
    "start_time": "2022-07-27T13:57:27.395Z"
   },
   {
    "duration": 0,
    "start_time": "2022-07-27T13:57:27.396Z"
   },
   {
    "duration": 0,
    "start_time": "2022-07-27T13:57:27.397Z"
   },
   {
    "duration": 0,
    "start_time": "2022-07-27T13:57:27.398Z"
   },
   {
    "duration": 0,
    "start_time": "2022-07-27T13:57:27.398Z"
   },
   {
    "duration": 0,
    "start_time": "2022-07-27T13:57:27.399Z"
   },
   {
    "duration": 0,
    "start_time": "2022-07-27T13:57:27.400Z"
   },
   {
    "duration": 0,
    "start_time": "2022-07-27T13:57:27.401Z"
   },
   {
    "duration": 0,
    "start_time": "2022-07-27T13:57:27.402Z"
   },
   {
    "duration": 0,
    "start_time": "2022-07-27T13:57:27.403Z"
   },
   {
    "duration": 0,
    "start_time": "2022-07-27T13:57:27.404Z"
   },
   {
    "duration": 0,
    "start_time": "2022-07-27T13:57:27.405Z"
   },
   {
    "duration": 0,
    "start_time": "2022-07-27T13:57:27.406Z"
   },
   {
    "duration": 0,
    "start_time": "2022-07-27T13:57:27.407Z"
   },
   {
    "duration": 0,
    "start_time": "2022-07-27T13:57:27.408Z"
   },
   {
    "duration": 59,
    "start_time": "2022-07-27T20:11:58.188Z"
   },
   {
    "duration": 1507,
    "start_time": "2022-07-27T20:12:08.136Z"
   },
   {
    "duration": 2,
    "start_time": "2022-07-27T20:12:09.646Z"
   },
   {
    "duration": 228,
    "start_time": "2022-07-27T20:12:09.650Z"
   },
   {
    "duration": 3,
    "start_time": "2022-07-27T20:12:09.880Z"
   },
   {
    "duration": 17,
    "start_time": "2022-07-27T20:12:09.885Z"
   },
   {
    "duration": 6,
    "start_time": "2022-07-27T20:12:10.657Z"
   },
   {
    "duration": 11,
    "start_time": "2022-07-27T20:12:10.823Z"
   },
   {
    "duration": 7,
    "start_time": "2022-07-27T20:12:11.082Z"
   },
   {
    "duration": 8,
    "start_time": "2022-07-27T20:12:11.164Z"
   },
   {
    "duration": 6,
    "start_time": "2022-07-27T20:12:11.325Z"
   },
   {
    "duration": 10,
    "start_time": "2022-07-27T20:12:11.505Z"
   },
   {
    "duration": 6,
    "start_time": "2022-07-27T20:12:12.217Z"
   },
   {
    "duration": 9,
    "start_time": "2022-07-27T20:12:12.226Z"
   },
   {
    "duration": 7,
    "start_time": "2022-07-27T20:12:12.237Z"
   },
   {
    "duration": 7,
    "start_time": "2022-07-27T20:12:12.246Z"
   },
   {
    "duration": 7,
    "start_time": "2022-07-27T20:12:12.346Z"
   },
   {
    "duration": 6,
    "start_time": "2022-07-27T20:12:12.527Z"
   },
   {
    "duration": 259,
    "start_time": "2022-07-27T20:14:03.630Z"
   },
   {
    "duration": 197,
    "start_time": "2022-07-27T20:15:20.247Z"
   },
   {
    "duration": 258,
    "start_time": "2022-07-27T20:16:11.895Z"
   },
   {
    "duration": 175,
    "start_time": "2022-07-27T20:16:36.928Z"
   },
   {
    "duration": 220,
    "start_time": "2022-07-27T20:16:40.681Z"
   },
   {
    "duration": 210,
    "start_time": "2022-07-27T20:16:43.914Z"
   },
   {
    "duration": 27,
    "start_time": "2022-07-27T20:18:36.806Z"
   },
   {
    "duration": 17,
    "start_time": "2022-07-27T20:28:10.305Z"
   },
   {
    "duration": 1298,
    "start_time": "2022-07-27T20:28:25.102Z"
   },
   {
    "duration": 2,
    "start_time": "2022-07-27T20:28:26.403Z"
   },
   {
    "duration": 108,
    "start_time": "2022-07-27T20:28:26.416Z"
   },
   {
    "duration": 3,
    "start_time": "2022-07-27T20:28:26.527Z"
   },
   {
    "duration": 22,
    "start_time": "2022-07-27T20:28:26.533Z"
   },
   {
    "duration": 9,
    "start_time": "2022-07-27T20:28:26.557Z"
   },
   {
    "duration": 14,
    "start_time": "2022-07-27T20:28:26.568Z"
   },
   {
    "duration": 8,
    "start_time": "2022-07-27T20:28:26.584Z"
   },
   {
    "duration": 22,
    "start_time": "2022-07-27T20:28:26.594Z"
   },
   {
    "duration": 26,
    "start_time": "2022-07-27T20:28:26.620Z"
   },
   {
    "duration": 9,
    "start_time": "2022-07-27T20:28:26.648Z"
   },
   {
    "duration": 8,
    "start_time": "2022-07-27T20:28:26.658Z"
   },
   {
    "duration": 9,
    "start_time": "2022-07-27T20:28:26.667Z"
   },
   {
    "duration": 8,
    "start_time": "2022-07-27T20:28:26.677Z"
   },
   {
    "duration": 39,
    "start_time": "2022-07-27T20:28:26.687Z"
   },
   {
    "duration": 7,
    "start_time": "2022-07-27T20:28:26.728Z"
   },
   {
    "duration": 13,
    "start_time": "2022-07-27T20:28:26.737Z"
   },
   {
    "duration": 18,
    "start_time": "2022-07-27T20:28:26.752Z"
   },
   {
    "duration": 450,
    "start_time": "2022-07-27T20:28:26.772Z"
   },
   {
    "duration": 5,
    "start_time": "2022-07-27T20:28:27.226Z"
   },
   {
    "duration": 13,
    "start_time": "2022-07-27T20:28:27.234Z"
   },
   {
    "duration": 354,
    "start_time": "2022-07-27T20:28:27.249Z"
   },
   {
    "duration": 23,
    "start_time": "2022-07-27T20:28:27.605Z"
   },
   {
    "duration": 10,
    "start_time": "2022-07-27T20:28:27.630Z"
   },
   {
    "duration": 15,
    "start_time": "2022-07-27T20:28:27.641Z"
   },
   {
    "duration": 12,
    "start_time": "2022-07-27T20:28:27.658Z"
   },
   {
    "duration": 20,
    "start_time": "2022-07-27T20:28:27.672Z"
   },
   {
    "duration": 26,
    "start_time": "2022-07-27T20:28:27.697Z"
   },
   {
    "duration": 28,
    "start_time": "2022-07-27T20:28:27.725Z"
   },
   {
    "duration": 27,
    "start_time": "2022-07-27T20:28:27.756Z"
   },
   {
    "duration": 8,
    "start_time": "2022-07-27T20:28:27.785Z"
   },
   {
    "duration": 24,
    "start_time": "2022-07-27T20:28:27.795Z"
   },
   {
    "duration": 28,
    "start_time": "2022-07-27T20:28:27.822Z"
   },
   {
    "duration": 450,
    "start_time": "2022-07-27T20:28:27.852Z"
   },
   {
    "duration": 353,
    "start_time": "2022-07-27T20:28:28.304Z"
   },
   {
    "duration": 429,
    "start_time": "2022-07-27T20:28:28.659Z"
   },
   {
    "duration": 365,
    "start_time": "2022-07-27T20:28:29.090Z"
   },
   {
    "duration": 431,
    "start_time": "2022-07-27T20:28:29.457Z"
   },
   {
    "duration": 8,
    "start_time": "2022-07-27T20:28:29.890Z"
   },
   {
    "duration": 26,
    "start_time": "2022-07-27T20:28:29.900Z"
   },
   {
    "duration": 174,
    "start_time": "2022-07-27T20:28:29.928Z"
   },
   {
    "duration": 20,
    "start_time": "2022-07-27T20:28:30.104Z"
   },
   {
    "duration": 15,
    "start_time": "2022-07-27T20:28:30.126Z"
   },
   {
    "duration": 14,
    "start_time": "2022-07-27T20:28:30.143Z"
   },
   {
    "duration": 317,
    "start_time": "2022-07-27T20:28:30.159Z"
   },
   {
    "duration": 473,
    "start_time": "2022-07-27T20:28:30.478Z"
   },
   {
    "duration": 0,
    "start_time": "2022-07-27T20:28:30.953Z"
   },
   {
    "duration": 0,
    "start_time": "2022-07-27T20:28:30.954Z"
   },
   {
    "duration": 0,
    "start_time": "2022-07-27T20:28:30.956Z"
   },
   {
    "duration": 0,
    "start_time": "2022-07-27T20:28:30.957Z"
   },
   {
    "duration": 0,
    "start_time": "2022-07-27T20:28:30.958Z"
   },
   {
    "duration": 0,
    "start_time": "2022-07-27T20:28:30.959Z"
   },
   {
    "duration": 0,
    "start_time": "2022-07-27T20:28:30.960Z"
   },
   {
    "duration": 0,
    "start_time": "2022-07-27T20:28:30.961Z"
   },
   {
    "duration": 0,
    "start_time": "2022-07-27T20:28:30.962Z"
   },
   {
    "duration": 0,
    "start_time": "2022-07-27T20:28:30.963Z"
   },
   {
    "duration": 0,
    "start_time": "2022-07-27T20:28:30.964Z"
   },
   {
    "duration": 0,
    "start_time": "2022-07-27T20:28:30.965Z"
   },
   {
    "duration": 0,
    "start_time": "2022-07-27T20:28:30.967Z"
   },
   {
    "duration": 0,
    "start_time": "2022-07-27T20:28:30.968Z"
   },
   {
    "duration": 0,
    "start_time": "2022-07-27T20:28:30.969Z"
   },
   {
    "duration": 0,
    "start_time": "2022-07-27T20:28:30.970Z"
   },
   {
    "duration": 380,
    "start_time": "2022-07-27T20:31:35.202Z"
   },
   {
    "duration": 10,
    "start_time": "2022-07-27T20:39:29.830Z"
   },
   {
    "duration": 506,
    "start_time": "2022-07-27T20:39:38.034Z"
   },
   {
    "duration": 137,
    "start_time": "2022-07-27T20:54:54.313Z"
   },
   {
    "duration": 4,
    "start_time": "2022-07-27T21:14:00.092Z"
   },
   {
    "duration": 4,
    "start_time": "2022-07-27T21:14:00.589Z"
   },
   {
    "duration": 241,
    "start_time": "2022-07-27T21:14:01.756Z"
   },
   {
    "duration": 7,
    "start_time": "2022-07-27T21:14:04.170Z"
   },
   {
    "duration": 5,
    "start_time": "2022-07-27T21:14:04.426Z"
   },
   {
    "duration": 5,
    "start_time": "2022-07-27T21:14:05.248Z"
   },
   {
    "duration": 11,
    "start_time": "2022-07-27T21:14:06.843Z"
   },
   {
    "duration": 9,
    "start_time": "2022-07-27T21:14:07.534Z"
   },
   {
    "duration": 10,
    "start_time": "2022-07-27T21:14:08.569Z"
   },
   {
    "duration": 11,
    "start_time": "2022-07-27T21:14:09.631Z"
   },
   {
    "duration": 12,
    "start_time": "2022-07-27T21:14:19.711Z"
   },
   {
    "duration": 8,
    "start_time": "2022-07-27T21:14:21.464Z"
   },
   {
    "duration": 6,
    "start_time": "2022-07-27T21:14:22.555Z"
   },
   {
    "duration": 22,
    "start_time": "2022-07-27T21:34:16.208Z"
   },
   {
    "duration": 18,
    "start_time": "2022-07-27T21:36:44.257Z"
   },
   {
    "duration": 17,
    "start_time": "2022-07-27T21:37:45.555Z"
   },
   {
    "duration": 29,
    "start_time": "2022-07-27T21:39:10.330Z"
   },
   {
    "duration": 1330,
    "start_time": "2022-07-27T21:39:57.325Z"
   },
   {
    "duration": 27,
    "start_time": "2022-07-27T21:40:48.730Z"
   },
   {
    "duration": 120,
    "start_time": "2022-07-27T21:41:57.991Z"
   },
   {
    "duration": 42,
    "start_time": "2022-07-28T11:24:16.784Z"
   },
   {
    "duration": 6,
    "start_time": "2022-07-28T11:35:49.455Z"
   },
   {
    "duration": 6,
    "start_time": "2022-07-28T11:35:56.761Z"
   },
   {
    "duration": 1185,
    "start_time": "2022-07-28T11:36:02.185Z"
   },
   {
    "duration": 4,
    "start_time": "2022-07-28T11:36:03.372Z"
   },
   {
    "duration": 217,
    "start_time": "2022-07-28T11:36:04.492Z"
   },
   {
    "duration": 3,
    "start_time": "2022-07-28T11:36:04.711Z"
   },
   {
    "duration": 10,
    "start_time": "2022-07-28T11:36:04.806Z"
   },
   {
    "duration": 5,
    "start_time": "2022-07-28T11:36:05.353Z"
   },
   {
    "duration": 7,
    "start_time": "2022-07-28T11:36:05.533Z"
   },
   {
    "duration": 7,
    "start_time": "2022-07-28T11:36:05.732Z"
   },
   {
    "duration": 7,
    "start_time": "2022-07-28T11:36:05.870Z"
   },
   {
    "duration": 7,
    "start_time": "2022-07-28T11:36:06.034Z"
   },
   {
    "duration": 7,
    "start_time": "2022-07-28T11:36:06.189Z"
   },
   {
    "duration": 4,
    "start_time": "2022-07-28T11:36:06.382Z"
   },
   {
    "duration": 5,
    "start_time": "2022-07-28T11:36:06.498Z"
   },
   {
    "duration": 5,
    "start_time": "2022-07-28T11:36:06.663Z"
   },
   {
    "duration": 5,
    "start_time": "2022-07-28T11:36:06.847Z"
   },
   {
    "duration": 5,
    "start_time": "2022-07-28T11:36:07.016Z"
   },
   {
    "duration": 5,
    "start_time": "2022-07-28T11:36:07.653Z"
   },
   {
    "duration": 8,
    "start_time": "2022-07-28T11:36:07.832Z"
   },
   {
    "duration": 324,
    "start_time": "2022-07-28T11:36:08.006Z"
   },
   {
    "duration": 4,
    "start_time": "2022-07-28T11:36:08.343Z"
   },
   {
    "duration": 9,
    "start_time": "2022-07-28T11:36:08.531Z"
   },
   {
    "duration": 294,
    "start_time": "2022-07-28T11:36:08.722Z"
   },
   {
    "duration": 9,
    "start_time": "2022-07-28T11:36:09.265Z"
   },
   {
    "duration": 9,
    "start_time": "2022-07-28T11:36:09.431Z"
   },
   {
    "duration": 8,
    "start_time": "2022-07-28T11:36:09.957Z"
   },
   {
    "duration": 7,
    "start_time": "2022-07-28T11:36:10.448Z"
   },
   {
    "duration": 4,
    "start_time": "2022-07-28T11:36:10.614Z"
   },
   {
    "duration": 11,
    "start_time": "2022-07-28T11:36:10.991Z"
   },
   {
    "duration": 15,
    "start_time": "2022-07-28T11:36:11.182Z"
   },
   {
    "duration": 13,
    "start_time": "2022-07-28T11:36:11.368Z"
   },
   {
    "duration": 3,
    "start_time": "2022-07-28T11:36:11.552Z"
   },
   {
    "duration": 4,
    "start_time": "2022-07-28T11:36:11.764Z"
   },
   {
    "duration": 10,
    "start_time": "2022-07-28T11:36:12.248Z"
   },
   {
    "duration": 309,
    "start_time": "2022-07-28T11:36:12.775Z"
   },
   {
    "duration": 254,
    "start_time": "2022-07-28T11:36:13.709Z"
   },
   {
    "duration": 414,
    "start_time": "2022-07-28T11:36:14.640Z"
   },
   {
    "duration": 264,
    "start_time": "2022-07-28T11:36:15.370Z"
   },
   {
    "duration": 323,
    "start_time": "2022-07-28T11:36:16.401Z"
   },
   {
    "duration": 7,
    "start_time": "2022-07-28T11:36:16.987Z"
   },
   {
    "duration": 6,
    "start_time": "2022-07-28T11:36:17.194Z"
   },
   {
    "duration": 133,
    "start_time": "2022-07-28T11:36:17.407Z"
   },
   {
    "duration": 5,
    "start_time": "2022-07-28T11:36:18.595Z"
   },
   {
    "duration": 5,
    "start_time": "2022-07-28T11:36:18.779Z"
   },
   {
    "duration": 4,
    "start_time": "2022-07-28T11:36:19.047Z"
   },
   {
    "duration": 220,
    "start_time": "2022-07-28T11:36:20.167Z"
   },
   {
    "duration": 165,
    "start_time": "2022-07-28T11:36:20.389Z"
   },
   {
    "duration": 157,
    "start_time": "2022-07-28T11:37:10.810Z"
   },
   {
    "duration": 156,
    "start_time": "2022-07-28T11:37:14.440Z"
   },
   {
    "duration": 4,
    "start_time": "2022-07-28T11:37:59.032Z"
   },
   {
    "duration": 3,
    "start_time": "2022-07-28T11:37:59.180Z"
   },
   {
    "duration": 71,
    "start_time": "2022-07-28T11:37:59.342Z"
   },
   {
    "duration": 2,
    "start_time": "2022-07-28T11:37:59.477Z"
   },
   {
    "duration": 7,
    "start_time": "2022-07-28T11:37:59.656Z"
   },
   {
    "duration": 5,
    "start_time": "2022-07-28T11:38:00.009Z"
   },
   {
    "duration": 7,
    "start_time": "2022-07-28T11:38:00.170Z"
   },
   {
    "duration": 6,
    "start_time": "2022-07-28T11:38:00.341Z"
   },
   {
    "duration": 8,
    "start_time": "2022-07-28T11:38:00.496Z"
   },
   {
    "duration": 5,
    "start_time": "2022-07-28T11:38:00.676Z"
   },
   {
    "duration": 5,
    "start_time": "2022-07-28T11:38:00.856Z"
   },
   {
    "duration": 4,
    "start_time": "2022-07-28T11:38:01.002Z"
   },
   {
    "duration": 5,
    "start_time": "2022-07-28T11:38:01.173Z"
   },
   {
    "duration": 5,
    "start_time": "2022-07-28T11:38:01.337Z"
   },
   {
    "duration": 5,
    "start_time": "2022-07-28T11:38:01.483Z"
   },
   {
    "duration": 6,
    "start_time": "2022-07-28T11:38:01.652Z"
   },
   {
    "duration": 4,
    "start_time": "2022-07-28T11:38:02.731Z"
   },
   {
    "duration": 9,
    "start_time": "2022-07-28T11:38:02.867Z"
   },
   {
    "duration": 277,
    "start_time": "2022-07-28T11:38:03.024Z"
   },
   {
    "duration": 4,
    "start_time": "2022-07-28T11:38:03.506Z"
   },
   {
    "duration": 9,
    "start_time": "2022-07-28T11:38:03.674Z"
   },
   {
    "duration": 268,
    "start_time": "2022-07-28T11:38:03.858Z"
   },
   {
    "duration": 9,
    "start_time": "2022-07-28T11:38:04.457Z"
   },
   {
    "duration": 9,
    "start_time": "2022-07-28T11:38:04.652Z"
   },
   {
    "duration": 10,
    "start_time": "2022-07-28T11:38:05.242Z"
   },
   {
    "duration": 7,
    "start_time": "2022-07-28T11:38:05.438Z"
   },
   {
    "duration": 3,
    "start_time": "2022-07-28T11:38:05.656Z"
   },
   {
    "duration": 10,
    "start_time": "2022-07-28T11:38:05.851Z"
   },
   {
    "duration": 14,
    "start_time": "2022-07-28T11:38:06.016Z"
   },
   {
    "duration": 17,
    "start_time": "2022-07-28T11:38:06.199Z"
   },
   {
    "duration": 4,
    "start_time": "2022-07-28T11:38:06.435Z"
   },
   {
    "duration": 5,
    "start_time": "2022-07-28T11:38:06.585Z"
   },
   {
    "duration": 9,
    "start_time": "2022-07-28T11:38:06.762Z"
   },
   {
    "duration": 282,
    "start_time": "2022-07-28T11:38:07.131Z"
   },
   {
    "duration": 279,
    "start_time": "2022-07-28T11:38:08.006Z"
   },
   {
    "duration": 334,
    "start_time": "2022-07-28T11:38:08.798Z"
   },
   {
    "duration": 321,
    "start_time": "2022-07-28T11:38:09.382Z"
   },
   {
    "duration": 377,
    "start_time": "2022-07-28T11:38:10.363Z"
   },
   {
    "duration": 6,
    "start_time": "2022-07-28T11:38:11.114Z"
   },
   {
    "duration": 6,
    "start_time": "2022-07-28T11:38:11.296Z"
   },
   {
    "duration": 225,
    "start_time": "2022-07-28T11:38:11.543Z"
   },
   {
    "duration": 6,
    "start_time": "2022-07-28T11:38:15.313Z"
   },
   {
    "duration": 4,
    "start_time": "2022-07-28T11:38:15.496Z"
   },
   {
    "duration": 5,
    "start_time": "2022-07-28T11:38:15.672Z"
   },
   {
    "duration": 154,
    "start_time": "2022-07-28T11:38:16.577Z"
   },
   {
    "duration": 166,
    "start_time": "2022-07-28T11:38:19.515Z"
   },
   {
    "duration": 1351,
    "start_time": "2022-07-28T12:03:20.025Z"
   },
   {
    "duration": 10,
    "start_time": "2022-07-28T12:03:24.096Z"
   },
   {
    "duration": 18,
    "start_time": "2022-07-28T12:07:29.486Z"
   },
   {
    "duration": 11,
    "start_time": "2022-07-28T12:08:01.568Z"
   },
   {
    "duration": 1261,
    "start_time": "2022-07-28T12:10:14.414Z"
   },
   {
    "duration": 1221,
    "start_time": "2022-07-28T12:10:37.419Z"
   },
   {
    "duration": 8,
    "start_time": "2022-07-28T12:14:31.542Z"
   },
   {
    "duration": 13,
    "start_time": "2022-07-28T12:16:05.960Z"
   },
   {
    "duration": 1230,
    "start_time": "2022-07-28T12:16:09.711Z"
   },
   {
    "duration": 419,
    "start_time": "2022-07-28T12:16:44.294Z"
   },
   {
    "duration": 1212,
    "start_time": "2022-07-28T12:22:34.051Z"
   },
   {
    "duration": 3,
    "start_time": "2022-07-28T12:22:35.265Z"
   },
   {
    "duration": 94,
    "start_time": "2022-07-28T12:22:35.270Z"
   },
   {
    "duration": 3,
    "start_time": "2022-07-28T12:22:35.365Z"
   },
   {
    "duration": 45,
    "start_time": "2022-07-28T12:22:35.370Z"
   },
   {
    "duration": 18,
    "start_time": "2022-07-28T12:22:35.417Z"
   },
   {
    "duration": 12,
    "start_time": "2022-07-28T12:22:35.437Z"
   },
   {
    "duration": 26,
    "start_time": "2022-07-28T12:22:35.451Z"
   },
   {
    "duration": 23,
    "start_time": "2022-07-28T12:22:35.479Z"
   },
   {
    "duration": 12,
    "start_time": "2022-07-28T12:22:35.503Z"
   },
   {
    "duration": 20,
    "start_time": "2022-07-28T12:22:35.517Z"
   },
   {
    "duration": 12,
    "start_time": "2022-07-28T12:22:35.538Z"
   },
   {
    "duration": 24,
    "start_time": "2022-07-28T12:22:35.552Z"
   },
   {
    "duration": 33,
    "start_time": "2022-07-28T12:22:35.581Z"
   },
   {
    "duration": 13,
    "start_time": "2022-07-28T12:22:35.616Z"
   },
   {
    "duration": 27,
    "start_time": "2022-07-28T12:22:35.631Z"
   },
   {
    "duration": 25,
    "start_time": "2022-07-28T12:22:35.661Z"
   },
   {
    "duration": 39,
    "start_time": "2022-07-28T12:22:35.688Z"
   },
   {
    "duration": 402,
    "start_time": "2022-07-28T12:22:35.729Z"
   },
   {
    "duration": 6,
    "start_time": "2022-07-28T12:22:36.133Z"
   },
   {
    "duration": 40,
    "start_time": "2022-07-28T12:22:36.140Z"
   },
   {
    "duration": 344,
    "start_time": "2022-07-28T12:22:36.182Z"
   },
   {
    "duration": 9,
    "start_time": "2022-07-28T12:22:36.527Z"
   },
   {
    "duration": 28,
    "start_time": "2022-07-28T12:22:36.537Z"
   },
   {
    "duration": 29,
    "start_time": "2022-07-28T12:22:36.567Z"
   },
   {
    "duration": 33,
    "start_time": "2022-07-28T12:22:36.598Z"
   },
   {
    "duration": 35,
    "start_time": "2022-07-28T12:22:36.632Z"
   },
   {
    "duration": 21,
    "start_time": "2022-07-28T12:22:36.668Z"
   },
   {
    "duration": 15,
    "start_time": "2022-07-28T12:22:36.691Z"
   },
   {
    "duration": 27,
    "start_time": "2022-07-28T12:22:36.708Z"
   },
   {
    "duration": 20,
    "start_time": "2022-07-28T12:22:36.736Z"
   },
   {
    "duration": 27,
    "start_time": "2022-07-28T12:22:36.758Z"
   },
   {
    "duration": 23,
    "start_time": "2022-07-28T12:22:36.787Z"
   },
   {
    "duration": 348,
    "start_time": "2022-07-28T12:22:36.811Z"
   },
   {
    "duration": 304,
    "start_time": "2022-07-28T12:22:37.161Z"
   },
   {
    "duration": 393,
    "start_time": "2022-07-28T12:22:37.467Z"
   },
   {
    "duration": 295,
    "start_time": "2022-07-28T12:22:37.862Z"
   },
   {
    "duration": 363,
    "start_time": "2022-07-28T12:22:38.158Z"
   },
   {
    "duration": 5,
    "start_time": "2022-07-28T12:22:38.523Z"
   },
   {
    "duration": 12,
    "start_time": "2022-07-28T12:22:38.530Z"
   },
   {
    "duration": 160,
    "start_time": "2022-07-28T12:22:38.552Z"
   },
   {
    "duration": 6,
    "start_time": "2022-07-28T12:22:38.714Z"
   },
   {
    "duration": 12,
    "start_time": "2022-07-28T12:22:38.721Z"
   },
   {
    "duration": 24,
    "start_time": "2022-07-28T12:22:38.735Z"
   },
   {
    "duration": 268,
    "start_time": "2022-07-28T12:22:38.760Z"
   },
   {
    "duration": 166,
    "start_time": "2022-07-28T12:22:39.029Z"
   },
   {
    "duration": 5,
    "start_time": "2022-07-28T12:22:39.196Z"
   },
   {
    "duration": 8,
    "start_time": "2022-07-28T12:22:39.202Z"
   },
   {
    "duration": 7,
    "start_time": "2022-07-28T12:22:39.211Z"
   },
   {
    "duration": 10,
    "start_time": "2022-07-28T12:22:39.219Z"
   },
   {
    "duration": 27,
    "start_time": "2022-07-28T12:22:39.230Z"
   },
   {
    "duration": 12,
    "start_time": "2022-07-28T12:22:39.259Z"
   },
   {
    "duration": 409,
    "start_time": "2022-07-28T12:22:39.273Z"
   },
   {
    "duration": 0,
    "start_time": "2022-07-28T12:22:39.683Z"
   },
   {
    "duration": 0,
    "start_time": "2022-07-28T12:22:39.685Z"
   },
   {
    "duration": 0,
    "start_time": "2022-07-28T12:22:39.686Z"
   },
   {
    "duration": 0,
    "start_time": "2022-07-28T12:22:39.687Z"
   },
   {
    "duration": 0,
    "start_time": "2022-07-28T12:22:39.688Z"
   },
   {
    "duration": 0,
    "start_time": "2022-07-28T12:22:39.688Z"
   },
   {
    "duration": 0,
    "start_time": "2022-07-28T12:22:39.689Z"
   },
   {
    "duration": 0,
    "start_time": "2022-07-28T12:22:39.690Z"
   },
   {
    "duration": 0,
    "start_time": "2022-07-28T12:22:39.691Z"
   },
   {
    "duration": 0,
    "start_time": "2022-07-28T12:22:39.692Z"
   },
   {
    "duration": 0,
    "start_time": "2022-07-28T12:22:39.693Z"
   },
   {
    "duration": 0,
    "start_time": "2022-07-28T12:22:39.694Z"
   },
   {
    "duration": 335,
    "start_time": "2022-07-28T12:28:59.948Z"
   },
   {
    "duration": 572,
    "start_time": "2022-07-28T12:32:05.694Z"
   },
   {
    "duration": 110,
    "start_time": "2022-07-28T12:32:47.663Z"
   },
   {
    "duration": 3,
    "start_time": "2022-07-28T12:33:54.066Z"
   },
   {
    "duration": 14,
    "start_time": "2022-07-28T12:33:55.077Z"
   },
   {
    "duration": 3,
    "start_time": "2022-07-28T12:34:11.953Z"
   },
   {
    "duration": 10,
    "start_time": "2022-07-28T12:34:12.463Z"
   },
   {
    "duration": 11,
    "start_time": "2022-07-28T12:34:15.688Z"
   },
   {
    "duration": 14,
    "start_time": "2022-07-28T12:34:21.260Z"
   },
   {
    "duration": 4,
    "start_time": "2022-07-28T12:34:30.380Z"
   },
   {
    "duration": 1335,
    "start_time": "2022-07-28T12:34:32.229Z"
   },
   {
    "duration": 4,
    "start_time": "2022-07-28T12:34:51.338Z"
   },
   {
    "duration": 10,
    "start_time": "2022-07-28T12:34:51.937Z"
   },
   {
    "duration": 10,
    "start_time": "2022-07-28T12:34:52.283Z"
   },
   {
    "duration": 15,
    "start_time": "2022-07-28T12:34:52.641Z"
   },
   {
    "duration": 4,
    "start_time": "2022-07-28T12:34:53.107Z"
   },
   {
    "duration": 6,
    "start_time": "2022-07-28T12:34:53.778Z"
   },
   {
    "duration": 9,
    "start_time": "2022-07-28T12:34:55.698Z"
   },
   {
    "duration": 6,
    "start_time": "2022-07-28T12:37:39.924Z"
   },
   {
    "duration": 5,
    "start_time": "2022-07-28T12:37:41.267Z"
   },
   {
    "duration": 4,
    "start_time": "2022-07-28T12:37:41.608Z"
   },
   {
    "duration": 10,
    "start_time": "2022-07-28T12:37:44.967Z"
   },
   {
    "duration": 7,
    "start_time": "2022-07-28T12:37:45.439Z"
   },
   {
    "duration": 9,
    "start_time": "2022-07-28T12:37:45.938Z"
   },
   {
    "duration": 10,
    "start_time": "2022-07-28T12:37:46.312Z"
   },
   {
    "duration": 7,
    "start_time": "2022-07-28T12:37:46.522Z"
   },
   {
    "duration": 6,
    "start_time": "2022-07-28T12:37:50.941Z"
   },
   {
    "duration": 9,
    "start_time": "2022-07-28T12:37:51.106Z"
   },
   {
    "duration": 5,
    "start_time": "2022-07-28T12:37:51.271Z"
   },
   {
    "duration": 8,
    "start_time": "2022-07-28T12:37:51.458Z"
   },
   {
    "duration": 9,
    "start_time": "2022-07-28T12:37:51.935Z"
   },
   {
    "duration": 7,
    "start_time": "2022-07-28T12:37:52.113Z"
   },
   {
    "duration": 6,
    "start_time": "2022-07-28T12:37:53.278Z"
   },
   {
    "duration": 8,
    "start_time": "2022-07-28T12:37:53.439Z"
   },
   {
    "duration": 6,
    "start_time": "2022-07-28T12:37:53.762Z"
   },
   {
    "duration": 5,
    "start_time": "2022-07-28T12:37:53.939Z"
   },
   {
    "duration": 13,
    "start_time": "2022-07-28T12:40:43.734Z"
   },
   {
    "duration": 13,
    "start_time": "2022-07-28T12:41:14.268Z"
   },
   {
    "duration": 131,
    "start_time": "2022-07-28T12:42:14.989Z"
   },
   {
    "duration": 9,
    "start_time": "2022-07-28T12:49:12.677Z"
   },
   {
    "duration": 1317,
    "start_time": "2022-07-28T12:49:44.309Z"
   },
   {
    "duration": 5,
    "start_time": "2022-07-28T12:53:06.542Z"
   },
   {
    "duration": 7,
    "start_time": "2022-07-28T13:14:42.748Z"
   },
   {
    "duration": 5,
    "start_time": "2022-07-28T13:14:44.376Z"
   },
   {
    "duration": 67,
    "start_time": "2022-07-28T13:14:44.980Z"
   },
   {
    "duration": 57,
    "start_time": "2022-07-28T13:15:12.763Z"
   },
   {
    "duration": 52,
    "start_time": "2022-07-28T13:16:41.849Z"
   },
   {
    "duration": 91,
    "start_time": "2022-07-28T13:17:26.589Z"
   },
   {
    "duration": 76,
    "start_time": "2022-07-28T13:17:43.603Z"
   },
   {
    "duration": 151,
    "start_time": "2022-07-28T13:19:10.061Z"
   },
   {
    "duration": 1238,
    "start_time": "2022-07-28T13:19:14.449Z"
   },
   {
    "duration": 6,
    "start_time": "2022-07-28T13:21:01.945Z"
   },
   {
    "duration": 6,
    "start_time": "2022-07-28T13:21:02.783Z"
   },
   {
    "duration": 48,
    "start_time": "2022-07-28T13:21:02.966Z"
   },
   {
    "duration": 54,
    "start_time": "2022-07-28T13:21:03.209Z"
   },
   {
    "duration": 59,
    "start_time": "2022-07-28T13:21:03.399Z"
   },
   {
    "duration": 74,
    "start_time": "2022-07-28T13:21:03.602Z"
   },
   {
    "duration": 131,
    "start_time": "2022-07-28T13:21:03.971Z"
   },
   {
    "duration": 6,
    "start_time": "2022-07-28T13:21:04.251Z"
   },
   {
    "duration": 10,
    "start_time": "2022-07-28T13:21:05.001Z"
   },
   {
    "duration": 7,
    "start_time": "2022-07-28T13:21:05.557Z"
   },
   {
    "duration": 6,
    "start_time": "2022-07-28T13:21:31.488Z"
   },
   {
    "duration": 15,
    "start_time": "2022-07-28T13:21:57.958Z"
   },
   {
    "duration": 223,
    "start_time": "2022-07-28T13:23:08.449Z"
   },
   {
    "duration": 10,
    "start_time": "2022-07-28T13:26:26.915Z"
   },
   {
    "duration": 14,
    "start_time": "2022-07-28T13:26:53.619Z"
   },
   {
    "duration": 9,
    "start_time": "2022-07-28T13:27:24.394Z"
   },
   {
    "duration": 6,
    "start_time": "2022-07-28T13:28:43.443Z"
   },
   {
    "duration": 6,
    "start_time": "2022-07-28T13:28:48.852Z"
   },
   {
    "duration": 5,
    "start_time": "2022-07-28T13:28:48.958Z"
   },
   {
    "duration": 73,
    "start_time": "2022-07-28T13:28:49.123Z"
   },
   {
    "duration": 5,
    "start_time": "2022-07-28T13:28:49.268Z"
   },
   {
    "duration": 8,
    "start_time": "2022-07-28T13:28:49.424Z"
   },
   {
    "duration": 5,
    "start_time": "2022-07-28T13:28:49.742Z"
   },
   {
    "duration": 8,
    "start_time": "2022-07-28T13:28:49.901Z"
   },
   {
    "duration": 6,
    "start_time": "2022-07-28T13:28:50.085Z"
   },
   {
    "duration": 7,
    "start_time": "2022-07-28T13:28:50.239Z"
   },
   {
    "duration": 6,
    "start_time": "2022-07-28T13:28:50.443Z"
   },
   {
    "duration": 5,
    "start_time": "2022-07-28T13:28:50.626Z"
   },
   {
    "duration": 4,
    "start_time": "2022-07-28T13:28:50.807Z"
   },
   {
    "duration": 6,
    "start_time": "2022-07-28T13:28:50.986Z"
   },
   {
    "duration": 5,
    "start_time": "2022-07-28T13:28:51.166Z"
   },
   {
    "duration": 5,
    "start_time": "2022-07-28T13:28:51.312Z"
   },
   {
    "duration": 6,
    "start_time": "2022-07-28T13:28:51.525Z"
   },
   {
    "duration": 5,
    "start_time": "2022-07-28T13:28:52.210Z"
   },
   {
    "duration": 12,
    "start_time": "2022-07-28T13:28:52.396Z"
   },
   {
    "duration": 359,
    "start_time": "2022-07-28T13:28:52.569Z"
   },
   {
    "duration": 5,
    "start_time": "2022-07-28T13:28:53.147Z"
   },
   {
    "duration": 10,
    "start_time": "2022-07-28T13:28:54.187Z"
   },
   {
    "duration": 343,
    "start_time": "2022-07-28T13:28:54.365Z"
   },
   {
    "duration": 9,
    "start_time": "2022-07-28T13:28:54.869Z"
   },
   {
    "duration": 9,
    "start_time": "2022-07-28T13:28:55.418Z"
   },
   {
    "duration": 10,
    "start_time": "2022-07-28T13:28:56.095Z"
   },
   {
    "duration": 8,
    "start_time": "2022-07-28T13:28:56.336Z"
   },
   {
    "duration": 3,
    "start_time": "2022-07-28T13:28:56.687Z"
   },
   {
    "duration": 18,
    "start_time": "2022-07-28T13:28:57.352Z"
   },
   {
    "duration": 12,
    "start_time": "2022-07-28T13:28:57.544Z"
   },
   {
    "duration": 20,
    "start_time": "2022-07-28T13:28:57.839Z"
   },
   {
    "duration": 4,
    "start_time": "2022-07-28T13:28:58.037Z"
   },
   {
    "duration": 7,
    "start_time": "2022-07-28T13:28:58.357Z"
   },
   {
    "duration": 10,
    "start_time": "2022-07-28T13:28:58.619Z"
   },
   {
    "duration": 260,
    "start_time": "2022-07-28T13:28:59.282Z"
   },
   {
    "duration": 278,
    "start_time": "2022-07-28T13:29:00.892Z"
   },
   {
    "duration": 423,
    "start_time": "2022-07-28T13:29:02.246Z"
   },
   {
    "duration": 302,
    "start_time": "2022-07-28T13:29:03.050Z"
   },
   {
    "duration": 375,
    "start_time": "2022-07-28T13:29:04.045Z"
   },
   {
    "duration": 6,
    "start_time": "2022-07-28T13:29:05.216Z"
   },
   {
    "duration": 9,
    "start_time": "2022-07-28T13:29:05.506Z"
   },
   {
    "duration": 159,
    "start_time": "2022-07-28T13:29:05.751Z"
   },
   {
    "duration": 6,
    "start_time": "2022-07-28T13:29:07.600Z"
   },
   {
    "duration": 4,
    "start_time": "2022-07-28T13:29:08.212Z"
   },
   {
    "duration": 5,
    "start_time": "2022-07-28T13:29:08.446Z"
   },
   {
    "duration": 247,
    "start_time": "2022-07-28T13:29:09.847Z"
   },
   {
    "duration": 184,
    "start_time": "2022-07-28T13:29:10.384Z"
   },
   {
    "duration": 6,
    "start_time": "2022-07-28T13:29:12.919Z"
   },
   {
    "duration": 199,
    "start_time": "2022-07-28T13:29:33.638Z"
   },
   {
    "duration": 6,
    "start_time": "2022-07-28T13:29:38.300Z"
   },
   {
    "duration": 10,
    "start_time": "2022-07-28T13:29:44.053Z"
   },
   {
    "duration": 3,
    "start_time": "2022-07-28T13:29:44.189Z"
   },
   {
    "duration": 98,
    "start_time": "2022-07-28T13:29:44.478Z"
   },
   {
    "duration": 8,
    "start_time": "2022-07-28T13:29:44.659Z"
   },
   {
    "duration": 12,
    "start_time": "2022-07-28T13:29:44.792Z"
   },
   {
    "duration": 6,
    "start_time": "2022-07-28T13:29:45.122Z"
   },
   {
    "duration": 8,
    "start_time": "2022-07-28T13:29:45.309Z"
   },
   {
    "duration": 9,
    "start_time": "2022-07-28T13:29:45.447Z"
   },
   {
    "duration": 7,
    "start_time": "2022-07-28T13:29:45.626Z"
   },
   {
    "duration": 4,
    "start_time": "2022-07-28T13:29:45.810Z"
   },
   {
    "duration": 6,
    "start_time": "2022-07-28T13:29:45.976Z"
   },
   {
    "duration": 5,
    "start_time": "2022-07-28T13:29:46.166Z"
   },
   {
    "duration": 5,
    "start_time": "2022-07-28T13:29:46.339Z"
   },
   {
    "duration": 5,
    "start_time": "2022-07-28T13:29:46.493Z"
   },
   {
    "duration": 5,
    "start_time": "2022-07-28T13:29:46.679Z"
   },
   {
    "duration": 5,
    "start_time": "2022-07-28T13:29:46.837Z"
   },
   {
    "duration": 4,
    "start_time": "2022-07-28T13:29:47.539Z"
   },
   {
    "duration": 9,
    "start_time": "2022-07-28T13:29:47.738Z"
   },
   {
    "duration": 303,
    "start_time": "2022-07-28T13:29:47.916Z"
   },
   {
    "duration": 5,
    "start_time": "2022-07-28T13:29:48.277Z"
   },
   {
    "duration": 11,
    "start_time": "2022-07-28T13:29:48.466Z"
   },
   {
    "duration": 273,
    "start_time": "2022-07-28T13:29:48.677Z"
   },
   {
    "duration": 9,
    "start_time": "2022-07-28T13:29:49.275Z"
   },
   {
    "duration": 10,
    "start_time": "2022-07-28T13:29:49.467Z"
   },
   {
    "duration": 12,
    "start_time": "2022-07-28T13:29:50.039Z"
   },
   {
    "duration": 7,
    "start_time": "2022-07-28T13:29:50.239Z"
   },
   {
    "duration": 4,
    "start_time": "2022-07-28T13:29:50.406Z"
   },
   {
    "duration": 14,
    "start_time": "2022-07-28T13:29:50.586Z"
   },
   {
    "duration": 10,
    "start_time": "2022-07-28T13:29:50.752Z"
   },
   {
    "duration": 15,
    "start_time": "2022-07-28T13:29:50.932Z"
   },
   {
    "duration": 4,
    "start_time": "2022-07-28T13:29:51.092Z"
   },
   {
    "duration": 5,
    "start_time": "2022-07-28T13:29:51.269Z"
   },
   {
    "duration": 12,
    "start_time": "2022-07-28T13:29:51.459Z"
   },
   {
    "duration": 280,
    "start_time": "2022-07-28T13:29:51.792Z"
   },
   {
    "duration": 297,
    "start_time": "2022-07-28T13:29:52.578Z"
   },
   {
    "duration": 415,
    "start_time": "2022-07-28T13:29:53.326Z"
   },
   {
    "duration": 310,
    "start_time": "2022-07-28T13:29:54.079Z"
   },
   {
    "duration": 394,
    "start_time": "2022-07-28T13:29:54.878Z"
   },
   {
    "duration": 7,
    "start_time": "2022-07-28T13:29:55.465Z"
   },
   {
    "duration": 7,
    "start_time": "2022-07-28T13:29:55.639Z"
   },
   {
    "duration": 168,
    "start_time": "2022-07-28T13:29:55.867Z"
   },
   {
    "duration": 15,
    "start_time": "2022-07-28T13:29:56.599Z"
   },
   {
    "duration": 5,
    "start_time": "2022-07-28T13:29:57.141Z"
   },
   {
    "duration": 5,
    "start_time": "2022-07-28T13:29:57.521Z"
   },
   {
    "duration": 240,
    "start_time": "2022-07-28T13:29:58.699Z"
   },
   {
    "duration": 176,
    "start_time": "2022-07-28T13:30:02.131Z"
   },
   {
    "duration": 6,
    "start_time": "2022-07-28T13:30:06.988Z"
   },
   {
    "duration": 4,
    "start_time": "2022-07-28T13:30:15.169Z"
   },
   {
    "duration": 5,
    "start_time": "2022-07-28T13:30:15.338Z"
   },
   {
    "duration": 13,
    "start_time": "2022-07-28T13:30:15.949Z"
   },
   {
    "duration": 57,
    "start_time": "2022-07-28T13:30:16.062Z"
   },
   {
    "duration": 72,
    "start_time": "2022-07-28T13:30:16.223Z"
   },
   {
    "duration": 61,
    "start_time": "2022-07-28T13:30:16.343Z"
   },
   {
    "duration": 70,
    "start_time": "2022-07-28T13:30:16.471Z"
   },
   {
    "duration": 123,
    "start_time": "2022-07-28T13:30:16.618Z"
   },
   {
    "duration": 6,
    "start_time": "2022-07-28T13:30:16.777Z"
   },
   {
    "duration": 13,
    "start_time": "2022-07-28T13:30:16.949Z"
   },
   {
    "duration": 180,
    "start_time": "2022-07-28T13:30:17.091Z"
   },
   {
    "duration": 10,
    "start_time": "2022-07-28T13:30:17.422Z"
   },
   {
    "duration": 10,
    "start_time": "2022-07-28T13:30:17.773Z"
   },
   {
    "duration": 7,
    "start_time": "2022-07-28T13:30:18.085Z"
   },
   {
    "duration": 10,
    "start_time": "2022-07-28T13:30:18.266Z"
   },
   {
    "duration": 10,
    "start_time": "2022-07-28T13:30:18.437Z"
   },
   {
    "duration": 8,
    "start_time": "2022-07-28T13:30:18.622Z"
   },
   {
    "duration": 9,
    "start_time": "2022-07-28T13:30:19.897Z"
   },
   {
    "duration": 16,
    "start_time": "2022-07-28T13:30:20.249Z"
   },
   {
    "duration": 6,
    "start_time": "2022-07-28T13:30:20.417Z"
   },
   {
    "duration": 5,
    "start_time": "2022-07-28T13:30:20.607Z"
   },
   {
    "duration": 12,
    "start_time": "2022-07-28T13:30:21.146Z"
   },
   {
    "duration": 7,
    "start_time": "2022-07-28T13:30:21.326Z"
   },
   {
    "duration": 5,
    "start_time": "2022-07-28T13:30:21.843Z"
   },
   {
    "duration": 9,
    "start_time": "2022-07-28T13:30:22.022Z"
   },
   {
    "duration": 7,
    "start_time": "2022-07-28T13:30:22.226Z"
   },
   {
    "duration": 6,
    "start_time": "2022-07-28T13:30:22.403Z"
   },
   {
    "duration": 1409,
    "start_time": "2022-07-28T13:31:05.338Z"
   },
   {
    "duration": 11,
    "start_time": "2022-07-28T13:31:26.860Z"
   },
   {
    "duration": 9,
    "start_time": "2022-07-28T13:34:10.898Z"
   },
   {
    "duration": 20,
    "start_time": "2022-07-28T13:34:26.920Z"
   },
   {
    "duration": 3001,
    "start_time": "2022-07-28T13:35:34.378Z"
   },
   {
    "duration": 22,
    "start_time": "2022-07-28T13:36:08.469Z"
   },
   {
    "duration": 61,
    "start_time": "2022-07-29T08:34:46.037Z"
   },
   {
    "duration": 1411,
    "start_time": "2022-07-29T08:36:14.529Z"
   },
   {
    "duration": 3,
    "start_time": "2022-07-29T08:36:15.942Z"
   },
   {
    "duration": 179,
    "start_time": "2022-07-29T08:36:15.947Z"
   },
   {
    "duration": 3,
    "start_time": "2022-07-29T08:36:16.128Z"
   },
   {
    "duration": 13,
    "start_time": "2022-07-29T08:36:16.133Z"
   },
   {
    "duration": 5,
    "start_time": "2022-07-29T08:36:21.952Z"
   },
   {
    "duration": 8,
    "start_time": "2022-07-29T08:36:22.124Z"
   },
   {
    "duration": 7,
    "start_time": "2022-07-29T08:36:22.278Z"
   },
   {
    "duration": 8,
    "start_time": "2022-07-29T08:36:22.639Z"
   },
   {
    "duration": 5,
    "start_time": "2022-07-29T08:36:22.805Z"
   },
   {
    "duration": 6,
    "start_time": "2022-07-29T08:36:22.973Z"
   },
   {
    "duration": 5,
    "start_time": "2022-07-29T08:36:23.148Z"
   },
   {
    "duration": 5,
    "start_time": "2022-07-29T08:36:23.295Z"
   },
   {
    "duration": 5,
    "start_time": "2022-07-29T08:36:23.466Z"
   },
   {
    "duration": 6,
    "start_time": "2022-07-29T08:36:23.620Z"
   },
   {
    "duration": 7,
    "start_time": "2022-07-29T08:36:23.777Z"
   },
   {
    "duration": 5,
    "start_time": "2022-07-29T08:36:24.534Z"
   },
   {
    "duration": 10,
    "start_time": "2022-07-29T08:36:24.656Z"
   },
   {
    "duration": 368,
    "start_time": "2022-07-29T08:36:24.817Z"
   },
   {
    "duration": 4,
    "start_time": "2022-07-29T08:36:25.187Z"
   },
   {
    "duration": 9,
    "start_time": "2022-07-29T08:36:25.317Z"
   },
   {
    "duration": 297,
    "start_time": "2022-07-29T08:36:25.476Z"
   },
   {
    "duration": 9,
    "start_time": "2022-07-29T08:36:26.520Z"
   },
   {
    "duration": 8,
    "start_time": "2022-07-29T08:36:26.699Z"
   },
   {
    "duration": 8,
    "start_time": "2022-07-29T08:36:27.223Z"
   },
   {
    "duration": 7,
    "start_time": "2022-07-29T08:36:27.367Z"
   },
   {
    "duration": 3,
    "start_time": "2022-07-29T08:36:27.549Z"
   },
   {
    "duration": 10,
    "start_time": "2022-07-29T08:36:27.723Z"
   },
   {
    "duration": 11,
    "start_time": "2022-07-29T08:36:27.919Z"
   },
   {
    "duration": 20,
    "start_time": "2022-07-29T08:36:28.066Z"
   },
   {
    "duration": 5,
    "start_time": "2022-07-29T08:36:28.251Z"
   },
   {
    "duration": 5,
    "start_time": "2022-07-29T08:36:28.398Z"
   },
   {
    "duration": 10,
    "start_time": "2022-07-29T08:36:28.567Z"
   },
   {
    "duration": 348,
    "start_time": "2022-07-29T08:36:28.896Z"
   },
   {
    "duration": 278,
    "start_time": "2022-07-29T08:36:29.572Z"
   },
   {
    "duration": 442,
    "start_time": "2022-07-29T08:36:30.230Z"
   },
   {
    "duration": 301,
    "start_time": "2022-07-29T08:36:30.778Z"
   },
   {
    "duration": 345,
    "start_time": "2022-07-29T08:36:31.491Z"
   },
   {
    "duration": 7,
    "start_time": "2022-07-29T08:36:32.031Z"
   },
   {
    "duration": 7,
    "start_time": "2022-07-29T08:36:32.411Z"
   },
   {
    "duration": 216,
    "start_time": "2022-07-29T08:36:32.594Z"
   },
   {
    "duration": 7,
    "start_time": "2022-07-29T08:36:33.123Z"
   },
   {
    "duration": 5,
    "start_time": "2022-07-29T08:36:33.278Z"
   },
   {
    "duration": 5,
    "start_time": "2022-07-29T08:36:33.434Z"
   },
   {
    "duration": 235,
    "start_time": "2022-07-29T08:36:34.134Z"
   },
   {
    "duration": 174,
    "start_time": "2022-07-29T08:36:34.370Z"
   },
   {
    "duration": 6,
    "start_time": "2022-07-29T08:36:35.336Z"
   },
   {
    "duration": 4,
    "start_time": "2022-07-29T08:36:35.491Z"
   },
   {
    "duration": 5,
    "start_time": "2022-07-29T08:36:35.639Z"
   },
   {
    "duration": 5,
    "start_time": "2022-07-29T08:36:36.349Z"
   },
   {
    "duration": 44,
    "start_time": "2022-07-29T08:36:36.536Z"
   },
   {
    "duration": 52,
    "start_time": "2022-07-29T08:36:36.717Z"
   },
   {
    "duration": 59,
    "start_time": "2022-07-29T08:36:36.898Z"
   },
   {
    "duration": 68,
    "start_time": "2022-07-29T08:36:37.577Z"
   },
   {
    "duration": 136,
    "start_time": "2022-07-29T08:36:38.063Z"
   },
   {
    "duration": 7,
    "start_time": "2022-07-29T08:36:38.583Z"
   },
   {
    "duration": 6,
    "start_time": "2022-07-29T08:36:39.097Z"
   },
   {
    "duration": 155,
    "start_time": "2022-07-29T08:36:39.291Z"
   },
   {
    "duration": 10,
    "start_time": "2022-07-29T08:36:39.746Z"
   },
   {
    "duration": 9,
    "start_time": "2022-07-29T08:36:40.373Z"
   },
   {
    "duration": 7,
    "start_time": "2022-07-29T08:36:40.755Z"
   },
   {
    "duration": 41,
    "start_time": "2022-07-29T08:36:41.024Z"
   },
   {
    "duration": 12,
    "start_time": "2022-07-29T08:36:41.696Z"
   },
   {
    "duration": 9,
    "start_time": "2022-07-29T08:36:43.923Z"
   },
   {
    "duration": 7,
    "start_time": "2022-07-29T08:36:44.432Z"
   },
   {
    "duration": 168,
    "start_time": "2022-07-29T08:39:17.222Z"
   },
   {
    "duration": 166,
    "start_time": "2022-07-29T08:39:17.566Z"
   },
   {
    "duration": 6,
    "start_time": "2022-07-29T08:39:18.720Z"
   },
   {
    "duration": 4,
    "start_time": "2022-07-29T08:39:19.085Z"
   },
   {
    "duration": 4,
    "start_time": "2022-07-29T08:39:19.326Z"
   },
   {
    "duration": 10,
    "start_time": "2022-07-29T08:39:20.020Z"
   },
   {
    "duration": 7,
    "start_time": "2022-07-29T08:39:20.176Z"
   },
   {
    "duration": 8,
    "start_time": "2022-07-29T08:39:20.386Z"
   },
   {
    "duration": 9,
    "start_time": "2022-07-29T08:39:21.188Z"
   },
   {
    "duration": 77,
    "start_time": "2022-07-29T08:46:28.316Z"
   },
   {
    "duration": 29,
    "start_time": "2022-07-29T08:50:01.150Z"
   },
   {
    "duration": 691,
    "start_time": "2022-07-29T08:50:14.745Z"
   },
   {
    "duration": 703,
    "start_time": "2022-07-29T08:50:52.949Z"
   },
   {
    "duration": 369,
    "start_time": "2022-07-29T08:51:06.567Z"
   },
   {
    "duration": 646,
    "start_time": "2022-07-29T08:52:36.529Z"
   },
   {
    "duration": 4,
    "start_time": "2022-07-29T09:10:39.799Z"
   },
   {
    "duration": 3,
    "start_time": "2022-07-29T09:10:39.945Z"
   },
   {
    "duration": 71,
    "start_time": "2022-07-29T09:10:40.107Z"
   },
   {
    "duration": 3,
    "start_time": "2022-07-29T09:10:40.232Z"
   },
   {
    "duration": 7,
    "start_time": "2022-07-29T09:10:40.513Z"
   },
   {
    "duration": 6,
    "start_time": "2022-07-29T09:10:40.799Z"
   },
   {
    "duration": 9,
    "start_time": "2022-07-29T09:10:40.957Z"
   },
   {
    "duration": 12,
    "start_time": "2022-07-29T09:10:41.130Z"
   },
   {
    "duration": 7,
    "start_time": "2022-07-29T09:10:41.259Z"
   },
   {
    "duration": 8,
    "start_time": "2022-07-29T09:10:41.430Z"
   },
   {
    "duration": 6,
    "start_time": "2022-07-29T09:10:41.599Z"
   },
   {
    "duration": 5,
    "start_time": "2022-07-29T09:10:41.770Z"
   },
   {
    "duration": 6,
    "start_time": "2022-07-29T09:10:41.915Z"
   },
   {
    "duration": 6,
    "start_time": "2022-07-29T09:10:42.089Z"
   },
   {
    "duration": 5,
    "start_time": "2022-07-29T09:10:42.266Z"
   },
   {
    "duration": 8,
    "start_time": "2022-07-29T09:10:42.432Z"
   },
   {
    "duration": 5,
    "start_time": "2022-07-29T09:10:43.318Z"
   },
   {
    "duration": 17,
    "start_time": "2022-07-29T09:10:43.326Z"
   },
   {
    "duration": 4,
    "start_time": "2022-07-29T09:10:46.519Z"
   },
   {
    "duration": 8,
    "start_time": "2022-07-29T09:10:46.714Z"
   },
   {
    "duration": 335,
    "start_time": "2022-07-29T09:10:46.883Z"
   },
   {
    "duration": 5,
    "start_time": "2022-07-29T09:10:47.220Z"
   },
   {
    "duration": 10,
    "start_time": "2022-07-29T09:10:47.366Z"
   },
   {
    "duration": 307,
    "start_time": "2022-07-29T09:10:47.555Z"
   },
   {
    "duration": 9,
    "start_time": "2022-07-29T09:10:47.873Z"
   },
   {
    "duration": 12,
    "start_time": "2022-07-29T09:10:48.051Z"
   },
   {
    "duration": 8,
    "start_time": "2022-07-29T09:10:48.779Z"
   },
   {
    "duration": 8,
    "start_time": "2022-07-29T09:10:49.004Z"
   },
   {
    "duration": 3,
    "start_time": "2022-07-29T09:10:49.194Z"
   },
   {
    "duration": 11,
    "start_time": "2022-07-29T09:10:49.410Z"
   },
   {
    "duration": 12,
    "start_time": "2022-07-29T09:10:49.603Z"
   },
   {
    "duration": 14,
    "start_time": "2022-07-29T09:10:49.789Z"
   },
   {
    "duration": 4,
    "start_time": "2022-07-29T09:10:49.982Z"
   },
   {
    "duration": 5,
    "start_time": "2022-07-29T09:10:50.149Z"
   },
   {
    "duration": 9,
    "start_time": "2022-07-29T09:10:50.523Z"
   },
   {
    "duration": 282,
    "start_time": "2022-07-29T09:10:50.877Z"
   },
   {
    "duration": 360,
    "start_time": "2022-07-29T09:10:51.814Z"
   },
   {
    "duration": 360,
    "start_time": "2022-07-29T09:10:52.665Z"
   },
   {
    "duration": 289,
    "start_time": "2022-07-29T09:10:53.280Z"
   },
   {
    "duration": 373,
    "start_time": "2022-07-29T09:10:54.142Z"
   },
   {
    "duration": 6,
    "start_time": "2022-07-29T09:10:54.761Z"
   },
   {
    "duration": 7,
    "start_time": "2022-07-29T09:10:54.967Z"
   },
   {
    "duration": 144,
    "start_time": "2022-07-29T09:10:55.162Z"
   },
   {
    "duration": 10,
    "start_time": "2022-07-29T09:10:55.732Z"
   },
   {
    "duration": 7,
    "start_time": "2022-07-29T09:10:55.941Z"
   },
   {
    "duration": 5,
    "start_time": "2022-07-29T09:10:56.149Z"
   },
   {
    "duration": 173,
    "start_time": "2022-07-29T09:10:56.905Z"
   },
   {
    "duration": 184,
    "start_time": "2022-07-29T09:10:57.098Z"
   },
   {
    "duration": 5,
    "start_time": "2022-07-29T09:10:57.885Z"
   },
   {
    "duration": 4,
    "start_time": "2022-07-29T09:10:58.063Z"
   },
   {
    "duration": 4,
    "start_time": "2022-07-29T09:10:58.249Z"
   },
   {
    "duration": 10,
    "start_time": "2022-07-29T09:10:58.615Z"
   },
   {
    "duration": 7,
    "start_time": "2022-07-29T09:10:58.799Z"
   },
   {
    "duration": 8,
    "start_time": "2022-07-29T09:10:58.975Z"
   },
   {
    "duration": 672,
    "start_time": "2022-07-29T09:10:59.146Z"
   },
   {
    "duration": 8,
    "start_time": "2022-07-29T09:10:59.819Z"
   },
   {
    "duration": 5,
    "start_time": "2022-07-29T09:10:59.863Z"
   },
   {
    "duration": 48,
    "start_time": "2022-07-29T09:11:00.060Z"
   },
   {
    "duration": 50,
    "start_time": "2022-07-29T09:11:00.261Z"
   },
   {
    "duration": 55,
    "start_time": "2022-07-29T09:11:00.463Z"
   },
   {
    "duration": 72,
    "start_time": "2022-07-29T09:11:00.654Z"
   },
   {
    "duration": 146,
    "start_time": "2022-07-29T09:11:01.052Z"
   },
   {
    "duration": 6,
    "start_time": "2022-07-29T09:11:01.246Z"
   },
   {
    "duration": 7,
    "start_time": "2022-07-29T09:11:01.423Z"
   },
   {
    "duration": 165,
    "start_time": "2022-07-29T09:11:01.638Z"
   },
   {
    "duration": 10,
    "start_time": "2022-07-29T09:11:02.021Z"
   },
   {
    "duration": 9,
    "start_time": "2022-07-29T09:11:02.423Z"
   },
   {
    "duration": 12,
    "start_time": "2022-07-29T09:11:02.850Z"
   },
   {
    "duration": 30,
    "start_time": "2022-07-29T09:11:03.052Z"
   },
   {
    "duration": 14,
    "start_time": "2022-07-29T09:11:03.484Z"
   },
   {
    "duration": 9,
    "start_time": "2022-07-29T09:11:04.309Z"
   },
   {
    "duration": 10,
    "start_time": "2022-07-29T09:11:04.678Z"
   },
   {
    "duration": 5,
    "start_time": "2022-07-29T09:11:04.913Z"
   },
   {
    "duration": 5,
    "start_time": "2022-07-29T09:11:05.110Z"
   },
   {
    "duration": 10,
    "start_time": "2022-07-29T09:11:05.827Z"
   },
   {
    "duration": 10,
    "start_time": "2022-07-29T09:11:06.039Z"
   },
   {
    "duration": 1707,
    "start_time": "2022-07-29T22:15:29.960Z"
   },
   {
    "duration": 4,
    "start_time": "2022-07-29T22:15:31.669Z"
   },
   {
    "duration": 284,
    "start_time": "2022-07-29T22:15:31.675Z"
   },
   {
    "duration": 4,
    "start_time": "2022-07-29T22:15:31.961Z"
   },
   {
    "duration": 22,
    "start_time": "2022-07-29T22:15:31.969Z"
   },
   {
    "duration": 8,
    "start_time": "2022-07-29T22:15:31.993Z"
   },
   {
    "duration": 52,
    "start_time": "2022-07-29T22:15:32.003Z"
   },
   {
    "duration": 22,
    "start_time": "2022-07-29T22:15:32.058Z"
   },
   {
    "duration": 10,
    "start_time": "2022-07-29T22:15:32.082Z"
   },
   {
    "duration": 9,
    "start_time": "2022-07-29T22:15:32.094Z"
   },
   {
    "duration": 9,
    "start_time": "2022-07-29T22:15:32.105Z"
   },
   {
    "duration": 42,
    "start_time": "2022-07-29T22:15:32.120Z"
   },
   {
    "duration": 15,
    "start_time": "2022-07-29T22:15:32.165Z"
   },
   {
    "duration": 8,
    "start_time": "2022-07-29T22:15:32.185Z"
   },
   {
    "duration": 10,
    "start_time": "2022-07-29T22:15:32.195Z"
   },
   {
    "duration": 50,
    "start_time": "2022-07-29T22:15:32.208Z"
   },
   {
    "duration": 16,
    "start_time": "2022-07-29T22:15:32.260Z"
   },
   {
    "duration": 21,
    "start_time": "2022-07-29T22:15:32.278Z"
   },
   {
    "duration": 576,
    "start_time": "2022-07-29T22:15:32.302Z"
   },
   {
    "duration": 6,
    "start_time": "2022-07-29T22:15:32.879Z"
   },
   {
    "duration": 14,
    "start_time": "2022-07-29T22:15:32.886Z"
   },
   {
    "duration": 445,
    "start_time": "2022-07-29T22:15:32.902Z"
   },
   {
    "duration": 15,
    "start_time": "2022-07-29T22:15:33.351Z"
   },
   {
    "duration": 16,
    "start_time": "2022-07-29T22:15:33.368Z"
   },
   {
    "duration": 33,
    "start_time": "2022-07-29T22:15:33.386Z"
   },
   {
    "duration": 40,
    "start_time": "2022-07-29T22:15:33.421Z"
   },
   {
    "duration": 8,
    "start_time": "2022-07-29T22:15:33.463Z"
   },
   {
    "duration": 17,
    "start_time": "2022-07-29T22:15:33.473Z"
   },
   {
    "duration": 11,
    "start_time": "2022-07-29T22:15:33.492Z"
   },
   {
    "duration": 29,
    "start_time": "2022-07-29T22:15:33.505Z"
   },
   {
    "duration": 26,
    "start_time": "2022-07-29T22:15:33.536Z"
   },
   {
    "duration": 11,
    "start_time": "2022-07-29T22:15:33.564Z"
   },
   {
    "duration": 16,
    "start_time": "2022-07-29T22:15:33.577Z"
   },
   {
    "duration": 480,
    "start_time": "2022-07-29T22:15:33.595Z"
   },
   {
    "duration": 409,
    "start_time": "2022-07-29T22:15:34.077Z"
   },
   {
    "duration": 546,
    "start_time": "2022-07-29T22:15:34.488Z"
   },
   {
    "duration": 449,
    "start_time": "2022-07-29T22:15:35.038Z"
   },
   {
    "duration": 506,
    "start_time": "2022-07-29T22:15:35.489Z"
   },
   {
    "duration": 13,
    "start_time": "2022-07-29T22:15:35.997Z"
   },
   {
    "duration": 16,
    "start_time": "2022-07-29T22:15:36.012Z"
   },
   {
    "duration": 243,
    "start_time": "2022-07-29T22:15:36.036Z"
   },
   {
    "duration": 6,
    "start_time": "2022-07-29T22:15:36.281Z"
   },
   {
    "duration": 5,
    "start_time": "2022-07-29T22:15:36.289Z"
   },
   {
    "duration": 22,
    "start_time": "2022-07-29T22:15:36.295Z"
   },
   {
    "duration": 349,
    "start_time": "2022-07-29T22:15:36.319Z"
   },
   {
    "duration": 237,
    "start_time": "2022-07-29T22:15:36.669Z"
   },
   {
    "duration": 8,
    "start_time": "2022-07-29T22:15:36.908Z"
   },
   {
    "duration": 33,
    "start_time": "2022-07-29T22:15:36.921Z"
   },
   {
    "duration": 8,
    "start_time": "2022-07-29T22:15:36.956Z"
   },
   {
    "duration": 14,
    "start_time": "2022-07-29T22:15:36.966Z"
   },
   {
    "duration": 18,
    "start_time": "2022-07-29T22:15:36.981Z"
   },
   {
    "duration": 14,
    "start_time": "2022-07-29T22:15:37.001Z"
   },
   {
    "duration": 848,
    "start_time": "2022-07-29T22:15:37.032Z"
   },
   {
    "duration": 10,
    "start_time": "2022-07-29T22:15:37.882Z"
   },
   {
    "duration": 25,
    "start_time": "2022-07-29T22:15:37.893Z"
   },
   {
    "duration": 73,
    "start_time": "2022-07-29T22:15:37.921Z"
   },
   {
    "duration": 85,
    "start_time": "2022-07-29T22:15:37.996Z"
   },
   {
    "duration": 87,
    "start_time": "2022-07-29T22:15:38.083Z"
   },
   {
    "duration": 105,
    "start_time": "2022-07-29T22:15:38.172Z"
   },
   {
    "duration": 198,
    "start_time": "2022-07-29T22:15:38.279Z"
   },
   {
    "duration": 7,
    "start_time": "2022-07-29T22:15:38.478Z"
   },
   {
    "duration": 7,
    "start_time": "2022-07-29T22:15:38.487Z"
   },
   {
    "duration": 222,
    "start_time": "2022-07-29T22:15:38.496Z"
   },
   {
    "duration": 29,
    "start_time": "2022-07-29T22:15:38.726Z"
   },
   {
    "duration": 12,
    "start_time": "2022-07-29T22:15:38.758Z"
   },
   {
    "duration": 11,
    "start_time": "2022-07-29T22:15:38.772Z"
   },
   {
    "duration": 36,
    "start_time": "2022-07-29T22:15:38.785Z"
   },
   {
    "duration": 22,
    "start_time": "2022-07-29T22:15:38.838Z"
   },
   {
    "duration": 13,
    "start_time": "2022-07-29T22:15:38.862Z"
   },
   {
    "duration": 14,
    "start_time": "2022-07-29T22:15:38.877Z"
   },
   {
    "duration": 6,
    "start_time": "2022-07-29T22:15:38.893Z"
   },
   {
    "duration": 20,
    "start_time": "2022-07-29T22:15:38.901Z"
   },
   {
    "duration": 44,
    "start_time": "2022-07-29T22:15:38.927Z"
   },
   {
    "duration": 17,
    "start_time": "2022-07-29T22:15:38.973Z"
   },
   {
    "duration": 54,
    "start_time": "2022-07-30T12:41:42.949Z"
   },
   {
    "duration": 0,
    "start_time": "2022-07-30T12:41:43.005Z"
   },
   {
    "duration": 1259,
    "start_time": "2022-07-30T12:41:46.465Z"
   },
   {
    "duration": 4,
    "start_time": "2022-07-30T12:41:49.898Z"
   },
   {
    "duration": 187,
    "start_time": "2022-07-30T12:41:50.333Z"
   },
   {
    "duration": 4,
    "start_time": "2022-07-30T12:41:50.558Z"
   },
   {
    "duration": 16,
    "start_time": "2022-07-30T12:41:52.178Z"
   },
   {
    "duration": 7,
    "start_time": "2022-07-30T12:41:52.925Z"
   },
   {
    "duration": 12,
    "start_time": "2022-07-30T12:41:53.213Z"
   },
   {
    "duration": 10,
    "start_time": "2022-07-30T12:41:53.475Z"
   },
   {
    "duration": 10,
    "start_time": "2022-07-30T12:41:55.721Z"
   },
   {
    "duration": 5,
    "start_time": "2022-07-30T12:41:56.104Z"
   },
   {
    "duration": 7,
    "start_time": "2022-07-30T12:41:56.763Z"
   },
   {
    "duration": 5,
    "start_time": "2022-07-30T12:41:57.401Z"
   },
   {
    "duration": 5,
    "start_time": "2022-07-30T12:41:58.661Z"
   },
   {
    "duration": 6,
    "start_time": "2022-07-30T12:42:50.191Z"
   },
   {
    "duration": 5,
    "start_time": "2022-07-30T12:43:19.054Z"
   },
   {
    "duration": 5,
    "start_time": "2022-07-30T12:43:51.663Z"
   },
   {
    "duration": 72,
    "start_time": "2022-07-30T12:43:53.086Z"
   },
   {
    "duration": 9,
    "start_time": "2022-07-30T12:44:03.362Z"
   },
   {
    "duration": 3,
    "start_time": "2022-07-30T12:44:13.437Z"
   },
   {
    "duration": 2,
    "start_time": "2022-07-30T12:44:13.600Z"
   },
   {
    "duration": 70,
    "start_time": "2022-07-30T12:44:13.758Z"
   },
   {
    "duration": 3,
    "start_time": "2022-07-30T12:44:13.913Z"
   },
   {
    "duration": 7,
    "start_time": "2022-07-30T12:44:14.093Z"
   },
   {
    "duration": 5,
    "start_time": "2022-07-30T12:44:14.450Z"
   },
   {
    "duration": 7,
    "start_time": "2022-07-30T12:44:14.622Z"
   },
   {
    "duration": 6,
    "start_time": "2022-07-30T12:44:14.793Z"
   },
   {
    "duration": 7,
    "start_time": "2022-07-30T12:44:14.979Z"
   },
   {
    "duration": 5,
    "start_time": "2022-07-30T12:44:15.120Z"
   },
   {
    "duration": 7,
    "start_time": "2022-07-30T12:44:15.295Z"
   },
   {
    "duration": 13,
    "start_time": "2022-07-30T12:44:15.659Z"
   },
   {
    "duration": 7,
    "start_time": "2022-07-30T12:44:15.832Z"
   },
   {
    "duration": 6,
    "start_time": "2022-07-30T12:44:16.012Z"
   },
   {
    "duration": 13,
    "start_time": "2022-07-30T12:44:16.163Z"
   },
   {
    "duration": 12,
    "start_time": "2022-07-30T12:44:16.916Z"
   },
   {
    "duration": 5,
    "start_time": "2022-07-30T12:45:05.669Z"
   },
   {
    "duration": 5,
    "start_time": "2022-07-30T12:45:29.053Z"
   },
   {
    "duration": 5,
    "start_time": "2022-07-30T12:45:38.720Z"
   },
   {
    "duration": 10,
    "start_time": "2022-07-30T12:45:45.200Z"
   },
   {
    "duration": 5,
    "start_time": "2022-07-30T12:46:37.191Z"
   },
   {
    "duration": 4,
    "start_time": "2022-07-30T12:46:42.441Z"
   },
   {
    "duration": 4,
    "start_time": "2022-07-30T12:46:49.007Z"
   },
   {
    "duration": 4,
    "start_time": "2022-07-30T12:46:53.076Z"
   },
   {
    "duration": 6,
    "start_time": "2022-07-30T12:47:45.251Z"
   },
   {
    "duration": 6,
    "start_time": "2022-07-30T12:47:46.123Z"
   },
   {
    "duration": 5,
    "start_time": "2022-07-30T12:48:23.255Z"
   },
   {
    "duration": 5,
    "start_time": "2022-07-30T12:48:23.454Z"
   },
   {
    "duration": 9,
    "start_time": "2022-07-30T12:48:24.122Z"
   },
   {
    "duration": 9,
    "start_time": "2022-07-30T12:48:27.414Z"
   },
   {
    "duration": 10,
    "start_time": "2022-07-30T13:19:55.923Z"
   },
   {
    "duration": 3,
    "start_time": "2022-07-30T13:20:01.075Z"
   },
   {
    "duration": 3,
    "start_time": "2022-07-30T13:20:01.221Z"
   },
   {
    "duration": 71,
    "start_time": "2022-07-30T13:20:01.340Z"
   },
   {
    "duration": 2,
    "start_time": "2022-07-30T13:20:01.483Z"
   },
   {
    "duration": 8,
    "start_time": "2022-07-30T13:20:01.628Z"
   },
   {
    "duration": 6,
    "start_time": "2022-07-30T13:20:01.902Z"
   },
   {
    "duration": 8,
    "start_time": "2022-07-30T13:20:02.060Z"
   },
   {
    "duration": 5,
    "start_time": "2022-07-30T13:20:02.205Z"
   },
   {
    "duration": 7,
    "start_time": "2022-07-30T13:20:02.345Z"
   },
   {
    "duration": 6,
    "start_time": "2022-07-30T13:20:02.519Z"
   },
   {
    "duration": 7,
    "start_time": "2022-07-30T13:20:02.649Z"
   },
   {
    "duration": 4,
    "start_time": "2022-07-30T13:20:02.826Z"
   },
   {
    "duration": 4,
    "start_time": "2022-07-30T13:20:03.005Z"
   },
   {
    "duration": 7,
    "start_time": "2022-07-30T13:20:03.154Z"
   },
   {
    "duration": 6,
    "start_time": "2022-07-30T13:20:03.329Z"
   },
   {
    "duration": 6,
    "start_time": "2022-07-30T13:20:04.139Z"
   },
   {
    "duration": 9,
    "start_time": "2022-07-30T13:20:04.292Z"
   },
   {
    "duration": 349,
    "start_time": "2022-07-30T13:20:04.456Z"
   },
   {
    "duration": 4,
    "start_time": "2022-07-30T13:20:04.807Z"
   },
   {
    "duration": 10,
    "start_time": "2022-07-30T13:20:04.948Z"
   },
   {
    "duration": 297,
    "start_time": "2022-07-30T13:20:05.164Z"
   },
   {
    "duration": 9,
    "start_time": "2022-07-30T13:20:05.965Z"
   },
   {
    "duration": 8,
    "start_time": "2022-07-30T13:20:06.176Z"
   },
   {
    "duration": 8,
    "start_time": "2022-07-30T13:20:06.728Z"
   },
   {
    "duration": 7,
    "start_time": "2022-07-30T13:20:06.911Z"
   },
   {
    "duration": 3,
    "start_time": "2022-07-30T13:20:07.095Z"
   },
   {
    "duration": 10,
    "start_time": "2022-07-30T13:20:07.287Z"
   },
   {
    "duration": 11,
    "start_time": "2022-07-30T13:20:07.470Z"
   },
   {
    "duration": 14,
    "start_time": "2022-07-30T13:20:07.674Z"
   },
   {
    "duration": 4,
    "start_time": "2022-07-30T13:20:07.858Z"
   },
   {
    "duration": 4,
    "start_time": "2022-07-30T13:20:08.037Z"
   },
   {
    "duration": 9,
    "start_time": "2022-07-30T13:20:08.452Z"
   },
   {
    "duration": 354,
    "start_time": "2022-07-30T13:20:08.764Z"
   },
   {
    "duration": 261,
    "start_time": "2022-07-30T13:20:13.591Z"
   },
   {
    "duration": 418,
    "start_time": "2022-07-30T13:20:35.532Z"
   },
   {
    "duration": 286,
    "start_time": "2022-07-30T13:20:45.153Z"
   },
   {
    "duration": 354,
    "start_time": "2022-07-30T13:20:49.149Z"
   },
   {
    "duration": 6,
    "start_time": "2022-07-30T13:20:54.910Z"
   },
   {
    "duration": 7,
    "start_time": "2022-07-30T13:20:55.405Z"
   },
   {
    "duration": 146,
    "start_time": "2022-07-30T13:20:56.120Z"
   },
   {
    "duration": 5,
    "start_time": "2022-07-30T13:21:02.164Z"
   },
   {
    "duration": 4,
    "start_time": "2022-07-30T13:21:02.353Z"
   },
   {
    "duration": 5,
    "start_time": "2022-07-30T13:21:02.538Z"
   },
   {
    "duration": 236,
    "start_time": "2022-07-30T13:21:03.513Z"
   },
   {
    "duration": 184,
    "start_time": "2022-07-30T13:21:03.750Z"
   },
   {
    "duration": 5,
    "start_time": "2022-07-30T13:21:09.084Z"
   },
   {
    "duration": 4,
    "start_time": "2022-07-30T13:21:09.273Z"
   },
   {
    "duration": 4,
    "start_time": "2022-07-30T13:21:09.432Z"
   },
   {
    "duration": 9,
    "start_time": "2022-07-30T13:21:09.782Z"
   },
   {
    "duration": 6,
    "start_time": "2022-07-30T13:21:09.920Z"
   },
   {
    "duration": 8,
    "start_time": "2022-07-30T13:21:10.109Z"
   },
   {
    "duration": 639,
    "start_time": "2022-07-30T13:21:10.331Z"
   },
   {
    "duration": 8,
    "start_time": "2022-07-30T13:21:10.971Z"
   },
   {
    "duration": 9,
    "start_time": "2022-07-30T13:21:10.981Z"
   },
   {
    "duration": 46,
    "start_time": "2022-07-30T13:21:11.078Z"
   },
   {
    "duration": 54,
    "start_time": "2022-07-30T13:21:11.291Z"
   },
   {
    "duration": 58,
    "start_time": "2022-07-30T13:21:11.471Z"
   },
   {
    "duration": 72,
    "start_time": "2022-07-30T13:21:11.650Z"
   },
   {
    "duration": 128,
    "start_time": "2022-07-30T13:21:11.975Z"
   },
   {
    "duration": 6,
    "start_time": "2022-07-30T13:21:12.192Z"
   },
   {
    "duration": 6,
    "start_time": "2022-07-30T13:21:12.375Z"
   },
   {
    "duration": 195,
    "start_time": "2022-07-30T13:21:12.555Z"
   },
   {
    "duration": 10,
    "start_time": "2022-07-30T13:21:13.090Z"
   },
   {
    "duration": 8,
    "start_time": "2022-07-30T13:21:13.811Z"
   },
   {
    "duration": 8,
    "start_time": "2022-07-30T13:21:14.122Z"
   },
   {
    "duration": 20,
    "start_time": "2022-07-30T13:21:14.306Z"
   },
   {
    "duration": 13,
    "start_time": "2022-07-30T13:21:14.789Z"
   },
   {
    "duration": 1079,
    "start_time": "2022-07-31T05:30:43.581Z"
   },
   {
    "duration": 2,
    "start_time": "2022-07-31T05:30:44.662Z"
   },
   {
    "duration": 199,
    "start_time": "2022-07-31T05:30:44.665Z"
   },
   {
    "duration": 3,
    "start_time": "2022-07-31T05:30:44.866Z"
   },
   {
    "duration": 16,
    "start_time": "2022-07-31T05:30:44.871Z"
   },
   {
    "duration": 6,
    "start_time": "2022-07-31T05:30:44.888Z"
   },
   {
    "duration": 9,
    "start_time": "2022-07-31T05:30:44.896Z"
   },
   {
    "duration": 8,
    "start_time": "2022-07-31T05:30:44.906Z"
   },
   {
    "duration": 6,
    "start_time": "2022-07-31T05:30:44.915Z"
   },
   {
    "duration": 7,
    "start_time": "2022-07-31T05:30:44.923Z"
   },
   {
    "duration": 7,
    "start_time": "2022-07-31T05:30:44.931Z"
   },
   {
    "duration": 37,
    "start_time": "2022-07-31T05:30:44.939Z"
   },
   {
    "duration": 6,
    "start_time": "2022-07-31T05:30:44.977Z"
   },
   {
    "duration": 18,
    "start_time": "2022-07-31T05:30:44.985Z"
   },
   {
    "duration": 25,
    "start_time": "2022-07-31T05:30:45.006Z"
   },
   {
    "duration": 9,
    "start_time": "2022-07-31T05:30:45.033Z"
   },
   {
    "duration": 12,
    "start_time": "2022-07-31T05:30:45.043Z"
   },
   {
    "duration": 332,
    "start_time": "2022-07-31T05:30:45.056Z"
   },
   {
    "duration": 5,
    "start_time": "2022-07-31T05:30:45.389Z"
   },
   {
    "duration": 13,
    "start_time": "2022-07-31T05:30:45.395Z"
   },
   {
    "duration": 268,
    "start_time": "2022-07-31T05:30:45.410Z"
   },
   {
    "duration": 10,
    "start_time": "2022-07-31T05:30:45.680Z"
   },
   {
    "duration": 14,
    "start_time": "2022-07-31T05:30:45.691Z"
   },
   {
    "duration": 11,
    "start_time": "2022-07-31T05:30:45.707Z"
   },
   {
    "duration": 8,
    "start_time": "2022-07-31T05:30:45.720Z"
   },
   {
    "duration": 4,
    "start_time": "2022-07-31T05:30:45.729Z"
   },
   {
    "duration": 39,
    "start_time": "2022-07-31T05:30:45.734Z"
   },
   {
    "duration": 14,
    "start_time": "2022-07-31T05:30:45.777Z"
   },
   {
    "duration": 17,
    "start_time": "2022-07-31T05:30:45.793Z"
   },
   {
    "duration": 4,
    "start_time": "2022-07-31T05:30:45.812Z"
   },
   {
    "duration": 10,
    "start_time": "2022-07-31T05:30:45.817Z"
   },
   {
    "duration": 10,
    "start_time": "2022-07-31T05:30:45.828Z"
   },
   {
    "duration": 351,
    "start_time": "2022-07-31T05:30:45.840Z"
   },
   {
    "duration": 258,
    "start_time": "2022-07-31T05:30:46.193Z"
   },
   {
    "duration": 371,
    "start_time": "2022-07-31T05:30:46.453Z"
   },
   {
    "duration": 279,
    "start_time": "2022-07-31T05:30:46.825Z"
   },
   {
    "duration": 332,
    "start_time": "2022-07-31T05:30:47.105Z"
   },
   {
    "duration": 6,
    "start_time": "2022-07-31T05:30:47.438Z"
   },
   {
    "duration": 6,
    "start_time": "2022-07-31T05:30:47.446Z"
   },
   {
    "duration": 150,
    "start_time": "2022-07-31T05:30:47.453Z"
   },
   {
    "duration": 5,
    "start_time": "2022-07-31T05:30:47.604Z"
   },
   {
    "duration": 7,
    "start_time": "2022-07-31T05:30:47.610Z"
   },
   {
    "duration": 10,
    "start_time": "2022-07-31T05:30:47.618Z"
   },
   {
    "duration": 251,
    "start_time": "2022-07-31T05:30:47.629Z"
   },
   {
    "duration": 169,
    "start_time": "2022-07-31T05:30:47.881Z"
   },
   {
    "duration": 5,
    "start_time": "2022-07-31T05:30:48.052Z"
   },
   {
    "duration": 19,
    "start_time": "2022-07-31T05:30:48.058Z"
   },
   {
    "duration": 5,
    "start_time": "2022-07-31T05:30:48.078Z"
   },
   {
    "duration": 11,
    "start_time": "2022-07-31T05:30:48.085Z"
   },
   {
    "duration": 14,
    "start_time": "2022-07-31T05:30:48.097Z"
   },
   {
    "duration": 10,
    "start_time": "2022-07-31T05:30:48.112Z"
   },
   {
    "duration": 641,
    "start_time": "2022-07-31T05:30:48.123Z"
   },
   {
    "duration": 12,
    "start_time": "2022-07-31T05:30:48.766Z"
   },
   {
    "duration": 10,
    "start_time": "2022-07-31T05:30:48.780Z"
   },
   {
    "duration": 47,
    "start_time": "2022-07-31T05:30:48.792Z"
   },
   {
    "duration": 68,
    "start_time": "2022-07-31T05:30:48.840Z"
   },
   {
    "duration": 67,
    "start_time": "2022-07-31T05:30:48.909Z"
   },
   {
    "duration": 64,
    "start_time": "2022-07-31T05:30:48.977Z"
   },
   {
    "duration": 142,
    "start_time": "2022-07-31T05:30:49.043Z"
   },
   {
    "duration": 6,
    "start_time": "2022-07-31T05:30:49.187Z"
   },
   {
    "duration": 7,
    "start_time": "2022-07-31T05:30:49.194Z"
   },
   {
    "duration": 145,
    "start_time": "2022-07-31T05:30:49.203Z"
   },
   {
    "duration": 10,
    "start_time": "2022-07-31T05:30:49.349Z"
   },
   {
    "duration": 20,
    "start_time": "2022-07-31T05:30:49.361Z"
   },
   {
    "duration": 9,
    "start_time": "2022-07-31T05:30:49.382Z"
   },
   {
    "duration": 19,
    "start_time": "2022-07-31T05:30:49.393Z"
   },
   {
    "duration": 14,
    "start_time": "2022-07-31T05:30:49.414Z"
   },
   {
    "duration": 13,
    "start_time": "2022-07-31T05:33:41.798Z"
   },
   {
    "duration": 14,
    "start_time": "2022-07-31T05:42:39.475Z"
   },
   {
    "duration": 1068,
    "start_time": "2022-07-31T05:44:15.117Z"
   },
   {
    "duration": 3,
    "start_time": "2022-07-31T05:44:16.186Z"
   },
   {
    "duration": 81,
    "start_time": "2022-07-31T05:44:16.190Z"
   },
   {
    "duration": 3,
    "start_time": "2022-07-31T05:44:16.273Z"
   },
   {
    "duration": 13,
    "start_time": "2022-07-31T05:44:16.277Z"
   },
   {
    "duration": 7,
    "start_time": "2022-07-31T05:44:16.292Z"
   },
   {
    "duration": 24,
    "start_time": "2022-07-31T05:44:16.301Z"
   },
   {
    "duration": 9,
    "start_time": "2022-07-31T05:44:16.328Z"
   },
   {
    "duration": 10,
    "start_time": "2022-07-31T05:44:16.339Z"
   },
   {
    "duration": 24,
    "start_time": "2022-07-31T05:44:16.352Z"
   },
   {
    "duration": 8,
    "start_time": "2022-07-31T05:44:16.378Z"
   },
   {
    "duration": 7,
    "start_time": "2022-07-31T05:44:16.387Z"
   },
   {
    "duration": 5,
    "start_time": "2022-07-31T05:44:16.396Z"
   },
   {
    "duration": 7,
    "start_time": "2022-07-31T05:44:16.403Z"
   },
   {
    "duration": 6,
    "start_time": "2022-07-31T05:44:16.412Z"
   },
   {
    "duration": 6,
    "start_time": "2022-07-31T05:44:16.419Z"
   },
   {
    "duration": 9,
    "start_time": "2022-07-31T05:44:16.426Z"
   },
   {
    "duration": 355,
    "start_time": "2022-07-31T05:44:16.437Z"
   },
   {
    "duration": 5,
    "start_time": "2022-07-31T05:44:16.794Z"
   },
   {
    "duration": 26,
    "start_time": "2022-07-31T05:44:16.800Z"
   },
   {
    "duration": 286,
    "start_time": "2022-07-31T05:44:16.827Z"
   },
   {
    "duration": 9,
    "start_time": "2022-07-31T05:44:17.114Z"
   },
   {
    "duration": 26,
    "start_time": "2022-07-31T05:44:17.124Z"
   },
   {
    "duration": 25,
    "start_time": "2022-07-31T05:44:17.151Z"
   },
   {
    "duration": 22,
    "start_time": "2022-07-31T05:44:17.178Z"
   },
   {
    "duration": 17,
    "start_time": "2022-07-31T05:44:17.201Z"
   },
   {
    "duration": 24,
    "start_time": "2022-07-31T05:44:17.220Z"
   },
   {
    "duration": 15,
    "start_time": "2022-07-31T05:44:17.248Z"
   },
   {
    "duration": 27,
    "start_time": "2022-07-31T05:44:17.264Z"
   },
   {
    "duration": 24,
    "start_time": "2022-07-31T05:44:17.293Z"
   },
   {
    "duration": 13,
    "start_time": "2022-07-31T05:44:17.319Z"
   },
   {
    "duration": 30,
    "start_time": "2022-07-31T05:44:17.333Z"
   },
   {
    "duration": 321,
    "start_time": "2022-07-31T05:44:17.365Z"
   },
   {
    "duration": 270,
    "start_time": "2022-07-31T05:44:17.687Z"
   },
   {
    "duration": 391,
    "start_time": "2022-07-31T05:44:17.959Z"
   },
   {
    "duration": 290,
    "start_time": "2022-07-31T05:44:18.352Z"
   },
   {
    "duration": 399,
    "start_time": "2022-07-31T05:44:18.643Z"
   },
   {
    "duration": 6,
    "start_time": "2022-07-31T05:44:19.044Z"
   },
   {
    "duration": 7,
    "start_time": "2022-07-31T05:44:19.052Z"
   },
   {
    "duration": 151,
    "start_time": "2022-07-31T05:44:19.060Z"
   },
   {
    "duration": 5,
    "start_time": "2022-07-31T05:44:19.213Z"
   },
   {
    "duration": 11,
    "start_time": "2022-07-31T05:44:19.220Z"
   },
   {
    "duration": 8,
    "start_time": "2022-07-31T05:44:19.232Z"
   },
   {
    "duration": 244,
    "start_time": "2022-07-31T05:44:19.241Z"
   },
   {
    "duration": 168,
    "start_time": "2022-07-31T05:44:19.487Z"
   },
   {
    "duration": 6,
    "start_time": "2022-07-31T05:44:19.657Z"
   },
   {
    "duration": 4,
    "start_time": "2022-07-31T05:44:19.673Z"
   },
   {
    "duration": 11,
    "start_time": "2022-07-31T05:44:19.679Z"
   },
   {
    "duration": 12,
    "start_time": "2022-07-31T05:44:19.691Z"
   },
   {
    "duration": 8,
    "start_time": "2022-07-31T05:44:19.704Z"
   },
   {
    "duration": 10,
    "start_time": "2022-07-31T05:44:19.714Z"
   },
   {
    "duration": 634,
    "start_time": "2022-07-31T05:44:19.725Z"
   },
   {
    "duration": 12,
    "start_time": "2022-07-31T05:44:20.361Z"
   },
   {
    "duration": 11,
    "start_time": "2022-07-31T05:44:20.374Z"
   },
   {
    "duration": 46,
    "start_time": "2022-07-31T05:44:20.386Z"
   },
   {
    "duration": 57,
    "start_time": "2022-07-31T05:44:20.434Z"
   },
   {
    "duration": 56,
    "start_time": "2022-07-31T05:44:20.493Z"
   },
   {
    "duration": 80,
    "start_time": "2022-07-31T05:44:20.552Z"
   },
   {
    "duration": 132,
    "start_time": "2022-07-31T05:44:20.634Z"
   },
   {
    "duration": 6,
    "start_time": "2022-07-31T05:44:20.772Z"
   },
   {
    "duration": 8,
    "start_time": "2022-07-31T05:44:20.780Z"
   },
   {
    "duration": 163,
    "start_time": "2022-07-31T05:44:20.790Z"
   },
   {
    "duration": 26,
    "start_time": "2022-07-31T05:44:20.955Z"
   },
   {
    "duration": 14,
    "start_time": "2022-07-31T05:44:20.983Z"
   },
   {
    "duration": 13,
    "start_time": "2022-07-31T05:44:20.999Z"
   },
   {
    "duration": 25,
    "start_time": "2022-07-31T05:44:21.014Z"
   },
   {
    "duration": 37,
    "start_time": "2022-07-31T05:44:21.042Z"
   },
   {
    "duration": 1453,
    "start_time": "2022-07-31T05:45:33.656Z"
   },
   {
    "duration": 13,
    "start_time": "2022-07-31T05:46:07.904Z"
   },
   {
    "duration": 4,
    "start_time": "2022-07-31T05:46:14.472Z"
   },
   {
    "duration": 1494,
    "start_time": "2022-07-31T12:50:36.267Z"
   },
   {
    "duration": 3,
    "start_time": "2022-07-31T12:50:37.764Z"
   },
   {
    "duration": 233,
    "start_time": "2022-07-31T12:50:37.770Z"
   },
   {
    "duration": 3,
    "start_time": "2022-07-31T12:50:38.005Z"
   },
   {
    "duration": 18,
    "start_time": "2022-07-31T12:50:38.009Z"
   },
   {
    "duration": 12,
    "start_time": "2022-07-31T12:50:38.872Z"
   },
   {
    "duration": 9,
    "start_time": "2022-07-31T12:50:39.047Z"
   },
   {
    "duration": 7,
    "start_time": "2022-07-31T12:50:39.231Z"
   },
   {
    "duration": 8,
    "start_time": "2022-07-31T12:50:39.555Z"
   },
   {
    "duration": 7,
    "start_time": "2022-07-31T12:50:39.732Z"
   },
   {
    "duration": 9,
    "start_time": "2022-07-31T12:50:39.876Z"
   },
   {
    "duration": 5,
    "start_time": "2022-07-31T12:50:40.094Z"
   },
   {
    "duration": 6,
    "start_time": "2022-07-31T12:50:40.238Z"
   },
   {
    "duration": 8,
    "start_time": "2022-07-31T12:50:40.435Z"
   },
   {
    "duration": 6,
    "start_time": "2022-07-31T12:50:40.591Z"
   },
   {
    "duration": 6,
    "start_time": "2022-07-31T12:50:41.675Z"
   },
   {
    "duration": 10,
    "start_time": "2022-07-31T12:50:41.903Z"
   },
   {
    "duration": 406,
    "start_time": "2022-07-31T12:50:42.075Z"
   },
   {
    "duration": 5,
    "start_time": "2022-07-31T12:50:42.483Z"
   },
   {
    "duration": 10,
    "start_time": "2022-07-31T12:50:42.670Z"
   },
   {
    "duration": 354,
    "start_time": "2022-07-31T12:50:42.832Z"
   },
   {
    "duration": 19,
    "start_time": "2022-07-31T12:50:43.188Z"
   },
   {
    "duration": 11,
    "start_time": "2022-07-31T12:50:43.357Z"
   },
   {
    "duration": 12,
    "start_time": "2022-07-31T12:50:43.939Z"
   },
   {
    "duration": 11,
    "start_time": "2022-07-31T12:50:44.133Z"
   },
   {
    "duration": 4,
    "start_time": "2022-07-31T12:50:44.306Z"
   },
   {
    "duration": 16,
    "start_time": "2022-07-31T12:50:44.662Z"
   },
   {
    "duration": 18,
    "start_time": "2022-07-31T12:50:44.834Z"
   },
   {
    "duration": 17,
    "start_time": "2022-07-31T12:50:45.031Z"
   },
   {
    "duration": 5,
    "start_time": "2022-07-31T12:50:45.203Z"
   },
   {
    "duration": 6,
    "start_time": "2022-07-31T12:50:45.399Z"
   },
   {
    "duration": 14,
    "start_time": "2022-07-31T12:50:45.603Z"
   },
   {
    "duration": 416,
    "start_time": "2022-07-31T12:50:45.977Z"
   },
   {
    "duration": 357,
    "start_time": "2022-07-31T12:50:47.051Z"
   },
   {
    "duration": 482,
    "start_time": "2022-07-31T12:50:47.868Z"
   },
   {
    "duration": 323,
    "start_time": "2022-07-31T12:50:48.564Z"
   },
   {
    "duration": 424,
    "start_time": "2022-07-31T12:50:49.473Z"
   },
   {
    "duration": 11,
    "start_time": "2022-07-31T12:50:50.131Z"
   },
   {
    "duration": 9,
    "start_time": "2022-07-31T12:50:50.318Z"
   },
   {
    "duration": 189,
    "start_time": "2022-07-31T12:50:50.503Z"
   },
   {
    "duration": 7,
    "start_time": "2022-07-31T12:50:51.234Z"
   },
   {
    "duration": 7,
    "start_time": "2022-07-31T12:50:51.434Z"
   },
   {
    "duration": 4,
    "start_time": "2022-07-31T12:50:51.789Z"
   },
   {
    "duration": 267,
    "start_time": "2022-07-31T12:50:52.639Z"
   },
   {
    "duration": 205,
    "start_time": "2022-07-31T12:50:52.908Z"
   },
   {
    "duration": 6,
    "start_time": "2022-07-31T12:50:54.091Z"
   },
   {
    "duration": 4,
    "start_time": "2022-07-31T12:50:54.330Z"
   },
   {
    "duration": 4,
    "start_time": "2022-07-31T12:50:54.548Z"
   },
   {
    "duration": 16,
    "start_time": "2022-07-31T12:50:54.944Z"
   },
   {
    "duration": 8,
    "start_time": "2022-07-31T12:50:55.151Z"
   },
   {
    "duration": 11,
    "start_time": "2022-07-31T12:50:55.338Z"
   },
   {
    "duration": 710,
    "start_time": "2022-07-31T12:50:55.536Z"
   },
   {
    "duration": 9,
    "start_time": "2022-07-31T12:50:56.248Z"
   },
   {
    "duration": 21,
    "start_time": "2022-07-31T12:50:56.259Z"
   },
   {
    "duration": 51,
    "start_time": "2022-07-31T12:50:56.366Z"
   },
   {
    "duration": 76,
    "start_time": "2022-07-31T12:50:56.595Z"
   },
   {
    "duration": 79,
    "start_time": "2022-07-31T12:50:56.839Z"
   },
   {
    "duration": 70,
    "start_time": "2022-07-31T12:50:57.037Z"
   },
   {
    "duration": 133,
    "start_time": "2022-07-31T12:50:57.450Z"
   },
   {
    "duration": 9,
    "start_time": "2022-07-31T12:50:57.671Z"
   },
   {
    "duration": 8,
    "start_time": "2022-07-31T12:50:57.875Z"
   },
   {
    "duration": 199,
    "start_time": "2022-07-31T12:50:58.100Z"
   },
   {
    "duration": 12,
    "start_time": "2022-07-31T12:50:58.732Z"
   },
   {
    "duration": 15,
    "start_time": "2022-07-31T12:51:01.052Z"
   },
   {
    "duration": 9,
    "start_time": "2022-07-31T12:51:01.774Z"
   },
   {
    "duration": 21,
    "start_time": "2022-07-31T12:51:02.040Z"
   },
   {
    "duration": 14,
    "start_time": "2022-07-31T12:51:02.863Z"
   },
   {
    "duration": 1479,
    "start_time": "2022-07-31T12:52:23.884Z"
   },
   {
    "duration": 1254,
    "start_time": "2022-07-31T12:53:27.401Z"
   },
   {
    "duration": 1330,
    "start_time": "2022-07-31T12:53:29.662Z"
   },
   {
    "duration": 1252,
    "start_time": "2022-07-31T12:53:33.922Z"
   },
   {
    "duration": 7,
    "start_time": "2022-07-31T12:53:40.902Z"
   },
   {
    "duration": 3,
    "start_time": "2022-07-31T12:53:41.044Z"
   },
   {
    "duration": 85,
    "start_time": "2022-07-31T12:53:41.266Z"
   },
   {
    "duration": 3,
    "start_time": "2022-07-31T12:53:41.543Z"
   },
   {
    "duration": 9,
    "start_time": "2022-07-31T12:53:41.724Z"
   },
   {
    "duration": 8,
    "start_time": "2022-07-31T12:53:42.806Z"
   },
   {
    "duration": 8,
    "start_time": "2022-07-31T12:53:43.620Z"
   },
   {
    "duration": 9,
    "start_time": "2022-07-31T12:53:44.211Z"
   },
   {
    "duration": 8,
    "start_time": "2022-07-31T12:53:44.430Z"
   },
   {
    "duration": 6,
    "start_time": "2022-07-31T12:53:44.842Z"
   },
   {
    "duration": 5,
    "start_time": "2022-07-31T12:53:45.140Z"
   },
   {
    "duration": 13,
    "start_time": "2022-07-31T12:53:45.703Z"
   },
   {
    "duration": 5,
    "start_time": "2022-07-31T12:53:46.194Z"
   },
   {
    "duration": 7,
    "start_time": "2022-07-31T12:53:47.134Z"
   },
   {
    "duration": 6,
    "start_time": "2022-07-31T12:53:47.960Z"
   },
   {
    "duration": 13,
    "start_time": "2022-07-31T12:53:48.599Z"
   },
   {
    "duration": 9,
    "start_time": "2022-07-31T12:53:50.199Z"
   },
   {
    "duration": 5,
    "start_time": "2022-07-31T12:55:02.230Z"
   },
   {
    "duration": 10,
    "start_time": "2022-07-31T12:55:12.301Z"
   },
   {
    "duration": 6,
    "start_time": "2022-07-31T12:55:13.138Z"
   },
   {
    "duration": 6,
    "start_time": "2022-07-31T12:56:46.326Z"
   },
   {
    "duration": 7,
    "start_time": "2022-07-31T12:57:01.229Z"
   },
   {
    "duration": 6,
    "start_time": "2022-07-31T12:57:05.069Z"
   },
   {
    "duration": 6,
    "start_time": "2022-07-31T12:57:05.845Z"
   },
   {
    "duration": 6,
    "start_time": "2022-07-31T12:57:06.358Z"
   },
   {
    "duration": 6,
    "start_time": "2022-07-31T12:57:06.857Z"
   },
   {
    "duration": 7,
    "start_time": "2022-07-31T12:59:52.565Z"
   },
   {
    "duration": 5,
    "start_time": "2022-07-31T12:59:52.701Z"
   },
   {
    "duration": 84,
    "start_time": "2022-07-31T12:59:52.861Z"
   },
   {
    "duration": 3,
    "start_time": "2022-07-31T12:59:53.020Z"
   },
   {
    "duration": 9,
    "start_time": "2022-07-31T12:59:53.212Z"
   },
   {
    "duration": 7,
    "start_time": "2022-07-31T12:59:53.524Z"
   },
   {
    "duration": 9,
    "start_time": "2022-07-31T12:59:53.720Z"
   },
   {
    "duration": 7,
    "start_time": "2022-07-31T12:59:53.867Z"
   },
   {
    "duration": 8,
    "start_time": "2022-07-31T12:59:54.058Z"
   },
   {
    "duration": 7,
    "start_time": "2022-07-31T12:59:54.245Z"
   },
   {
    "duration": 6,
    "start_time": "2022-07-31T12:59:54.429Z"
   },
   {
    "duration": 7,
    "start_time": "2022-07-31T12:59:54.612Z"
   },
   {
    "duration": 5,
    "start_time": "2022-07-31T12:59:54.818Z"
   },
   {
    "duration": 6,
    "start_time": "2022-07-31T12:59:55.019Z"
   },
   {
    "duration": 7,
    "start_time": "2022-07-31T12:59:55.389Z"
   },
   {
    "duration": 4,
    "start_time": "2022-07-31T12:59:55.565Z"
   },
   {
    "duration": 8,
    "start_time": "2022-07-31T12:59:55.753Z"
   },
   {
    "duration": 8,
    "start_time": "2022-07-31T12:59:55.932Z"
   },
   {
    "duration": 8,
    "start_time": "2022-07-31T12:59:56.161Z"
   },
   {
    "duration": 6,
    "start_time": "2022-07-31T12:59:56.401Z"
   },
   {
    "duration": 7,
    "start_time": "2022-07-31T13:05:37.955Z"
   },
   {
    "duration": 7,
    "start_time": "2022-07-31T13:08:13.820Z"
   },
   {
    "duration": 6,
    "start_time": "2022-07-31T13:08:14.223Z"
   },
   {
    "duration": 4,
    "start_time": "2022-07-31T13:08:14.560Z"
   },
   {
    "duration": 7,
    "start_time": "2022-07-31T13:08:14.840Z"
   },
   {
    "duration": 6,
    "start_time": "2022-07-31T13:08:15.195Z"
   },
   {
    "duration": 7,
    "start_time": "2022-07-31T13:08:15.363Z"
   },
   {
    "duration": 7,
    "start_time": "2022-07-31T13:08:15.839Z"
   },
   {
    "duration": 6,
    "start_time": "2022-07-31T13:09:14.352Z"
   },
   {
    "duration": 6,
    "start_time": "2022-07-31T13:09:17.861Z"
   },
   {
    "duration": 6,
    "start_time": "2022-07-31T13:09:18.427Z"
   },
   {
    "duration": 7,
    "start_time": "2022-07-31T13:09:19.028Z"
   },
   {
    "duration": 7,
    "start_time": "2022-07-31T13:09:19.919Z"
   },
   {
    "duration": 8,
    "start_time": "2022-07-31T13:09:20.678Z"
   },
   {
    "duration": 5,
    "start_time": "2022-07-31T13:21:13.143Z"
   },
   {
    "duration": 4,
    "start_time": "2022-07-31T13:21:13.269Z"
   },
   {
    "duration": 89,
    "start_time": "2022-07-31T13:21:13.450Z"
   },
   {
    "duration": 4,
    "start_time": "2022-07-31T13:21:13.598Z"
   },
   {
    "duration": 11,
    "start_time": "2022-07-31T13:21:13.753Z"
   },
   {
    "duration": 6,
    "start_time": "2022-07-31T13:21:14.069Z"
   },
   {
    "duration": 10,
    "start_time": "2022-07-31T13:21:14.222Z"
   },
   {
    "duration": 7,
    "start_time": "2022-07-31T13:21:14.363Z"
   },
   {
    "duration": 8,
    "start_time": "2022-07-31T13:21:14.527Z"
   },
   {
    "duration": 6,
    "start_time": "2022-07-31T13:21:14.724Z"
   },
   {
    "duration": 8,
    "start_time": "2022-07-31T13:21:14.887Z"
   },
   {
    "duration": 6,
    "start_time": "2022-07-31T13:21:15.066Z"
   },
   {
    "duration": 5,
    "start_time": "2022-07-31T13:21:15.224Z"
   },
   {
    "duration": 7,
    "start_time": "2022-07-31T13:21:15.387Z"
   },
   {
    "duration": 7,
    "start_time": "2022-07-31T13:21:15.555Z"
   },
   {
    "duration": 5,
    "start_time": "2022-07-31T13:21:15.695Z"
   },
   {
    "duration": 7,
    "start_time": "2022-07-31T13:21:15.859Z"
   },
   {
    "duration": 9,
    "start_time": "2022-07-31T13:21:16.032Z"
   },
   {
    "duration": 8,
    "start_time": "2022-07-31T13:21:16.171Z"
   },
   {
    "duration": 8,
    "start_time": "2022-07-31T13:21:16.342Z"
   },
   {
    "duration": 8,
    "start_time": "2022-07-31T13:21:16.528Z"
   },
   {
    "duration": 5,
    "start_time": "2022-07-31T13:21:17.834Z"
   },
   {
    "duration": 13,
    "start_time": "2022-07-31T13:21:18.028Z"
   },
   {
    "duration": 381,
    "start_time": "2022-07-31T13:21:18.168Z"
   },
   {
    "duration": 7,
    "start_time": "2022-07-31T13:21:18.552Z"
   },
   {
    "duration": 14,
    "start_time": "2022-07-31T13:21:18.669Z"
   },
   {
    "duration": 354,
    "start_time": "2022-07-31T13:21:18.839Z"
   },
   {
    "duration": 17,
    "start_time": "2022-07-31T13:21:19.205Z"
   },
   {
    "duration": 12,
    "start_time": "2022-07-31T13:21:19.379Z"
   },
   {
    "duration": 8,
    "start_time": "2022-07-31T13:21:20.152Z"
   },
   {
    "duration": 9,
    "start_time": "2022-07-31T13:21:20.336Z"
   },
   {
    "duration": 4,
    "start_time": "2022-07-31T13:21:20.532Z"
   },
   {
    "duration": 11,
    "start_time": "2022-07-31T13:21:20.724Z"
   },
   {
    "duration": 12,
    "start_time": "2022-07-31T13:21:20.881Z"
   },
   {
    "duration": 16,
    "start_time": "2022-07-31T13:21:21.061Z"
   },
   {
    "duration": 5,
    "start_time": "2022-07-31T13:21:21.243Z"
   },
   {
    "duration": 7,
    "start_time": "2022-07-31T13:21:21.428Z"
   },
   {
    "duration": 14,
    "start_time": "2022-07-31T13:21:21.600Z"
   },
   {
    "duration": 361,
    "start_time": "2022-07-31T13:21:21.962Z"
   },
   {
    "duration": 338,
    "start_time": "2022-07-31T13:21:23.244Z"
   },
   {
    "duration": 442,
    "start_time": "2022-07-31T13:21:24.024Z"
   },
   {
    "duration": 348,
    "start_time": "2022-07-31T13:21:24.559Z"
   },
   {
    "duration": 457,
    "start_time": "2022-07-31T13:21:25.286Z"
   },
   {
    "duration": 9,
    "start_time": "2022-07-31T13:21:25.862Z"
   },
   {
    "duration": 10,
    "start_time": "2022-07-31T13:21:26.021Z"
   },
   {
    "duration": 293,
    "start_time": "2022-07-31T13:21:26.224Z"
   },
   {
    "duration": 16,
    "start_time": "2022-07-31T13:21:26.735Z"
   },
   {
    "duration": 6,
    "start_time": "2022-07-31T13:21:26.932Z"
   },
   {
    "duration": 6,
    "start_time": "2022-07-31T13:21:27.081Z"
   },
   {
    "duration": 195,
    "start_time": "2022-07-31T13:21:27.827Z"
   },
   {
    "duration": 224,
    "start_time": "2022-07-31T13:21:28.024Z"
   },
   {
    "duration": 7,
    "start_time": "2022-07-31T13:21:28.988Z"
   },
   {
    "duration": 5,
    "start_time": "2022-07-31T13:21:29.065Z"
   },
   {
    "duration": 6,
    "start_time": "2022-07-31T13:21:29.248Z"
   },
   {
    "duration": 11,
    "start_time": "2022-07-31T13:21:30.342Z"
   },
   {
    "duration": 12,
    "start_time": "2022-07-31T13:21:30.356Z"
   },
   {
    "duration": 13,
    "start_time": "2022-07-31T13:21:30.370Z"
   },
   {
    "duration": 803,
    "start_time": "2022-07-31T13:21:30.385Z"
   },
   {
    "duration": 32,
    "start_time": "2022-07-31T13:21:31.190Z"
   },
   {
    "duration": 25,
    "start_time": "2022-07-31T13:21:31.225Z"
   },
   {
    "duration": 68,
    "start_time": "2022-07-31T13:21:31.252Z"
   },
   {
    "duration": 70,
    "start_time": "2022-07-31T13:21:31.322Z"
   },
   {
    "duration": 76,
    "start_time": "2022-07-31T13:21:32.015Z"
   },
   {
    "duration": 78,
    "start_time": "2022-07-31T13:21:32.166Z"
   },
   {
    "duration": 153,
    "start_time": "2022-07-31T13:21:32.594Z"
   },
   {
    "duration": 7,
    "start_time": "2022-07-31T13:21:32.792Z"
   },
   {
    "duration": 7,
    "start_time": "2022-07-31T13:21:33.034Z"
   },
   {
    "duration": 199,
    "start_time": "2022-07-31T13:21:33.250Z"
   },
   {
    "duration": 14,
    "start_time": "2022-07-31T13:21:33.882Z"
   },
   {
    "duration": 15,
    "start_time": "2022-07-31T13:21:34.798Z"
   },
   {
    "duration": 9,
    "start_time": "2022-07-31T13:21:35.168Z"
   },
   {
    "duration": 24,
    "start_time": "2022-07-31T13:21:35.382Z"
   },
   {
    "duration": 16,
    "start_time": "2022-07-31T13:21:35.983Z"
   },
   {
    "duration": 1609,
    "start_time": "2022-07-31T15:46:17.484Z"
   },
   {
    "duration": 4,
    "start_time": "2022-07-31T15:46:19.096Z"
   },
   {
    "duration": 279,
    "start_time": "2022-07-31T15:46:19.102Z"
   },
   {
    "duration": 3,
    "start_time": "2022-07-31T15:46:19.385Z"
   },
   {
    "duration": 30,
    "start_time": "2022-07-31T15:46:19.390Z"
   },
   {
    "duration": 30,
    "start_time": "2022-07-31T15:46:19.423Z"
   },
   {
    "duration": 52,
    "start_time": "2022-07-31T15:46:19.461Z"
   },
   {
    "duration": 20,
    "start_time": "2022-07-31T15:46:19.515Z"
   },
   {
    "duration": 55,
    "start_time": "2022-07-31T15:46:19.542Z"
   },
   {
    "duration": 27,
    "start_time": "2022-07-31T15:46:19.598Z"
   },
   {
    "duration": 50,
    "start_time": "2022-07-31T15:46:19.626Z"
   },
   {
    "duration": 27,
    "start_time": "2022-07-31T15:46:19.678Z"
   },
   {
    "duration": 35,
    "start_time": "2022-07-31T15:46:19.706Z"
   },
   {
    "duration": 50,
    "start_time": "2022-07-31T15:46:19.745Z"
   },
   {
    "duration": 79,
    "start_time": "2022-07-31T15:46:19.797Z"
   },
   {
    "duration": 8,
    "start_time": "2022-07-31T15:46:19.877Z"
   },
   {
    "duration": 10,
    "start_time": "2022-07-31T15:46:19.887Z"
   },
   {
    "duration": 11,
    "start_time": "2022-07-31T15:46:19.899Z"
   },
   {
    "duration": 8,
    "start_time": "2022-07-31T15:46:19.911Z"
   },
   {
    "duration": 6,
    "start_time": "2022-07-31T15:46:19.921Z"
   },
   {
    "duration": 47,
    "start_time": "2022-07-31T15:46:19.928Z"
   },
   {
    "duration": 6,
    "start_time": "2022-07-31T15:46:19.977Z"
   },
   {
    "duration": 9,
    "start_time": "2022-07-31T15:46:19.984Z"
   },
   {
    "duration": 416,
    "start_time": "2022-07-31T15:46:19.995Z"
   },
   {
    "duration": 4,
    "start_time": "2022-07-31T15:46:20.413Z"
   },
   {
    "duration": 16,
    "start_time": "2022-07-31T15:46:20.419Z"
   },
   {
    "duration": 347,
    "start_time": "2022-07-31T15:46:20.439Z"
   },
   {
    "duration": 12,
    "start_time": "2022-07-31T15:46:20.788Z"
   },
   {
    "duration": 12,
    "start_time": "2022-07-31T15:46:20.802Z"
   },
   {
    "duration": 27,
    "start_time": "2022-07-31T15:46:20.816Z"
   },
   {
    "duration": 43,
    "start_time": "2022-07-31T15:46:20.845Z"
   },
   {
    "duration": 11,
    "start_time": "2022-07-31T15:46:20.889Z"
   },
   {
    "duration": 15,
    "start_time": "2022-07-31T15:46:20.902Z"
   },
   {
    "duration": 20,
    "start_time": "2022-07-31T15:46:20.919Z"
   },
   {
    "duration": 23,
    "start_time": "2022-07-31T15:46:20.945Z"
   },
   {
    "duration": 17,
    "start_time": "2022-07-31T15:46:20.969Z"
   },
   {
    "duration": 8,
    "start_time": "2022-07-31T15:46:20.988Z"
   },
   {
    "duration": 13,
    "start_time": "2022-07-31T15:46:20.997Z"
   },
   {
    "duration": 463,
    "start_time": "2022-07-31T15:46:21.012Z"
   },
   {
    "duration": 332,
    "start_time": "2022-07-31T15:46:21.478Z"
   },
   {
    "duration": 498,
    "start_time": "2022-07-31T15:46:21.816Z"
   },
   {
    "duration": 462,
    "start_time": "2022-07-31T15:46:22.316Z"
   },
   {
    "duration": 424,
    "start_time": "2022-07-31T15:46:22.780Z"
   },
   {
    "duration": 8,
    "start_time": "2022-07-31T15:46:23.207Z"
   },
   {
    "duration": 7,
    "start_time": "2022-07-31T15:46:23.217Z"
   },
   {
    "duration": 239,
    "start_time": "2022-07-31T15:46:23.239Z"
   },
   {
    "duration": 8,
    "start_time": "2022-07-31T15:46:23.479Z"
   },
   {
    "duration": 9,
    "start_time": "2022-07-31T15:46:23.488Z"
   },
   {
    "duration": 5,
    "start_time": "2022-07-31T15:46:23.499Z"
   },
   {
    "duration": 297,
    "start_time": "2022-07-31T15:46:23.506Z"
   },
   {
    "duration": 229,
    "start_time": "2022-07-31T15:46:23.804Z"
   },
   {
    "duration": 10,
    "start_time": "2022-07-31T15:46:24.036Z"
   },
   {
    "duration": 36,
    "start_time": "2022-07-31T15:46:24.048Z"
   },
   {
    "duration": 6,
    "start_time": "2022-07-31T15:46:24.086Z"
   },
   {
    "duration": 16,
    "start_time": "2022-07-31T15:46:24.094Z"
   },
   {
    "duration": 18,
    "start_time": "2022-07-31T15:46:24.111Z"
   },
   {
    "duration": 41,
    "start_time": "2022-07-31T15:46:24.131Z"
   },
   {
    "duration": 739,
    "start_time": "2022-07-31T15:46:24.174Z"
   },
   {
    "duration": 9,
    "start_time": "2022-07-31T15:46:24.915Z"
   },
   {
    "duration": 61,
    "start_time": "2022-07-31T15:46:24.926Z"
   },
   {
    "duration": 53,
    "start_time": "2022-07-31T15:46:24.989Z"
   },
   {
    "duration": 106,
    "start_time": "2022-07-31T15:46:25.044Z"
   },
   {
    "duration": 82,
    "start_time": "2022-07-31T15:46:25.151Z"
   },
   {
    "duration": 108,
    "start_time": "2022-07-31T15:46:25.235Z"
   },
   {
    "duration": 201,
    "start_time": "2022-07-31T15:46:25.345Z"
   },
   {
    "duration": 10,
    "start_time": "2022-07-31T15:46:25.549Z"
   },
   {
    "duration": 19,
    "start_time": "2022-07-31T15:46:25.561Z"
   },
   {
    "duration": 168,
    "start_time": "2022-07-31T15:46:25.582Z"
   },
   {
    "duration": 12,
    "start_time": "2022-07-31T15:46:25.756Z"
   },
   {
    "duration": 15,
    "start_time": "2022-07-31T15:46:25.769Z"
   },
   {
    "duration": 10,
    "start_time": "2022-07-31T15:46:25.786Z"
   },
   {
    "duration": 41,
    "start_time": "2022-07-31T15:46:25.798Z"
   },
   {
    "duration": 20,
    "start_time": "2022-07-31T15:46:25.844Z"
   },
   {
    "duration": 1881,
    "start_time": "2022-07-31T15:56:42.459Z"
   },
   {
    "duration": 1213,
    "start_time": "2022-07-31T15:57:44.261Z"
   },
   {
    "duration": 3,
    "start_time": "2022-07-31T15:57:45.476Z"
   },
   {
    "duration": 95,
    "start_time": "2022-07-31T15:57:45.480Z"
   },
   {
    "duration": 2,
    "start_time": "2022-07-31T15:57:45.577Z"
   },
   {
    "duration": 13,
    "start_time": "2022-07-31T15:57:45.581Z"
   },
   {
    "duration": 6,
    "start_time": "2022-07-31T15:57:45.595Z"
   },
   {
    "duration": 10,
    "start_time": "2022-07-31T15:57:45.602Z"
   },
   {
    "duration": 8,
    "start_time": "2022-07-31T15:57:45.614Z"
   },
   {
    "duration": 8,
    "start_time": "2022-07-31T15:57:45.623Z"
   },
   {
    "duration": 13,
    "start_time": "2022-07-31T15:57:45.632Z"
   },
   {
    "duration": 25,
    "start_time": "2022-07-31T15:57:45.646Z"
   },
   {
    "duration": 6,
    "start_time": "2022-07-31T15:57:45.672Z"
   },
   {
    "duration": 4,
    "start_time": "2022-07-31T15:57:45.680Z"
   },
   {
    "duration": 5,
    "start_time": "2022-07-31T15:57:45.686Z"
   },
   {
    "duration": 5,
    "start_time": "2022-07-31T15:57:45.693Z"
   },
   {
    "duration": 5,
    "start_time": "2022-07-31T15:57:45.700Z"
   },
   {
    "duration": 9,
    "start_time": "2022-07-31T15:57:45.706Z"
   },
   {
    "duration": 5,
    "start_time": "2022-07-31T15:57:45.717Z"
   },
   {
    "duration": 20,
    "start_time": "2022-07-31T15:57:45.723Z"
   },
   {
    "duration": 9,
    "start_time": "2022-07-31T15:57:45.744Z"
   },
   {
    "duration": 18,
    "start_time": "2022-07-31T15:57:45.755Z"
   },
   {
    "duration": 12,
    "start_time": "2022-07-31T15:57:58.569Z"
   },
   {
    "duration": 13,
    "start_time": "2022-07-31T16:21:51.985Z"
   },
   {
    "duration": 51,
    "start_time": "2022-07-31T16:22:26.913Z"
   },
   {
    "duration": 125,
    "start_time": "2022-07-31T16:22:37.315Z"
   },
   {
    "duration": 10,
    "start_time": "2022-07-31T16:22:47.598Z"
   },
   {
    "duration": 6,
    "start_time": "2022-07-31T16:23:54.383Z"
   },
   {
    "duration": 10,
    "start_time": "2022-07-31T16:24:03.533Z"
   },
   {
    "duration": 13,
    "start_time": "2022-07-31T16:32:59.382Z"
   },
   {
    "duration": 8,
    "start_time": "2022-07-31T16:33:10.563Z"
   }
  ],
  "kernelspec": {
   "display_name": "Python 3 (ipykernel)",
   "language": "python",
   "name": "python3"
  },
  "language_info": {
   "codemirror_mode": {
    "name": "ipython",
    "version": 3
   },
   "file_extension": ".py",
   "mimetype": "text/x-python",
   "name": "python",
   "nbconvert_exporter": "python",
   "pygments_lexer": "ipython3",
   "version": "3.9.12"
  },
  "toc": {
   "base_numbering": 1,
   "nav_menu": {},
   "number_sections": true,
   "sideBar": true,
   "skip_h1_title": true,
   "title_cell": "Table of Contents",
   "title_sidebar": "Contents",
   "toc_cell": false,
   "toc_position": {},
   "toc_section_display": true,
   "toc_window_display": false
  }
 },
 "nbformat": 4,
 "nbformat_minor": 2
}
